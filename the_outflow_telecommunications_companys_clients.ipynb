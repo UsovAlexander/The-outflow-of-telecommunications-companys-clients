{
 "cells": [
  {
   "cell_type": "markdown",
   "id": "b0197667",
   "metadata": {},
   "source": [
    "# The outflow of telecommunications company's clients\n",
    "\n",
    "The telecommunications operator wants to learn how to predict customer churn. If it is discovered that a user is planning to leave, they will be offered promotional codes and special conditions. The operator's team has collected personal data about certain clients, as well as information about their tariffs and contracts.\n",
    "\n",
    "## Services description\n",
    "\n",
    "The operator provides two main types of services:\n",
    "\n",
    "1. Landline telephone service. It is possible to connect the telephone to several lines at the same time.\n",
    "2. The Internet. The connection can be of two types: via a telephone line or a fiber-optic cable.\n",
    "\n",
    "The following services are also available:\n",
    "\n",
    "- Internet security: antivirus and blocking of unsafe sites;\n",
    "- Dedicated technical support line;\n",
    "- Cloud file storage for data backup;\n",
    "- Streaming TV and movie catalog.\n",
    "\n",
    "Customers can pay for services every month or sign a contract for 1-2 years. Various payment methods and the possibility of receiving an electronic receipt are available."
   ]
  },
  {
   "cell_type": "markdown",
   "id": "33a68b75",
   "metadata": {},
   "source": [
    "## Loading libraries and data"
   ]
  },
  {
   "cell_type": "code",
   "execution_count": 1,
   "id": "3afc6c2b",
   "metadata": {},
   "outputs": [
    {
     "name": "stdout",
     "output_type": "stream",
     "text": [
      "Requirement already satisfied: phik in /opt/anaconda3/lib/python3.9/site-packages (0.12.3)\n",
      "Requirement already satisfied: matplotlib>=2.2.3 in /opt/anaconda3/lib/python3.9/site-packages (from phik) (3.5.1)\n",
      "Requirement already satisfied: scipy>=1.5.2 in /opt/anaconda3/lib/python3.9/site-packages (from phik) (1.7.3)\n",
      "Requirement already satisfied: numpy>=1.18.0 in /opt/anaconda3/lib/python3.9/site-packages (from phik) (1.21.5)\n",
      "Requirement already satisfied: joblib>=0.14.1 in /opt/anaconda3/lib/python3.9/site-packages (from phik) (1.2.0)\n",
      "Requirement already satisfied: pandas>=0.25.1 in /opt/anaconda3/lib/python3.9/site-packages (from phik) (1.4.2)\n",
      "Requirement already satisfied: pyparsing>=2.2.1 in /opt/anaconda3/lib/python3.9/site-packages (from matplotlib>=2.2.3->phik) (3.0.4)\n",
      "Requirement already satisfied: kiwisolver>=1.0.1 in /opt/anaconda3/lib/python3.9/site-packages (from matplotlib>=2.2.3->phik) (1.4.2)\n",
      "Requirement already satisfied: packaging>=20.0 in /opt/anaconda3/lib/python3.9/site-packages (from matplotlib>=2.2.3->phik) (21.3)\n",
      "Requirement already satisfied: python-dateutil>=2.7 in /opt/anaconda3/lib/python3.9/site-packages (from matplotlib>=2.2.3->phik) (2.8.2)\n",
      "Requirement already satisfied: pillow>=6.2.0 in /opt/anaconda3/lib/python3.9/site-packages (from matplotlib>=2.2.3->phik) (9.0.1)\n",
      "Requirement already satisfied: fonttools>=4.22.0 in /opt/anaconda3/lib/python3.9/site-packages (from matplotlib>=2.2.3->phik) (4.25.0)\n",
      "Requirement already satisfied: cycler>=0.10 in /opt/anaconda3/lib/python3.9/site-packages (from matplotlib>=2.2.3->phik) (0.11.0)\n",
      "Requirement already satisfied: pytz>=2020.1 in /opt/anaconda3/lib/python3.9/site-packages (from pandas>=0.25.1->phik) (2021.3)\n",
      "Requirement already satisfied: six>=1.5 in /opt/anaconda3/lib/python3.9/site-packages (from python-dateutil>=2.7->matplotlib>=2.2.3->phik) (1.16.0)\n"
     ]
    }
   ],
   "source": [
    "!pip install phik"
   ]
  },
  {
   "cell_type": "code",
   "execution_count": 2,
   "id": "da1c8f58",
   "metadata": {},
   "outputs": [
    {
     "name": "stdout",
     "output_type": "stream",
     "text": [
      "Requirement already satisfied: sklearn in /opt/anaconda3/lib/python3.9/site-packages (0.0.post5)\n"
     ]
    }
   ],
   "source": [
    "!pip install -U sklearn"
   ]
  },
  {
   "cell_type": "code",
   "execution_count": 3,
   "id": "6f782623",
   "metadata": {},
   "outputs": [
    {
     "name": "stdout",
     "output_type": "stream",
     "text": [
      "Requirement already satisfied: catboost in /opt/anaconda3/lib/python3.9/site-packages (1.2)\n",
      "Requirement already satisfied: six in /opt/anaconda3/lib/python3.9/site-packages (from catboost) (1.16.0)\n",
      "Requirement already satisfied: pandas>=0.24 in /opt/anaconda3/lib/python3.9/site-packages (from catboost) (1.4.2)\n",
      "Requirement already satisfied: scipy in /opt/anaconda3/lib/python3.9/site-packages (from catboost) (1.7.3)\n",
      "Requirement already satisfied: matplotlib in /opt/anaconda3/lib/python3.9/site-packages (from catboost) (3.5.1)\n",
      "Requirement already satisfied: plotly in /opt/anaconda3/lib/python3.9/site-packages (from catboost) (5.6.0)\n",
      "Requirement already satisfied: numpy>=1.16.0 in /opt/anaconda3/lib/python3.9/site-packages (from catboost) (1.21.5)\n",
      "Requirement already satisfied: graphviz in /opt/anaconda3/lib/python3.9/site-packages (from catboost) (0.20.1)\n",
      "Requirement already satisfied: python-dateutil>=2.8.1 in /opt/anaconda3/lib/python3.9/site-packages (from pandas>=0.24->catboost) (2.8.2)\n",
      "Requirement already satisfied: pytz>=2020.1 in /opt/anaconda3/lib/python3.9/site-packages (from pandas>=0.24->catboost) (2021.3)\n",
      "Requirement already satisfied: kiwisolver>=1.0.1 in /opt/anaconda3/lib/python3.9/site-packages (from matplotlib->catboost) (1.4.2)\n",
      "Requirement already satisfied: fonttools>=4.22.0 in /opt/anaconda3/lib/python3.9/site-packages (from matplotlib->catboost) (4.25.0)\n",
      "Requirement already satisfied: cycler>=0.10 in /opt/anaconda3/lib/python3.9/site-packages (from matplotlib->catboost) (0.11.0)\n",
      "Requirement already satisfied: pillow>=6.2.0 in /opt/anaconda3/lib/python3.9/site-packages (from matplotlib->catboost) (9.0.1)\n",
      "Requirement already satisfied: packaging>=20.0 in /opt/anaconda3/lib/python3.9/site-packages (from matplotlib->catboost) (21.3)\n",
      "Requirement already satisfied: pyparsing>=2.2.1 in /opt/anaconda3/lib/python3.9/site-packages (from matplotlib->catboost) (3.0.4)\n",
      "Requirement already satisfied: tenacity>=6.2.0 in /opt/anaconda3/lib/python3.9/site-packages (from plotly->catboost) (8.0.1)\n"
     ]
    }
   ],
   "source": [
    "!pip install catboost"
   ]
  },
  {
   "cell_type": "code",
   "execution_count": 4,
   "id": "c07b0768",
   "metadata": {},
   "outputs": [],
   "source": [
    "import pandas as pd\n",
    "import numpy as np\n",
    "import matplotlib.pyplot as plt\n",
    "import seaborn as sns\n",
    "import phik\n",
    "\n",
    "from sklearn.preprocessing import StandardScaler, OneHotEncoder\n",
    "from sklearn.model_selection import train_test_split, GridSearchCV\n",
    "from sklearn.metrics import ConfusionMatrixDisplay, accuracy_score, RocCurveDisplay, roc_auc_score, f1_score\n",
    "from sklearn.compose import ColumnTransformer\n",
    "from sklearn.pipeline import Pipeline\n",
    "\n",
    "from sklearn.linear_model import LogisticRegression\n",
    "from sklearn.svm import SVC\n",
    "from catboost import CatBoostClassifier\n",
    "\n",
    "RANDOM_STATE = 150523"
   ]
  },
  {
   "cell_type": "code",
   "execution_count": 5,
   "id": "5573ba48",
   "metadata": {},
   "outputs": [],
   "source": [
    "try:\n",
    "    df_contract = pd.read_csv('/datasets/contract_new.csv')\n",
    "    df_personal = pd.read_csv('/datasets/personal_new.csv')\n",
    "    df_internet = pd.read_csv('/datasets/internet_new.csv')\n",
    "    df_phone = pd.read_csv('/datasets/phone_new.csv')\n",
    "except:\n",
    "    df_contract = pd.read_csv('https://code.s3.yandex.net/datasets/contract_new.csv')\n",
    "    df_personal = pd.read_csv('https://code.s3.yandex.net/datasets/personal_new.csv')\n",
    "    df_internet = pd.read_csv('https://code.s3.yandex.net/datasets/internet_new.csv')\n",
    "    df_phone = pd.read_csv('https://code.s3.yandex.net/datasets/phone_new.csv')"
   ]
  },
  {
   "cell_type": "code",
   "execution_count": 6,
   "id": "c24b3c15",
   "metadata": {},
   "outputs": [
    {
     "data": {
      "text/html": [
       "<div>\n",
       "<style scoped>\n",
       "    .dataframe tbody tr th:only-of-type {\n",
       "        vertical-align: middle;\n",
       "    }\n",
       "\n",
       "    .dataframe tbody tr th {\n",
       "        vertical-align: top;\n",
       "    }\n",
       "\n",
       "    .dataframe thead th {\n",
       "        text-align: right;\n",
       "    }\n",
       "</style>\n",
       "<table border=\"1\" class=\"dataframe\">\n",
       "  <thead>\n",
       "    <tr style=\"text-align: right;\">\n",
       "      <th></th>\n",
       "      <th>customerID</th>\n",
       "      <th>BeginDate</th>\n",
       "      <th>EndDate</th>\n",
       "      <th>Type</th>\n",
       "      <th>PaperlessBilling</th>\n",
       "      <th>PaymentMethod</th>\n",
       "      <th>MonthlyCharges</th>\n",
       "      <th>TotalCharges</th>\n",
       "    </tr>\n",
       "  </thead>\n",
       "  <tbody>\n",
       "    <tr>\n",
       "      <th>0</th>\n",
       "      <td>7590-VHVEG</td>\n",
       "      <td>2020-01-01</td>\n",
       "      <td>No</td>\n",
       "      <td>Month-to-month</td>\n",
       "      <td>Yes</td>\n",
       "      <td>Electronic check</td>\n",
       "      <td>29.85</td>\n",
       "      <td>31.04</td>\n",
       "    </tr>\n",
       "    <tr>\n",
       "      <th>1</th>\n",
       "      <td>5575-GNVDE</td>\n",
       "      <td>2017-04-01</td>\n",
       "      <td>No</td>\n",
       "      <td>One year</td>\n",
       "      <td>No</td>\n",
       "      <td>Mailed check</td>\n",
       "      <td>56.95</td>\n",
       "      <td>2071.84</td>\n",
       "    </tr>\n",
       "    <tr>\n",
       "      <th>2</th>\n",
       "      <td>3668-QPYBK</td>\n",
       "      <td>2019-10-01</td>\n",
       "      <td>No</td>\n",
       "      <td>Month-to-month</td>\n",
       "      <td>Yes</td>\n",
       "      <td>Mailed check</td>\n",
       "      <td>53.85</td>\n",
       "      <td>226.17</td>\n",
       "    </tr>\n",
       "    <tr>\n",
       "      <th>3</th>\n",
       "      <td>7795-CFOCW</td>\n",
       "      <td>2016-05-01</td>\n",
       "      <td>No</td>\n",
       "      <td>One year</td>\n",
       "      <td>No</td>\n",
       "      <td>Bank transfer (automatic)</td>\n",
       "      <td>42.30</td>\n",
       "      <td>1960.6</td>\n",
       "    </tr>\n",
       "    <tr>\n",
       "      <th>4</th>\n",
       "      <td>9237-HQITU</td>\n",
       "      <td>2019-09-01</td>\n",
       "      <td>No</td>\n",
       "      <td>Month-to-month</td>\n",
       "      <td>Yes</td>\n",
       "      <td>Electronic check</td>\n",
       "      <td>70.70</td>\n",
       "      <td>353.5</td>\n",
       "    </tr>\n",
       "  </tbody>\n",
       "</table>\n",
       "</div>"
      ],
      "text/plain": [
       "   customerID   BeginDate EndDate            Type PaperlessBilling  \\\n",
       "0  7590-VHVEG  2020-01-01      No  Month-to-month              Yes   \n",
       "1  5575-GNVDE  2017-04-01      No        One year               No   \n",
       "2  3668-QPYBK  2019-10-01      No  Month-to-month              Yes   \n",
       "3  7795-CFOCW  2016-05-01      No        One year               No   \n",
       "4  9237-HQITU  2019-09-01      No  Month-to-month              Yes   \n",
       "\n",
       "               PaymentMethod  MonthlyCharges TotalCharges  \n",
       "0           Electronic check           29.85        31.04  \n",
       "1               Mailed check           56.95      2071.84  \n",
       "2               Mailed check           53.85       226.17  \n",
       "3  Bank transfer (automatic)           42.30       1960.6  \n",
       "4           Electronic check           70.70        353.5  "
      ]
     },
     "execution_count": 6,
     "metadata": {},
     "output_type": "execute_result"
    }
   ],
   "source": [
    "df_contract.head()"
   ]
  },
  {
   "cell_type": "code",
   "execution_count": 7,
   "id": "89fc7936",
   "metadata": {},
   "outputs": [
    {
     "data": {
      "text/html": [
       "<div>\n",
       "<style scoped>\n",
       "    .dataframe tbody tr th:only-of-type {\n",
       "        vertical-align: middle;\n",
       "    }\n",
       "\n",
       "    .dataframe tbody tr th {\n",
       "        vertical-align: top;\n",
       "    }\n",
       "\n",
       "    .dataframe thead th {\n",
       "        text-align: right;\n",
       "    }\n",
       "</style>\n",
       "<table border=\"1\" class=\"dataframe\">\n",
       "  <thead>\n",
       "    <tr style=\"text-align: right;\">\n",
       "      <th></th>\n",
       "      <th>customerID</th>\n",
       "      <th>gender</th>\n",
       "      <th>SeniorCitizen</th>\n",
       "      <th>Partner</th>\n",
       "      <th>Dependents</th>\n",
       "    </tr>\n",
       "  </thead>\n",
       "  <tbody>\n",
       "    <tr>\n",
       "      <th>0</th>\n",
       "      <td>7590-VHVEG</td>\n",
       "      <td>Female</td>\n",
       "      <td>0</td>\n",
       "      <td>Yes</td>\n",
       "      <td>No</td>\n",
       "    </tr>\n",
       "    <tr>\n",
       "      <th>1</th>\n",
       "      <td>5575-GNVDE</td>\n",
       "      <td>Male</td>\n",
       "      <td>0</td>\n",
       "      <td>No</td>\n",
       "      <td>No</td>\n",
       "    </tr>\n",
       "    <tr>\n",
       "      <th>2</th>\n",
       "      <td>3668-QPYBK</td>\n",
       "      <td>Male</td>\n",
       "      <td>0</td>\n",
       "      <td>No</td>\n",
       "      <td>No</td>\n",
       "    </tr>\n",
       "    <tr>\n",
       "      <th>3</th>\n",
       "      <td>7795-CFOCW</td>\n",
       "      <td>Male</td>\n",
       "      <td>0</td>\n",
       "      <td>No</td>\n",
       "      <td>No</td>\n",
       "    </tr>\n",
       "    <tr>\n",
       "      <th>4</th>\n",
       "      <td>9237-HQITU</td>\n",
       "      <td>Female</td>\n",
       "      <td>0</td>\n",
       "      <td>No</td>\n",
       "      <td>No</td>\n",
       "    </tr>\n",
       "  </tbody>\n",
       "</table>\n",
       "</div>"
      ],
      "text/plain": [
       "   customerID  gender  SeniorCitizen Partner Dependents\n",
       "0  7590-VHVEG  Female              0     Yes         No\n",
       "1  5575-GNVDE    Male              0      No         No\n",
       "2  3668-QPYBK    Male              0      No         No\n",
       "3  7795-CFOCW    Male              0      No         No\n",
       "4  9237-HQITU  Female              0      No         No"
      ]
     },
     "execution_count": 7,
     "metadata": {},
     "output_type": "execute_result"
    }
   ],
   "source": [
    "df_personal.head()"
   ]
  },
  {
   "cell_type": "code",
   "execution_count": 8,
   "id": "06a73c38",
   "metadata": {},
   "outputs": [
    {
     "data": {
      "text/html": [
       "<div>\n",
       "<style scoped>\n",
       "    .dataframe tbody tr th:only-of-type {\n",
       "        vertical-align: middle;\n",
       "    }\n",
       "\n",
       "    .dataframe tbody tr th {\n",
       "        vertical-align: top;\n",
       "    }\n",
       "\n",
       "    .dataframe thead th {\n",
       "        text-align: right;\n",
       "    }\n",
       "</style>\n",
       "<table border=\"1\" class=\"dataframe\">\n",
       "  <thead>\n",
       "    <tr style=\"text-align: right;\">\n",
       "      <th></th>\n",
       "      <th>customerID</th>\n",
       "      <th>InternetService</th>\n",
       "      <th>OnlineSecurity</th>\n",
       "      <th>OnlineBackup</th>\n",
       "      <th>DeviceProtection</th>\n",
       "      <th>TechSupport</th>\n",
       "      <th>StreamingTV</th>\n",
       "      <th>StreamingMovies</th>\n",
       "    </tr>\n",
       "  </thead>\n",
       "  <tbody>\n",
       "    <tr>\n",
       "      <th>0</th>\n",
       "      <td>7590-VHVEG</td>\n",
       "      <td>DSL</td>\n",
       "      <td>No</td>\n",
       "      <td>Yes</td>\n",
       "      <td>No</td>\n",
       "      <td>No</td>\n",
       "      <td>No</td>\n",
       "      <td>No</td>\n",
       "    </tr>\n",
       "    <tr>\n",
       "      <th>1</th>\n",
       "      <td>5575-GNVDE</td>\n",
       "      <td>DSL</td>\n",
       "      <td>Yes</td>\n",
       "      <td>No</td>\n",
       "      <td>Yes</td>\n",
       "      <td>No</td>\n",
       "      <td>No</td>\n",
       "      <td>No</td>\n",
       "    </tr>\n",
       "    <tr>\n",
       "      <th>2</th>\n",
       "      <td>3668-QPYBK</td>\n",
       "      <td>DSL</td>\n",
       "      <td>Yes</td>\n",
       "      <td>Yes</td>\n",
       "      <td>No</td>\n",
       "      <td>No</td>\n",
       "      <td>No</td>\n",
       "      <td>No</td>\n",
       "    </tr>\n",
       "    <tr>\n",
       "      <th>3</th>\n",
       "      <td>7795-CFOCW</td>\n",
       "      <td>DSL</td>\n",
       "      <td>Yes</td>\n",
       "      <td>No</td>\n",
       "      <td>Yes</td>\n",
       "      <td>Yes</td>\n",
       "      <td>No</td>\n",
       "      <td>No</td>\n",
       "    </tr>\n",
       "    <tr>\n",
       "      <th>4</th>\n",
       "      <td>9237-HQITU</td>\n",
       "      <td>Fiber optic</td>\n",
       "      <td>No</td>\n",
       "      <td>No</td>\n",
       "      <td>No</td>\n",
       "      <td>No</td>\n",
       "      <td>No</td>\n",
       "      <td>No</td>\n",
       "    </tr>\n",
       "  </tbody>\n",
       "</table>\n",
       "</div>"
      ],
      "text/plain": [
       "   customerID InternetService OnlineSecurity OnlineBackup DeviceProtection  \\\n",
       "0  7590-VHVEG             DSL             No          Yes               No   \n",
       "1  5575-GNVDE             DSL            Yes           No              Yes   \n",
       "2  3668-QPYBK             DSL            Yes          Yes               No   \n",
       "3  7795-CFOCW             DSL            Yes           No              Yes   \n",
       "4  9237-HQITU     Fiber optic             No           No               No   \n",
       "\n",
       "  TechSupport StreamingTV StreamingMovies  \n",
       "0          No          No              No  \n",
       "1          No          No              No  \n",
       "2          No          No              No  \n",
       "3         Yes          No              No  \n",
       "4          No          No              No  "
      ]
     },
     "execution_count": 8,
     "metadata": {},
     "output_type": "execute_result"
    }
   ],
   "source": [
    "df_internet.head()"
   ]
  },
  {
   "cell_type": "code",
   "execution_count": 9,
   "id": "1a86a092",
   "metadata": {},
   "outputs": [
    {
     "data": {
      "text/html": [
       "<div>\n",
       "<style scoped>\n",
       "    .dataframe tbody tr th:only-of-type {\n",
       "        vertical-align: middle;\n",
       "    }\n",
       "\n",
       "    .dataframe tbody tr th {\n",
       "        vertical-align: top;\n",
       "    }\n",
       "\n",
       "    .dataframe thead th {\n",
       "        text-align: right;\n",
       "    }\n",
       "</style>\n",
       "<table border=\"1\" class=\"dataframe\">\n",
       "  <thead>\n",
       "    <tr style=\"text-align: right;\">\n",
       "      <th></th>\n",
       "      <th>customerID</th>\n",
       "      <th>MultipleLines</th>\n",
       "    </tr>\n",
       "  </thead>\n",
       "  <tbody>\n",
       "    <tr>\n",
       "      <th>0</th>\n",
       "      <td>5575-GNVDE</td>\n",
       "      <td>No</td>\n",
       "    </tr>\n",
       "    <tr>\n",
       "      <th>1</th>\n",
       "      <td>3668-QPYBK</td>\n",
       "      <td>No</td>\n",
       "    </tr>\n",
       "    <tr>\n",
       "      <th>2</th>\n",
       "      <td>9237-HQITU</td>\n",
       "      <td>No</td>\n",
       "    </tr>\n",
       "    <tr>\n",
       "      <th>3</th>\n",
       "      <td>9305-CDSKC</td>\n",
       "      <td>Yes</td>\n",
       "    </tr>\n",
       "    <tr>\n",
       "      <th>4</th>\n",
       "      <td>1452-KIOVK</td>\n",
       "      <td>Yes</td>\n",
       "    </tr>\n",
       "  </tbody>\n",
       "</table>\n",
       "</div>"
      ],
      "text/plain": [
       "   customerID MultipleLines\n",
       "0  5575-GNVDE            No\n",
       "1  3668-QPYBK            No\n",
       "2  9237-HQITU            No\n",
       "3  9305-CDSKC           Yes\n",
       "4  1452-KIOVK           Yes"
      ]
     },
     "execution_count": 9,
     "metadata": {},
     "output_type": "execute_result"
    }
   ],
   "source": [
    "df_phone.head()"
   ]
  },
  {
   "cell_type": "markdown",
   "id": "71c6a39b",
   "metadata": {},
   "source": [
    "Let's combine all the tables into one through the 'CustomerID' column"
   ]
  },
  {
   "cell_type": "code",
   "execution_count": 10,
   "id": "fa6d64c2",
   "metadata": {},
   "outputs": [
    {
     "data": {
      "text/html": [
       "<div>\n",
       "<style scoped>\n",
       "    .dataframe tbody tr th:only-of-type {\n",
       "        vertical-align: middle;\n",
       "    }\n",
       "\n",
       "    .dataframe tbody tr th {\n",
       "        vertical-align: top;\n",
       "    }\n",
       "\n",
       "    .dataframe thead th {\n",
       "        text-align: right;\n",
       "    }\n",
       "</style>\n",
       "<table border=\"1\" class=\"dataframe\">\n",
       "  <thead>\n",
       "    <tr style=\"text-align: right;\">\n",
       "      <th></th>\n",
       "      <th>customerID</th>\n",
       "      <th>BeginDate</th>\n",
       "      <th>EndDate</th>\n",
       "      <th>Type</th>\n",
       "      <th>PaperlessBilling</th>\n",
       "      <th>PaymentMethod</th>\n",
       "      <th>MonthlyCharges</th>\n",
       "      <th>TotalCharges</th>\n",
       "      <th>gender</th>\n",
       "      <th>SeniorCitizen</th>\n",
       "      <th>Partner</th>\n",
       "      <th>Dependents</th>\n",
       "      <th>InternetService</th>\n",
       "      <th>OnlineSecurity</th>\n",
       "      <th>OnlineBackup</th>\n",
       "      <th>DeviceProtection</th>\n",
       "      <th>TechSupport</th>\n",
       "      <th>StreamingTV</th>\n",
       "      <th>StreamingMovies</th>\n",
       "      <th>MultipleLines</th>\n",
       "    </tr>\n",
       "  </thead>\n",
       "  <tbody>\n",
       "    <tr>\n",
       "      <th>0</th>\n",
       "      <td>7590-VHVEG</td>\n",
       "      <td>2020-01-01</td>\n",
       "      <td>No</td>\n",
       "      <td>Month-to-month</td>\n",
       "      <td>Yes</td>\n",
       "      <td>Electronic check</td>\n",
       "      <td>29.85</td>\n",
       "      <td>31.04</td>\n",
       "      <td>Female</td>\n",
       "      <td>0</td>\n",
       "      <td>Yes</td>\n",
       "      <td>No</td>\n",
       "      <td>DSL</td>\n",
       "      <td>No</td>\n",
       "      <td>Yes</td>\n",
       "      <td>No</td>\n",
       "      <td>No</td>\n",
       "      <td>No</td>\n",
       "      <td>No</td>\n",
       "      <td>NaN</td>\n",
       "    </tr>\n",
       "    <tr>\n",
       "      <th>1</th>\n",
       "      <td>5575-GNVDE</td>\n",
       "      <td>2017-04-01</td>\n",
       "      <td>No</td>\n",
       "      <td>One year</td>\n",
       "      <td>No</td>\n",
       "      <td>Mailed check</td>\n",
       "      <td>56.95</td>\n",
       "      <td>2071.84</td>\n",
       "      <td>Male</td>\n",
       "      <td>0</td>\n",
       "      <td>No</td>\n",
       "      <td>No</td>\n",
       "      <td>DSL</td>\n",
       "      <td>Yes</td>\n",
       "      <td>No</td>\n",
       "      <td>Yes</td>\n",
       "      <td>No</td>\n",
       "      <td>No</td>\n",
       "      <td>No</td>\n",
       "      <td>No</td>\n",
       "    </tr>\n",
       "    <tr>\n",
       "      <th>2</th>\n",
       "      <td>3668-QPYBK</td>\n",
       "      <td>2019-10-01</td>\n",
       "      <td>No</td>\n",
       "      <td>Month-to-month</td>\n",
       "      <td>Yes</td>\n",
       "      <td>Mailed check</td>\n",
       "      <td>53.85</td>\n",
       "      <td>226.17</td>\n",
       "      <td>Male</td>\n",
       "      <td>0</td>\n",
       "      <td>No</td>\n",
       "      <td>No</td>\n",
       "      <td>DSL</td>\n",
       "      <td>Yes</td>\n",
       "      <td>Yes</td>\n",
       "      <td>No</td>\n",
       "      <td>No</td>\n",
       "      <td>No</td>\n",
       "      <td>No</td>\n",
       "      <td>No</td>\n",
       "    </tr>\n",
       "    <tr>\n",
       "      <th>3</th>\n",
       "      <td>7795-CFOCW</td>\n",
       "      <td>2016-05-01</td>\n",
       "      <td>No</td>\n",
       "      <td>One year</td>\n",
       "      <td>No</td>\n",
       "      <td>Bank transfer (automatic)</td>\n",
       "      <td>42.30</td>\n",
       "      <td>1960.6</td>\n",
       "      <td>Male</td>\n",
       "      <td>0</td>\n",
       "      <td>No</td>\n",
       "      <td>No</td>\n",
       "      <td>DSL</td>\n",
       "      <td>Yes</td>\n",
       "      <td>No</td>\n",
       "      <td>Yes</td>\n",
       "      <td>Yes</td>\n",
       "      <td>No</td>\n",
       "      <td>No</td>\n",
       "      <td>NaN</td>\n",
       "    </tr>\n",
       "    <tr>\n",
       "      <th>4</th>\n",
       "      <td>9237-HQITU</td>\n",
       "      <td>2019-09-01</td>\n",
       "      <td>No</td>\n",
       "      <td>Month-to-month</td>\n",
       "      <td>Yes</td>\n",
       "      <td>Electronic check</td>\n",
       "      <td>70.70</td>\n",
       "      <td>353.5</td>\n",
       "      <td>Female</td>\n",
       "      <td>0</td>\n",
       "      <td>No</td>\n",
       "      <td>No</td>\n",
       "      <td>Fiber optic</td>\n",
       "      <td>No</td>\n",
       "      <td>No</td>\n",
       "      <td>No</td>\n",
       "      <td>No</td>\n",
       "      <td>No</td>\n",
       "      <td>No</td>\n",
       "      <td>No</td>\n",
       "    </tr>\n",
       "  </tbody>\n",
       "</table>\n",
       "</div>"
      ],
      "text/plain": [
       "   customerID   BeginDate EndDate            Type PaperlessBilling  \\\n",
       "0  7590-VHVEG  2020-01-01      No  Month-to-month              Yes   \n",
       "1  5575-GNVDE  2017-04-01      No        One year               No   \n",
       "2  3668-QPYBK  2019-10-01      No  Month-to-month              Yes   \n",
       "3  7795-CFOCW  2016-05-01      No        One year               No   \n",
       "4  9237-HQITU  2019-09-01      No  Month-to-month              Yes   \n",
       "\n",
       "               PaymentMethod  MonthlyCharges TotalCharges  gender  \\\n",
       "0           Electronic check           29.85        31.04  Female   \n",
       "1               Mailed check           56.95      2071.84    Male   \n",
       "2               Mailed check           53.85       226.17    Male   \n",
       "3  Bank transfer (automatic)           42.30       1960.6    Male   \n",
       "4           Electronic check           70.70        353.5  Female   \n",
       "\n",
       "   SeniorCitizen Partner Dependents InternetService OnlineSecurity  \\\n",
       "0              0     Yes         No             DSL             No   \n",
       "1              0      No         No             DSL            Yes   \n",
       "2              0      No         No             DSL            Yes   \n",
       "3              0      No         No             DSL            Yes   \n",
       "4              0      No         No     Fiber optic             No   \n",
       "\n",
       "  OnlineBackup DeviceProtection TechSupport StreamingTV StreamingMovies  \\\n",
       "0          Yes               No          No          No              No   \n",
       "1           No              Yes          No          No              No   \n",
       "2          Yes               No          No          No              No   \n",
       "3           No              Yes         Yes          No              No   \n",
       "4           No               No          No          No              No   \n",
       "\n",
       "  MultipleLines  \n",
       "0           NaN  \n",
       "1            No  \n",
       "2            No  \n",
       "3           NaN  \n",
       "4            No  "
      ]
     },
     "execution_count": 10,
     "metadata": {},
     "output_type": "execute_result"
    }
   ],
   "source": [
    "df = df_contract.merge(df_personal, how='outer', on='customerID')\\\n",
    "    .merge(df_internet, how='outer', on='customerID')\\\n",
    "    .merge(df_phone, how='outer', on='customerID')\n",
    "df.head()"
   ]
  },
  {
   "cell_type": "code",
   "execution_count": 11,
   "id": "77442412",
   "metadata": {},
   "outputs": [
    {
     "data": {
      "text/plain": [
       "((7043, 8), (7043, 5), (5517, 8), (6361, 2), (7043, 20))"
      ]
     },
     "execution_count": 11,
     "metadata": {},
     "output_type": "execute_result"
    }
   ],
   "source": [
    "df_contract.shape, df_personal.shape, df_internet.shape, df_phone.shape, df.shape"
   ]
  },
  {
   "cell_type": "markdown",
   "id": "3b03d295",
   "metadata": {},
   "source": [
    "Let's check for duplicates and omissions."
   ]
  },
  {
   "cell_type": "code",
   "execution_count": 12,
   "id": "a1836778",
   "metadata": {},
   "outputs": [
    {
     "data": {
      "text/plain": [
       "0"
      ]
     },
     "execution_count": 12,
     "metadata": {},
     "output_type": "execute_result"
    }
   ],
   "source": [
    "df.duplicated().sum()"
   ]
  },
  {
   "cell_type": "code",
   "execution_count": 13,
   "id": "09442cc5",
   "metadata": {},
   "outputs": [
    {
     "data": {
      "text/plain": [
       "customerID             0\n",
       "BeginDate              0\n",
       "EndDate                0\n",
       "Type                   0\n",
       "PaperlessBilling       0\n",
       "PaymentMethod          0\n",
       "MonthlyCharges         0\n",
       "TotalCharges           0\n",
       "gender                 0\n",
       "SeniorCitizen          0\n",
       "Partner                0\n",
       "Dependents             0\n",
       "InternetService     1526\n",
       "OnlineSecurity      1526\n",
       "OnlineBackup        1526\n",
       "DeviceProtection    1526\n",
       "TechSupport         1526\n",
       "StreamingTV         1526\n",
       "StreamingMovies     1526\n",
       "MultipleLines        682\n",
       "dtype: int64"
      ]
     },
     "execution_count": 13,
     "metadata": {},
     "output_type": "execute_result"
    }
   ],
   "source": [
    "df.isna().sum()"
   ]
  },
  {
   "cell_type": "code",
   "execution_count": 14,
   "id": "dde96ec0",
   "metadata": {},
   "outputs": [
    {
     "name": "stdout",
     "output_type": "stream",
     "text": [
      "<class 'pandas.core.frame.DataFrame'>\n",
      "Int64Index: 7043 entries, 0 to 7042\n",
      "Data columns (total 20 columns):\n",
      " #   Column            Non-Null Count  Dtype  \n",
      "---  ------            --------------  -----  \n",
      " 0   customerID        7043 non-null   object \n",
      " 1   BeginDate         7043 non-null   object \n",
      " 2   EndDate           7043 non-null   object \n",
      " 3   Type              7043 non-null   object \n",
      " 4   PaperlessBilling  7043 non-null   object \n",
      " 5   PaymentMethod     7043 non-null   object \n",
      " 6   MonthlyCharges    7043 non-null   float64\n",
      " 7   TotalCharges      7043 non-null   object \n",
      " 8   gender            7043 non-null   object \n",
      " 9   SeniorCitizen     7043 non-null   int64  \n",
      " 10  Partner           7043 non-null   object \n",
      " 11  Dependents        7043 non-null   object \n",
      " 12  InternetService   5517 non-null   object \n",
      " 13  OnlineSecurity    5517 non-null   object \n",
      " 14  OnlineBackup      5517 non-null   object \n",
      " 15  DeviceProtection  5517 non-null   object \n",
      " 16  TechSupport       5517 non-null   object \n",
      " 17  StreamingTV       5517 non-null   object \n",
      " 18  StreamingMovies   5517 non-null   object \n",
      " 19  MultipleLines     6361 non-null   object \n",
      "dtypes: float64(1), int64(1), object(18)\n",
      "memory usage: 1.1+ MB\n"
     ]
    }
   ],
   "source": [
    "df.info()"
   ]
  },
  {
   "cell_type": "markdown",
   "id": "b492799e",
   "metadata": {},
   "source": [
    "There are no duplicates, but there are gaps in the columns with the object data type, we will replace them with the abbreviation No, because most likely customers simply do not use these services, also the \"TotalCharges\" column has an incorrect data type and implicit gaps."
   ]
  },
  {
   "cell_type": "code",
   "execution_count": 15,
   "id": "6466c60d",
   "metadata": {},
   "outputs": [],
   "source": [
    "df = df.fillna('No')"
   ]
  },
  {
   "cell_type": "code",
   "execution_count": 16,
   "id": "7508529f",
   "metadata": {},
   "outputs": [
    {
     "data": {
      "text/html": [
       "<div>\n",
       "<style scoped>\n",
       "    .dataframe tbody tr th:only-of-type {\n",
       "        vertical-align: middle;\n",
       "    }\n",
       "\n",
       "    .dataframe tbody tr th {\n",
       "        vertical-align: top;\n",
       "    }\n",
       "\n",
       "    .dataframe thead th {\n",
       "        text-align: right;\n",
       "    }\n",
       "</style>\n",
       "<table border=\"1\" class=\"dataframe\">\n",
       "  <thead>\n",
       "    <tr style=\"text-align: right;\">\n",
       "      <th></th>\n",
       "      <th>customerID</th>\n",
       "      <th>BeginDate</th>\n",
       "      <th>EndDate</th>\n",
       "      <th>Type</th>\n",
       "      <th>PaperlessBilling</th>\n",
       "      <th>PaymentMethod</th>\n",
       "      <th>MonthlyCharges</th>\n",
       "      <th>TotalCharges</th>\n",
       "      <th>gender</th>\n",
       "      <th>SeniorCitizen</th>\n",
       "      <th>Partner</th>\n",
       "      <th>Dependents</th>\n",
       "      <th>InternetService</th>\n",
       "      <th>OnlineSecurity</th>\n",
       "      <th>OnlineBackup</th>\n",
       "      <th>DeviceProtection</th>\n",
       "      <th>TechSupport</th>\n",
       "      <th>StreamingTV</th>\n",
       "      <th>StreamingMovies</th>\n",
       "      <th>MultipleLines</th>\n",
       "    </tr>\n",
       "  </thead>\n",
       "  <tbody>\n",
       "    <tr>\n",
       "      <th>488</th>\n",
       "      <td>4472-LVYGI</td>\n",
       "      <td>2020-02-01</td>\n",
       "      <td>No</td>\n",
       "      <td>Two year</td>\n",
       "      <td>Yes</td>\n",
       "      <td>Bank transfer (automatic)</td>\n",
       "      <td>52.55</td>\n",
       "      <td></td>\n",
       "      <td>Female</td>\n",
       "      <td>0</td>\n",
       "      <td>Yes</td>\n",
       "      <td>Yes</td>\n",
       "      <td>DSL</td>\n",
       "      <td>Yes</td>\n",
       "      <td>No</td>\n",
       "      <td>Yes</td>\n",
       "      <td>Yes</td>\n",
       "      <td>Yes</td>\n",
       "      <td>No</td>\n",
       "      <td>No</td>\n",
       "    </tr>\n",
       "    <tr>\n",
       "      <th>753</th>\n",
       "      <td>3115-CZMZD</td>\n",
       "      <td>2020-02-01</td>\n",
       "      <td>No</td>\n",
       "      <td>Two year</td>\n",
       "      <td>No</td>\n",
       "      <td>Mailed check</td>\n",
       "      <td>20.25</td>\n",
       "      <td></td>\n",
       "      <td>Male</td>\n",
       "      <td>0</td>\n",
       "      <td>No</td>\n",
       "      <td>Yes</td>\n",
       "      <td>No</td>\n",
       "      <td>No</td>\n",
       "      <td>No</td>\n",
       "      <td>No</td>\n",
       "      <td>No</td>\n",
       "      <td>No</td>\n",
       "      <td>No</td>\n",
       "      <td>No</td>\n",
       "    </tr>\n",
       "    <tr>\n",
       "      <th>936</th>\n",
       "      <td>5709-LVOEQ</td>\n",
       "      <td>2020-02-01</td>\n",
       "      <td>No</td>\n",
       "      <td>Two year</td>\n",
       "      <td>No</td>\n",
       "      <td>Mailed check</td>\n",
       "      <td>80.85</td>\n",
       "      <td></td>\n",
       "      <td>Female</td>\n",
       "      <td>0</td>\n",
       "      <td>Yes</td>\n",
       "      <td>Yes</td>\n",
       "      <td>DSL</td>\n",
       "      <td>Yes</td>\n",
       "      <td>Yes</td>\n",
       "      <td>Yes</td>\n",
       "      <td>No</td>\n",
       "      <td>Yes</td>\n",
       "      <td>Yes</td>\n",
       "      <td>No</td>\n",
       "    </tr>\n",
       "    <tr>\n",
       "      <th>1082</th>\n",
       "      <td>4367-NUYAO</td>\n",
       "      <td>2020-02-01</td>\n",
       "      <td>No</td>\n",
       "      <td>Two year</td>\n",
       "      <td>No</td>\n",
       "      <td>Mailed check</td>\n",
       "      <td>25.75</td>\n",
       "      <td></td>\n",
       "      <td>Male</td>\n",
       "      <td>0</td>\n",
       "      <td>Yes</td>\n",
       "      <td>Yes</td>\n",
       "      <td>No</td>\n",
       "      <td>No</td>\n",
       "      <td>No</td>\n",
       "      <td>No</td>\n",
       "      <td>No</td>\n",
       "      <td>No</td>\n",
       "      <td>No</td>\n",
       "      <td>Yes</td>\n",
       "    </tr>\n",
       "    <tr>\n",
       "      <th>1340</th>\n",
       "      <td>1371-DWPAZ</td>\n",
       "      <td>2020-02-01</td>\n",
       "      <td>No</td>\n",
       "      <td>Two year</td>\n",
       "      <td>No</td>\n",
       "      <td>Credit card (automatic)</td>\n",
       "      <td>56.05</td>\n",
       "      <td></td>\n",
       "      <td>Female</td>\n",
       "      <td>0</td>\n",
       "      <td>Yes</td>\n",
       "      <td>Yes</td>\n",
       "      <td>DSL</td>\n",
       "      <td>Yes</td>\n",
       "      <td>Yes</td>\n",
       "      <td>Yes</td>\n",
       "      <td>Yes</td>\n",
       "      <td>Yes</td>\n",
       "      <td>No</td>\n",
       "      <td>No</td>\n",
       "    </tr>\n",
       "    <tr>\n",
       "      <th>3331</th>\n",
       "      <td>7644-OMVMY</td>\n",
       "      <td>2020-02-01</td>\n",
       "      <td>No</td>\n",
       "      <td>Two year</td>\n",
       "      <td>No</td>\n",
       "      <td>Mailed check</td>\n",
       "      <td>19.85</td>\n",
       "      <td></td>\n",
       "      <td>Male</td>\n",
       "      <td>0</td>\n",
       "      <td>Yes</td>\n",
       "      <td>Yes</td>\n",
       "      <td>No</td>\n",
       "      <td>No</td>\n",
       "      <td>No</td>\n",
       "      <td>No</td>\n",
       "      <td>No</td>\n",
       "      <td>No</td>\n",
       "      <td>No</td>\n",
       "      <td>No</td>\n",
       "    </tr>\n",
       "    <tr>\n",
       "      <th>3826</th>\n",
       "      <td>3213-VVOLG</td>\n",
       "      <td>2020-02-01</td>\n",
       "      <td>No</td>\n",
       "      <td>Two year</td>\n",
       "      <td>No</td>\n",
       "      <td>Mailed check</td>\n",
       "      <td>25.35</td>\n",
       "      <td></td>\n",
       "      <td>Male</td>\n",
       "      <td>0</td>\n",
       "      <td>Yes</td>\n",
       "      <td>Yes</td>\n",
       "      <td>No</td>\n",
       "      <td>No</td>\n",
       "      <td>No</td>\n",
       "      <td>No</td>\n",
       "      <td>No</td>\n",
       "      <td>No</td>\n",
       "      <td>No</td>\n",
       "      <td>Yes</td>\n",
       "    </tr>\n",
       "    <tr>\n",
       "      <th>4380</th>\n",
       "      <td>2520-SGTTA</td>\n",
       "      <td>2020-02-01</td>\n",
       "      <td>No</td>\n",
       "      <td>Two year</td>\n",
       "      <td>No</td>\n",
       "      <td>Mailed check</td>\n",
       "      <td>20.00</td>\n",
       "      <td></td>\n",
       "      <td>Female</td>\n",
       "      <td>0</td>\n",
       "      <td>Yes</td>\n",
       "      <td>Yes</td>\n",
       "      <td>No</td>\n",
       "      <td>No</td>\n",
       "      <td>No</td>\n",
       "      <td>No</td>\n",
       "      <td>No</td>\n",
       "      <td>No</td>\n",
       "      <td>No</td>\n",
       "      <td>No</td>\n",
       "    </tr>\n",
       "    <tr>\n",
       "      <th>5218</th>\n",
       "      <td>2923-ARZLG</td>\n",
       "      <td>2020-02-01</td>\n",
       "      <td>No</td>\n",
       "      <td>One year</td>\n",
       "      <td>Yes</td>\n",
       "      <td>Mailed check</td>\n",
       "      <td>19.70</td>\n",
       "      <td></td>\n",
       "      <td>Male</td>\n",
       "      <td>0</td>\n",
       "      <td>Yes</td>\n",
       "      <td>Yes</td>\n",
       "      <td>No</td>\n",
       "      <td>No</td>\n",
       "      <td>No</td>\n",
       "      <td>No</td>\n",
       "      <td>No</td>\n",
       "      <td>No</td>\n",
       "      <td>No</td>\n",
       "      <td>No</td>\n",
       "    </tr>\n",
       "    <tr>\n",
       "      <th>6670</th>\n",
       "      <td>4075-WKNIU</td>\n",
       "      <td>2020-02-01</td>\n",
       "      <td>No</td>\n",
       "      <td>Two year</td>\n",
       "      <td>No</td>\n",
       "      <td>Mailed check</td>\n",
       "      <td>73.35</td>\n",
       "      <td></td>\n",
       "      <td>Female</td>\n",
       "      <td>0</td>\n",
       "      <td>Yes</td>\n",
       "      <td>Yes</td>\n",
       "      <td>DSL</td>\n",
       "      <td>No</td>\n",
       "      <td>Yes</td>\n",
       "      <td>Yes</td>\n",
       "      <td>Yes</td>\n",
       "      <td>Yes</td>\n",
       "      <td>No</td>\n",
       "      <td>Yes</td>\n",
       "    </tr>\n",
       "    <tr>\n",
       "      <th>6754</th>\n",
       "      <td>2775-SEFEE</td>\n",
       "      <td>2020-02-01</td>\n",
       "      <td>No</td>\n",
       "      <td>Two year</td>\n",
       "      <td>Yes</td>\n",
       "      <td>Bank transfer (automatic)</td>\n",
       "      <td>61.90</td>\n",
       "      <td></td>\n",
       "      <td>Male</td>\n",
       "      <td>0</td>\n",
       "      <td>No</td>\n",
       "      <td>Yes</td>\n",
       "      <td>DSL</td>\n",
       "      <td>Yes</td>\n",
       "      <td>Yes</td>\n",
       "      <td>No</td>\n",
       "      <td>Yes</td>\n",
       "      <td>No</td>\n",
       "      <td>No</td>\n",
       "      <td>Yes</td>\n",
       "    </tr>\n",
       "  </tbody>\n",
       "</table>\n",
       "</div>"
      ],
      "text/plain": [
       "      customerID   BeginDate EndDate      Type PaperlessBilling  \\\n",
       "488   4472-LVYGI  2020-02-01      No  Two year              Yes   \n",
       "753   3115-CZMZD  2020-02-01      No  Two year               No   \n",
       "936   5709-LVOEQ  2020-02-01      No  Two year               No   \n",
       "1082  4367-NUYAO  2020-02-01      No  Two year               No   \n",
       "1340  1371-DWPAZ  2020-02-01      No  Two year               No   \n",
       "3331  7644-OMVMY  2020-02-01      No  Two year               No   \n",
       "3826  3213-VVOLG  2020-02-01      No  Two year               No   \n",
       "4380  2520-SGTTA  2020-02-01      No  Two year               No   \n",
       "5218  2923-ARZLG  2020-02-01      No  One year              Yes   \n",
       "6670  4075-WKNIU  2020-02-01      No  Two year               No   \n",
       "6754  2775-SEFEE  2020-02-01      No  Two year              Yes   \n",
       "\n",
       "                  PaymentMethod  MonthlyCharges TotalCharges  gender  \\\n",
       "488   Bank transfer (automatic)           52.55               Female   \n",
       "753                Mailed check           20.25                 Male   \n",
       "936                Mailed check           80.85               Female   \n",
       "1082               Mailed check           25.75                 Male   \n",
       "1340    Credit card (automatic)           56.05               Female   \n",
       "3331               Mailed check           19.85                 Male   \n",
       "3826               Mailed check           25.35                 Male   \n",
       "4380               Mailed check           20.00               Female   \n",
       "5218               Mailed check           19.70                 Male   \n",
       "6670               Mailed check           73.35               Female   \n",
       "6754  Bank transfer (automatic)           61.90                 Male   \n",
       "\n",
       "      SeniorCitizen Partner Dependents InternetService OnlineSecurity  \\\n",
       "488               0     Yes        Yes             DSL            Yes   \n",
       "753               0      No        Yes              No             No   \n",
       "936               0     Yes        Yes             DSL            Yes   \n",
       "1082              0     Yes        Yes              No             No   \n",
       "1340              0     Yes        Yes             DSL            Yes   \n",
       "3331              0     Yes        Yes              No             No   \n",
       "3826              0     Yes        Yes              No             No   \n",
       "4380              0     Yes        Yes              No             No   \n",
       "5218              0     Yes        Yes              No             No   \n",
       "6670              0     Yes        Yes             DSL             No   \n",
       "6754              0      No        Yes             DSL            Yes   \n",
       "\n",
       "     OnlineBackup DeviceProtection TechSupport StreamingTV StreamingMovies  \\\n",
       "488            No              Yes         Yes         Yes              No   \n",
       "753            No               No          No          No              No   \n",
       "936           Yes              Yes          No         Yes             Yes   \n",
       "1082           No               No          No          No              No   \n",
       "1340          Yes              Yes         Yes         Yes              No   \n",
       "3331           No               No          No          No              No   \n",
       "3826           No               No          No          No              No   \n",
       "4380           No               No          No          No              No   \n",
       "5218           No               No          No          No              No   \n",
       "6670          Yes              Yes         Yes         Yes              No   \n",
       "6754          Yes               No         Yes          No              No   \n",
       "\n",
       "     MultipleLines  \n",
       "488             No  \n",
       "753             No  \n",
       "936             No  \n",
       "1082           Yes  \n",
       "1340            No  \n",
       "3331            No  \n",
       "3826           Yes  \n",
       "4380            No  \n",
       "5218            No  \n",
       "6670           Yes  \n",
       "6754           Yes  "
      ]
     },
     "execution_count": 16,
     "metadata": {},
     "output_type": "execute_result"
    }
   ],
   "source": [
    "df[df['TotalCharges'] == ' ']"
   ]
  },
  {
   "cell_type": "markdown",
   "id": "aea2734e",
   "metadata": {},
   "source": [
    "We have data for 2020-02-01, and for customers with missing values in Total Charges, this is the start date of using the services, let's fill in TotalCharges with data from MonthlyCharges."
   ]
  },
  {
   "cell_type": "code",
   "execution_count": 17,
   "id": "807031c5",
   "metadata": {},
   "outputs": [],
   "source": [
    "def fill_gap(row):\n",
    "    if row['TotalCharges'] == ' ':\n",
    "        return row['MonthlyCharges']\n",
    "    else:\n",
    "        return row['TotalCharges']"
   ]
  },
  {
   "cell_type": "code",
   "execution_count": 18,
   "id": "c0ee909d",
   "metadata": {},
   "outputs": [],
   "source": [
    "df['TotalCharges'] = df.apply(fill_gap, axis=1)\n",
    "df['TotalCharges'] = df['TotalCharges'].astype('float64')"
   ]
  },
  {
   "cell_type": "code",
   "execution_count": 19,
   "id": "1297ea24",
   "metadata": {},
   "outputs": [
    {
     "data": {
      "text/html": [
       "<div>\n",
       "<style scoped>\n",
       "    .dataframe tbody tr th:only-of-type {\n",
       "        vertical-align: middle;\n",
       "    }\n",
       "\n",
       "    .dataframe tbody tr th {\n",
       "        vertical-align: top;\n",
       "    }\n",
       "\n",
       "    .dataframe thead th {\n",
       "        text-align: right;\n",
       "    }\n",
       "</style>\n",
       "<table border=\"1\" class=\"dataframe\">\n",
       "  <thead>\n",
       "    <tr style=\"text-align: right;\">\n",
       "      <th></th>\n",
       "      <th>customerID</th>\n",
       "      <th>BeginDate</th>\n",
       "      <th>EndDate</th>\n",
       "      <th>Type</th>\n",
       "      <th>PaperlessBilling</th>\n",
       "      <th>PaymentMethod</th>\n",
       "      <th>MonthlyCharges</th>\n",
       "      <th>TotalCharges</th>\n",
       "      <th>gender</th>\n",
       "      <th>SeniorCitizen</th>\n",
       "      <th>Partner</th>\n",
       "      <th>Dependents</th>\n",
       "      <th>InternetService</th>\n",
       "      <th>OnlineSecurity</th>\n",
       "      <th>OnlineBackup</th>\n",
       "      <th>DeviceProtection</th>\n",
       "      <th>TechSupport</th>\n",
       "      <th>StreamingTV</th>\n",
       "      <th>StreamingMovies</th>\n",
       "      <th>MultipleLines</th>\n",
       "    </tr>\n",
       "  </thead>\n",
       "  <tbody>\n",
       "    <tr>\n",
       "      <th>488</th>\n",
       "      <td>4472-LVYGI</td>\n",
       "      <td>2020-02-01</td>\n",
       "      <td>No</td>\n",
       "      <td>Two year</td>\n",
       "      <td>Yes</td>\n",
       "      <td>Bank transfer (automatic)</td>\n",
       "      <td>52.55</td>\n",
       "      <td>52.55</td>\n",
       "      <td>Female</td>\n",
       "      <td>0</td>\n",
       "      <td>Yes</td>\n",
       "      <td>Yes</td>\n",
       "      <td>DSL</td>\n",
       "      <td>Yes</td>\n",
       "      <td>No</td>\n",
       "      <td>Yes</td>\n",
       "      <td>Yes</td>\n",
       "      <td>Yes</td>\n",
       "      <td>No</td>\n",
       "      <td>No</td>\n",
       "    </tr>\n",
       "    <tr>\n",
       "      <th>753</th>\n",
       "      <td>3115-CZMZD</td>\n",
       "      <td>2020-02-01</td>\n",
       "      <td>No</td>\n",
       "      <td>Two year</td>\n",
       "      <td>No</td>\n",
       "      <td>Mailed check</td>\n",
       "      <td>20.25</td>\n",
       "      <td>20.25</td>\n",
       "      <td>Male</td>\n",
       "      <td>0</td>\n",
       "      <td>No</td>\n",
       "      <td>Yes</td>\n",
       "      <td>No</td>\n",
       "      <td>No</td>\n",
       "      <td>No</td>\n",
       "      <td>No</td>\n",
       "      <td>No</td>\n",
       "      <td>No</td>\n",
       "      <td>No</td>\n",
       "      <td>No</td>\n",
       "    </tr>\n",
       "    <tr>\n",
       "      <th>936</th>\n",
       "      <td>5709-LVOEQ</td>\n",
       "      <td>2020-02-01</td>\n",
       "      <td>No</td>\n",
       "      <td>Two year</td>\n",
       "      <td>No</td>\n",
       "      <td>Mailed check</td>\n",
       "      <td>80.85</td>\n",
       "      <td>80.85</td>\n",
       "      <td>Female</td>\n",
       "      <td>0</td>\n",
       "      <td>Yes</td>\n",
       "      <td>Yes</td>\n",
       "      <td>DSL</td>\n",
       "      <td>Yes</td>\n",
       "      <td>Yes</td>\n",
       "      <td>Yes</td>\n",
       "      <td>No</td>\n",
       "      <td>Yes</td>\n",
       "      <td>Yes</td>\n",
       "      <td>No</td>\n",
       "    </tr>\n",
       "    <tr>\n",
       "      <th>1082</th>\n",
       "      <td>4367-NUYAO</td>\n",
       "      <td>2020-02-01</td>\n",
       "      <td>No</td>\n",
       "      <td>Two year</td>\n",
       "      <td>No</td>\n",
       "      <td>Mailed check</td>\n",
       "      <td>25.75</td>\n",
       "      <td>25.75</td>\n",
       "      <td>Male</td>\n",
       "      <td>0</td>\n",
       "      <td>Yes</td>\n",
       "      <td>Yes</td>\n",
       "      <td>No</td>\n",
       "      <td>No</td>\n",
       "      <td>No</td>\n",
       "      <td>No</td>\n",
       "      <td>No</td>\n",
       "      <td>No</td>\n",
       "      <td>No</td>\n",
       "      <td>Yes</td>\n",
       "    </tr>\n",
       "    <tr>\n",
       "      <th>1340</th>\n",
       "      <td>1371-DWPAZ</td>\n",
       "      <td>2020-02-01</td>\n",
       "      <td>No</td>\n",
       "      <td>Two year</td>\n",
       "      <td>No</td>\n",
       "      <td>Credit card (automatic)</td>\n",
       "      <td>56.05</td>\n",
       "      <td>56.05</td>\n",
       "      <td>Female</td>\n",
       "      <td>0</td>\n",
       "      <td>Yes</td>\n",
       "      <td>Yes</td>\n",
       "      <td>DSL</td>\n",
       "      <td>Yes</td>\n",
       "      <td>Yes</td>\n",
       "      <td>Yes</td>\n",
       "      <td>Yes</td>\n",
       "      <td>Yes</td>\n",
       "      <td>No</td>\n",
       "      <td>No</td>\n",
       "    </tr>\n",
       "  </tbody>\n",
       "</table>\n",
       "</div>"
      ],
      "text/plain": [
       "      customerID   BeginDate EndDate      Type PaperlessBilling  \\\n",
       "488   4472-LVYGI  2020-02-01      No  Two year              Yes   \n",
       "753   3115-CZMZD  2020-02-01      No  Two year               No   \n",
       "936   5709-LVOEQ  2020-02-01      No  Two year               No   \n",
       "1082  4367-NUYAO  2020-02-01      No  Two year               No   \n",
       "1340  1371-DWPAZ  2020-02-01      No  Two year               No   \n",
       "\n",
       "                  PaymentMethod  MonthlyCharges  TotalCharges  gender  \\\n",
       "488   Bank transfer (automatic)           52.55         52.55  Female   \n",
       "753                Mailed check           20.25         20.25    Male   \n",
       "936                Mailed check           80.85         80.85  Female   \n",
       "1082               Mailed check           25.75         25.75    Male   \n",
       "1340    Credit card (automatic)           56.05         56.05  Female   \n",
       "\n",
       "      SeniorCitizen Partner Dependents InternetService OnlineSecurity  \\\n",
       "488               0     Yes        Yes             DSL            Yes   \n",
       "753               0      No        Yes              No             No   \n",
       "936               0     Yes        Yes             DSL            Yes   \n",
       "1082              0     Yes        Yes              No             No   \n",
       "1340              0     Yes        Yes             DSL            Yes   \n",
       "\n",
       "     OnlineBackup DeviceProtection TechSupport StreamingTV StreamingMovies  \\\n",
       "488            No              Yes         Yes         Yes              No   \n",
       "753            No               No          No          No              No   \n",
       "936           Yes              Yes          No         Yes             Yes   \n",
       "1082           No               No          No          No              No   \n",
       "1340          Yes              Yes         Yes         Yes              No   \n",
       "\n",
       "     MultipleLines  \n",
       "488             No  \n",
       "753             No  \n",
       "936             No  \n",
       "1082           Yes  \n",
       "1340            No  "
      ]
     },
     "execution_count": 19,
     "metadata": {},
     "output_type": "execute_result"
    }
   ],
   "source": [
    "df[df['BeginDate'] == '2020-02-01'].head()"
   ]
  },
  {
   "cell_type": "code",
   "execution_count": 20,
   "id": "fa3ed84b",
   "metadata": {},
   "outputs": [
    {
     "data": {
      "text/html": [
       "<div>\n",
       "<style scoped>\n",
       "    .dataframe tbody tr th:only-of-type {\n",
       "        vertical-align: middle;\n",
       "    }\n",
       "\n",
       "    .dataframe tbody tr th {\n",
       "        vertical-align: top;\n",
       "    }\n",
       "\n",
       "    .dataframe thead th {\n",
       "        text-align: right;\n",
       "    }\n",
       "</style>\n",
       "<table border=\"1\" class=\"dataframe\">\n",
       "  <thead>\n",
       "    <tr style=\"text-align: right;\">\n",
       "      <th></th>\n",
       "      <th>MonthlyCharges</th>\n",
       "      <th>TotalCharges</th>\n",
       "      <th>SeniorCitizen</th>\n",
       "    </tr>\n",
       "  </thead>\n",
       "  <tbody>\n",
       "    <tr>\n",
       "      <th>count</th>\n",
       "      <td>7043.000000</td>\n",
       "      <td>7043.000000</td>\n",
       "      <td>7043.000000</td>\n",
       "    </tr>\n",
       "    <tr>\n",
       "      <th>mean</th>\n",
       "      <td>64.761692</td>\n",
       "      <td>2115.377573</td>\n",
       "      <td>0.162147</td>\n",
       "    </tr>\n",
       "    <tr>\n",
       "      <th>std</th>\n",
       "      <td>30.090047</td>\n",
       "      <td>2112.678861</td>\n",
       "      <td>0.368612</td>\n",
       "    </tr>\n",
       "    <tr>\n",
       "      <th>min</th>\n",
       "      <td>18.250000</td>\n",
       "      <td>19.050000</td>\n",
       "      <td>0.000000</td>\n",
       "    </tr>\n",
       "    <tr>\n",
       "      <th>25%</th>\n",
       "      <td>35.500000</td>\n",
       "      <td>436.750000</td>\n",
       "      <td>0.000000</td>\n",
       "    </tr>\n",
       "    <tr>\n",
       "      <th>50%</th>\n",
       "      <td>70.350000</td>\n",
       "      <td>1343.350000</td>\n",
       "      <td>0.000000</td>\n",
       "    </tr>\n",
       "    <tr>\n",
       "      <th>75%</th>\n",
       "      <td>89.850000</td>\n",
       "      <td>3236.690000</td>\n",
       "      <td>0.000000</td>\n",
       "    </tr>\n",
       "    <tr>\n",
       "      <th>max</th>\n",
       "      <td>118.750000</td>\n",
       "      <td>9221.380000</td>\n",
       "      <td>1.000000</td>\n",
       "    </tr>\n",
       "  </tbody>\n",
       "</table>\n",
       "</div>"
      ],
      "text/plain": [
       "       MonthlyCharges  TotalCharges  SeniorCitizen\n",
       "count     7043.000000   7043.000000    7043.000000\n",
       "mean        64.761692   2115.377573       0.162147\n",
       "std         30.090047   2112.678861       0.368612\n",
       "min         18.250000     19.050000       0.000000\n",
       "25%         35.500000    436.750000       0.000000\n",
       "50%         70.350000   1343.350000       0.000000\n",
       "75%         89.850000   3236.690000       0.000000\n",
       "max        118.750000   9221.380000       1.000000"
      ]
     },
     "execution_count": 20,
     "metadata": {},
     "output_type": "execute_result"
    }
   ],
   "source": [
    "df.describe()"
   ]
  },
  {
   "cell_type": "code",
   "execution_count": 21,
   "id": "a8010269",
   "metadata": {},
   "outputs": [
    {
     "name": "stdout",
     "output_type": "stream",
     "text": [
      "<class 'pandas.core.frame.DataFrame'>\n",
      "Int64Index: 7043 entries, 0 to 7042\n",
      "Data columns (total 20 columns):\n",
      " #   Column            Non-Null Count  Dtype  \n",
      "---  ------            --------------  -----  \n",
      " 0   customerID        7043 non-null   object \n",
      " 1   BeginDate         7043 non-null   object \n",
      " 2   EndDate           7043 non-null   object \n",
      " 3   Type              7043 non-null   object \n",
      " 4   PaperlessBilling  7043 non-null   object \n",
      " 5   PaymentMethod     7043 non-null   object \n",
      " 6   MonthlyCharges    7043 non-null   float64\n",
      " 7   TotalCharges      7043 non-null   float64\n",
      " 8   gender            7043 non-null   object \n",
      " 9   SeniorCitizen     7043 non-null   int64  \n",
      " 10  Partner           7043 non-null   object \n",
      " 11  Dependents        7043 non-null   object \n",
      " 12  InternetService   7043 non-null   object \n",
      " 13  OnlineSecurity    7043 non-null   object \n",
      " 14  OnlineBackup      7043 non-null   object \n",
      " 15  DeviceProtection  7043 non-null   object \n",
      " 16  TechSupport       7043 non-null   object \n",
      " 17  StreamingTV       7043 non-null   object \n",
      " 18  StreamingMovies   7043 non-null   object \n",
      " 19  MultipleLines     7043 non-null   object \n",
      "dtypes: float64(2), int64(1), object(17)\n",
      "memory usage: 1.1+ MB\n"
     ]
    }
   ],
   "source": [
    "df.info()"
   ]
  },
  {
   "cell_type": "markdown",
   "id": "b1c2df06",
   "metadata": {},
   "source": [
    "Most of the signs are categorical, except for MonthlyCharges and TotalCharges. The SeniorCitizen attribute is also categorical and already has numerical coding, we will take this into account when creating the Pipeline."
   ]
  },
  {
   "cell_type": "code",
   "execution_count": 22,
   "id": "4a894a99",
   "metadata": {},
   "outputs": [
    {
     "data": {
      "image/png": "[encoded data removed]",
      "text/plain": [
       "<Figure size 432x288 with 2 Axes>"
      ]
     },
     "metadata": {},
     "output_type": "display_data"
    }
   ],
   "source": [
    "plt.style.use('dark_background')\n",
    "fig, (ax1, ax2) = plt.subplots(2, 1)\n",
    "sns.boxplot(x=df['MonthlyCharges'], ax=ax1)\n",
    "sns.boxplot(x=df['TotalCharges'], ax=ax2);"
   ]
  },
  {
   "cell_type": "code",
   "execution_count": 23,
   "id": "dc1172c6",
   "metadata": {},
   "outputs": [
    {
     "data": {
      "text/html": [
       "<div>\n",
       "<style scoped>\n",
       "    .dataframe tbody tr th:only-of-type {\n",
       "        vertical-align: middle;\n",
       "    }\n",
       "\n",
       "    .dataframe tbody tr th {\n",
       "        vertical-align: top;\n",
       "    }\n",
       "\n",
       "    .dataframe thead th {\n",
       "        text-align: right;\n",
       "    }\n",
       "</style>\n",
       "<table border=\"1\" class=\"dataframe\">\n",
       "  <thead>\n",
       "    <tr style=\"text-align: right;\">\n",
       "      <th></th>\n",
       "      <th>customerID</th>\n",
       "      <th>BeginDate</th>\n",
       "      <th>EndDate</th>\n",
       "      <th>Type</th>\n",
       "      <th>PaperlessBilling</th>\n",
       "      <th>PaymentMethod</th>\n",
       "      <th>MonthlyCharges</th>\n",
       "      <th>TotalCharges</th>\n",
       "      <th>gender</th>\n",
       "      <th>SeniorCitizen</th>\n",
       "      <th>Partner</th>\n",
       "      <th>Dependents</th>\n",
       "      <th>InternetService</th>\n",
       "      <th>OnlineSecurity</th>\n",
       "      <th>OnlineBackup</th>\n",
       "      <th>DeviceProtection</th>\n",
       "      <th>TechSupport</th>\n",
       "      <th>StreamingTV</th>\n",
       "      <th>StreamingMovies</th>\n",
       "      <th>MultipleLines</th>\n",
       "    </tr>\n",
       "  </thead>\n",
       "  <tbody>\n",
       "    <tr>\n",
       "      <th>4610</th>\n",
       "      <td>2889-FPWRM</td>\n",
       "      <td>2013-10-01</td>\n",
       "      <td>No</td>\n",
       "      <td>One year</td>\n",
       "      <td>Yes</td>\n",
       "      <td>Bank transfer (automatic)</td>\n",
       "      <td>117.80</td>\n",
       "      <td>9221.38</td>\n",
       "      <td>Male</td>\n",
       "      <td>0</td>\n",
       "      <td>Yes</td>\n",
       "      <td>No</td>\n",
       "      <td>Fiber optic</td>\n",
       "      <td>Yes</td>\n",
       "      <td>Yes</td>\n",
       "      <td>Yes</td>\n",
       "      <td>Yes</td>\n",
       "      <td>Yes</td>\n",
       "      <td>Yes</td>\n",
       "      <td>Yes</td>\n",
       "    </tr>\n",
       "    <tr>\n",
       "      <th>3040</th>\n",
       "      <td>7317-GGVPB</td>\n",
       "      <td>2013-11-01</td>\n",
       "      <td>No</td>\n",
       "      <td>Two year</td>\n",
       "      <td>Yes</td>\n",
       "      <td>Credit card (automatic)</td>\n",
       "      <td>108.60</td>\n",
       "      <td>8145.00</td>\n",
       "      <td>Male</td>\n",
       "      <td>0</td>\n",
       "      <td>Yes</td>\n",
       "      <td>No</td>\n",
       "      <td>Fiber optic</td>\n",
       "      <td>No</td>\n",
       "      <td>Yes</td>\n",
       "      <td>Yes</td>\n",
       "      <td>Yes</td>\n",
       "      <td>Yes</td>\n",
       "      <td>Yes</td>\n",
       "      <td>Yes</td>\n",
       "    </tr>\n",
       "    <tr>\n",
       "      <th>975</th>\n",
       "      <td>2834-JRTUA</td>\n",
       "      <td>2013-11-01</td>\n",
       "      <td>No</td>\n",
       "      <td>Two year</td>\n",
       "      <td>Yes</td>\n",
       "      <td>Electronic check</td>\n",
       "      <td>108.05</td>\n",
       "      <td>8184.79</td>\n",
       "      <td>Male</td>\n",
       "      <td>0</td>\n",
       "      <td>No</td>\n",
       "      <td>No</td>\n",
       "      <td>Fiber optic</td>\n",
       "      <td>Yes</td>\n",
       "      <td>No</td>\n",
       "      <td>Yes</td>\n",
       "      <td>Yes</td>\n",
       "      <td>Yes</td>\n",
       "      <td>Yes</td>\n",
       "      <td>Yes</td>\n",
       "    </tr>\n",
       "    <tr>\n",
       "      <th>3634</th>\n",
       "      <td>3258-SYSWS</td>\n",
       "      <td>2014-02-01</td>\n",
       "      <td>No</td>\n",
       "      <td>Two year</td>\n",
       "      <td>No</td>\n",
       "      <td>Bank transfer (automatic)</td>\n",
       "      <td>113.80</td>\n",
       "      <td>8193.60</td>\n",
       "      <td>Male</td>\n",
       "      <td>1</td>\n",
       "      <td>No</td>\n",
       "      <td>No</td>\n",
       "      <td>Fiber optic</td>\n",
       "      <td>Yes</td>\n",
       "      <td>Yes</td>\n",
       "      <td>Yes</td>\n",
       "      <td>Yes</td>\n",
       "      <td>Yes</td>\n",
       "      <td>Yes</td>\n",
       "      <td>Yes</td>\n",
       "    </tr>\n",
       "    <tr>\n",
       "      <th>4553</th>\n",
       "      <td>5914-XRFQB</td>\n",
       "      <td>2014-02-01</td>\n",
       "      <td>No</td>\n",
       "      <td>Two year</td>\n",
       "      <td>Yes</td>\n",
       "      <td>Bank transfer (automatic)</td>\n",
       "      <td>115.80</td>\n",
       "      <td>8504.35</td>\n",
       "      <td>Male</td>\n",
       "      <td>0</td>\n",
       "      <td>Yes</td>\n",
       "      <td>No</td>\n",
       "      <td>Fiber optic</td>\n",
       "      <td>Yes</td>\n",
       "      <td>Yes</td>\n",
       "      <td>Yes</td>\n",
       "      <td>Yes</td>\n",
       "      <td>Yes</td>\n",
       "      <td>Yes</td>\n",
       "      <td>Yes</td>\n",
       "    </tr>\n",
       "    <tr>\n",
       "      <th>...</th>\n",
       "      <td>...</td>\n",
       "      <td>...</td>\n",
       "      <td>...</td>\n",
       "      <td>...</td>\n",
       "      <td>...</td>\n",
       "      <td>...</td>\n",
       "      <td>...</td>\n",
       "      <td>...</td>\n",
       "      <td>...</td>\n",
       "      <td>...</td>\n",
       "      <td>...</td>\n",
       "      <td>...</td>\n",
       "      <td>...</td>\n",
       "      <td>...</td>\n",
       "      <td>...</td>\n",
       "      <td>...</td>\n",
       "      <td>...</td>\n",
       "      <td>...</td>\n",
       "      <td>...</td>\n",
       "      <td>...</td>\n",
       "    </tr>\n",
       "    <tr>\n",
       "      <th>1586</th>\n",
       "      <td>3766-EJLFL</td>\n",
       "      <td>2014-06-01</td>\n",
       "      <td>No</td>\n",
       "      <td>Two year</td>\n",
       "      <td>Yes</td>\n",
       "      <td>Bank transfer (automatic)</td>\n",
       "      <td>109.05</td>\n",
       "      <td>8082.79</td>\n",
       "      <td>Female</td>\n",
       "      <td>0</td>\n",
       "      <td>Yes</td>\n",
       "      <td>Yes</td>\n",
       "      <td>Fiber optic</td>\n",
       "      <td>Yes</td>\n",
       "      <td>No</td>\n",
       "      <td>Yes</td>\n",
       "      <td>Yes</td>\n",
       "      <td>Yes</td>\n",
       "      <td>Yes</td>\n",
       "      <td>Yes</td>\n",
       "    </tr>\n",
       "    <tr>\n",
       "      <th>4838</th>\n",
       "      <td>1360-XFJMR</td>\n",
       "      <td>2014-07-01</td>\n",
       "      <td>No</td>\n",
       "      <td>One year</td>\n",
       "      <td>Yes</td>\n",
       "      <td>Credit card (automatic)</td>\n",
       "      <td>109.70</td>\n",
       "      <td>8011.39</td>\n",
       "      <td>Female</td>\n",
       "      <td>0</td>\n",
       "      <td>Yes</td>\n",
       "      <td>No</td>\n",
       "      <td>Fiber optic</td>\n",
       "      <td>No</td>\n",
       "      <td>Yes</td>\n",
       "      <td>Yes</td>\n",
       "      <td>Yes</td>\n",
       "      <td>Yes</td>\n",
       "      <td>Yes</td>\n",
       "      <td>Yes</td>\n",
       "    </tr>\n",
       "    <tr>\n",
       "      <th>2743</th>\n",
       "      <td>2323-ARSVR</td>\n",
       "      <td>2014-07-01</td>\n",
       "      <td>No</td>\n",
       "      <td>Two year</td>\n",
       "      <td>Yes</td>\n",
       "      <td>Electronic check</td>\n",
       "      <td>111.05</td>\n",
       "      <td>8035.58</td>\n",
       "      <td>Male</td>\n",
       "      <td>0</td>\n",
       "      <td>Yes</td>\n",
       "      <td>No</td>\n",
       "      <td>Fiber optic</td>\n",
       "      <td>Yes</td>\n",
       "      <td>Yes</td>\n",
       "      <td>Yes</td>\n",
       "      <td>Yes</td>\n",
       "      <td>Yes</td>\n",
       "      <td>Yes</td>\n",
       "      <td>No</td>\n",
       "    </tr>\n",
       "    <tr>\n",
       "      <th>6451</th>\n",
       "      <td>4868-AADLV</td>\n",
       "      <td>2014-08-01</td>\n",
       "      <td>No</td>\n",
       "      <td>One year</td>\n",
       "      <td>Yes</td>\n",
       "      <td>Electronic check</td>\n",
       "      <td>116.25</td>\n",
       "      <td>8363.03</td>\n",
       "      <td>Male</td>\n",
       "      <td>1</td>\n",
       "      <td>Yes</td>\n",
       "      <td>Yes</td>\n",
       "      <td>Fiber optic</td>\n",
       "      <td>Yes</td>\n",
       "      <td>Yes</td>\n",
       "      <td>Yes</td>\n",
       "      <td>Yes</td>\n",
       "      <td>Yes</td>\n",
       "      <td>Yes</td>\n",
       "      <td>Yes</td>\n",
       "    </tr>\n",
       "    <tr>\n",
       "      <th>2515</th>\n",
       "      <td>8869-LIHMK</td>\n",
       "      <td>2014-10-01</td>\n",
       "      <td>No</td>\n",
       "      <td>Two year</td>\n",
       "      <td>Yes</td>\n",
       "      <td>Bank transfer (automatic)</td>\n",
       "      <td>115.10</td>\n",
       "      <td>8029.38</td>\n",
       "      <td>Female</td>\n",
       "      <td>0</td>\n",
       "      <td>No</td>\n",
       "      <td>No</td>\n",
       "      <td>Fiber optic</td>\n",
       "      <td>Yes</td>\n",
       "      <td>Yes</td>\n",
       "      <td>Yes</td>\n",
       "      <td>Yes</td>\n",
       "      <td>Yes</td>\n",
       "      <td>Yes</td>\n",
       "      <td>Yes</td>\n",
       "    </tr>\n",
       "  </tbody>\n",
       "</table>\n",
       "<p>99 rows × 20 columns</p>\n",
       "</div>"
      ],
      "text/plain": [
       "      customerID   BeginDate EndDate      Type PaperlessBilling  \\\n",
       "4610  2889-FPWRM  2013-10-01      No  One year              Yes   \n",
       "3040  7317-GGVPB  2013-11-01      No  Two year              Yes   \n",
       "975   2834-JRTUA  2013-11-01      No  Two year              Yes   \n",
       "3634  3258-SYSWS  2014-02-01      No  Two year               No   \n",
       "4553  5914-XRFQB  2014-02-01      No  Two year              Yes   \n",
       "...          ...         ...     ...       ...              ...   \n",
       "1586  3766-EJLFL  2014-06-01      No  Two year              Yes   \n",
       "4838  1360-XFJMR  2014-07-01      No  One year              Yes   \n",
       "2743  2323-ARSVR  2014-07-01      No  Two year              Yes   \n",
       "6451  4868-AADLV  2014-08-01      No  One year              Yes   \n",
       "2515  8869-LIHMK  2014-10-01      No  Two year              Yes   \n",
       "\n",
       "                  PaymentMethod  MonthlyCharges  TotalCharges  gender  \\\n",
       "4610  Bank transfer (automatic)          117.80       9221.38    Male   \n",
       "3040    Credit card (automatic)          108.60       8145.00    Male   \n",
       "975            Electronic check          108.05       8184.79    Male   \n",
       "3634  Bank transfer (automatic)          113.80       8193.60    Male   \n",
       "4553  Bank transfer (automatic)          115.80       8504.35    Male   \n",
       "...                         ...             ...           ...     ...   \n",
       "1586  Bank transfer (automatic)          109.05       8082.79  Female   \n",
       "4838    Credit card (automatic)          109.70       8011.39  Female   \n",
       "2743           Electronic check          111.05       8035.58    Male   \n",
       "6451           Electronic check          116.25       8363.03    Male   \n",
       "2515  Bank transfer (automatic)          115.10       8029.38  Female   \n",
       "\n",
       "      SeniorCitizen Partner Dependents InternetService OnlineSecurity  \\\n",
       "4610              0     Yes         No     Fiber optic            Yes   \n",
       "3040              0     Yes         No     Fiber optic             No   \n",
       "975               0      No         No     Fiber optic            Yes   \n",
       "3634              1      No         No     Fiber optic            Yes   \n",
       "4553              0     Yes         No     Fiber optic            Yes   \n",
       "...             ...     ...        ...             ...            ...   \n",
       "1586              0     Yes        Yes     Fiber optic            Yes   \n",
       "4838              0     Yes         No     Fiber optic             No   \n",
       "2743              0     Yes         No     Fiber optic            Yes   \n",
       "6451              1     Yes        Yes     Fiber optic            Yes   \n",
       "2515              0      No         No     Fiber optic            Yes   \n",
       "\n",
       "     OnlineBackup DeviceProtection TechSupport StreamingTV StreamingMovies  \\\n",
       "4610          Yes              Yes         Yes         Yes             Yes   \n",
       "3040          Yes              Yes         Yes         Yes             Yes   \n",
       "975            No              Yes         Yes         Yes             Yes   \n",
       "3634          Yes              Yes         Yes         Yes             Yes   \n",
       "4553          Yes              Yes         Yes         Yes             Yes   \n",
       "...           ...              ...         ...         ...             ...   \n",
       "1586           No              Yes         Yes         Yes             Yes   \n",
       "4838          Yes              Yes         Yes         Yes             Yes   \n",
       "2743          Yes              Yes         Yes         Yes             Yes   \n",
       "6451          Yes              Yes         Yes         Yes             Yes   \n",
       "2515          Yes              Yes         Yes         Yes             Yes   \n",
       "\n",
       "     MultipleLines  \n",
       "4610           Yes  \n",
       "3040           Yes  \n",
       "975            Yes  \n",
       "3634           Yes  \n",
       "4553           Yes  \n",
       "...            ...  \n",
       "1586           Yes  \n",
       "4838           Yes  \n",
       "2743            No  \n",
       "6451           Yes  \n",
       "2515           Yes  \n",
       "\n",
       "[99 rows x 20 columns]"
      ]
     },
     "execution_count": 23,
     "metadata": {},
     "output_type": "execute_result"
    }
   ],
   "source": [
    "df[df['TotalCharges'] > 8000].sort_values('BeginDate')"
   ]
  },
  {
   "cell_type": "markdown",
   "id": "97adaf9e",
   "metadata": {},
   "source": [
    "TotalCharges have outliers according to the boxplot version, but if you look at the date of user registration, you can understand that these are regular customers who have a long payment history and should not be deleted. We will add a column with a target attribute through a sign with the end date of using the services, and also add a feature with the number of days of the contract at the time of data upload."
   ]
  },
  {
   "cell_type": "code",
   "execution_count": 24,
   "id": "53bce439",
   "metadata": {},
   "outputs": [],
   "source": [
    "df['target'] = df['EndDate'].apply(lambda x: 1 if x !='No' else 0)"
   ]
  },
  {
   "cell_type": "code",
   "execution_count": 25,
   "id": "bd734a71",
   "metadata": {},
   "outputs": [],
   "source": [
    "def fill_date(value):\n",
    "    if value == 'No':\n",
    "        return '2020-02-01'\n",
    "    else:\n",
    "        return value"
   ]
  },
  {
   "cell_type": "code",
   "execution_count": 26,
   "id": "bbd6eca9",
   "metadata": {},
   "outputs": [],
   "source": [
    "df['EndDate_new'] = df['EndDate'].apply(fill_date)"
   ]
  },
  {
   "cell_type": "code",
   "execution_count": 27,
   "id": "13594a89",
   "metadata": {},
   "outputs": [],
   "source": [
    "df['EndDate_new'] = df['EndDate_new'].astype('datetime64')\n",
    "df['BeginDate'] = df['BeginDate'].astype('datetime64')\n",
    "df['count_days'] = (df['EndDate_new'] - df['BeginDate']).dt.days"
   ]
  },
  {
   "cell_type": "markdown",
   "id": "ff823f98-6b94-4ce0-b433-33880dffe3d9",
   "metadata": {},
   "source": [
    "We will also add a feature with the number of days until the next payment and the num days from last payment. If the contract is no longer valid, then we count the number of days until the next payment from the end date of the contract."
   ]
  },
  {
   "cell_type": "code",
   "execution_count": 28,
   "id": "97c77810-e2d5-4920-b763-0a48c7be8aef",
   "metadata": {},
   "outputs": [],
   "source": [
    "def num_days_to_next_payment(row):\n",
    "    next_date_payment = row['BeginDate']\n",
    "    if row['Type'] == 'Month-to-month':\n",
    "        while next_date_payment < row['EndDate_new']:\n",
    "            next_date_payment = next_date_payment + pd.to_timedelta(30, unit='d')\n",
    "        return (next_date_payment - row['EndDate_new']).days\n",
    "    elif row['Type'] == 'One year':\n",
    "        while next_date_payment < row['EndDate_new']:\n",
    "            next_date_payment = next_date_payment + pd.to_timedelta(365, unit='d')\n",
    "        return (next_date_payment - row['EndDate_new']).days\n",
    "    else:\n",
    "        while next_date_payment < row['EndDate_new']:\n",
    "            next_date_payment = next_date_payment + pd.to_timedelta(730, unit='d')\n",
    "        return (next_date_payment - row['EndDate_new']).days"
   ]
  },
  {
   "cell_type": "code",
   "execution_count": 29,
   "id": "8a9887d0-1999-4c0a-93a4-dc6b1e0e58bd",
   "metadata": {},
   "outputs": [],
   "source": [
    "df['num_days_to_next_payment'] = df.apply(num_days_to_next_payment, axis=1)"
   ]
  },
  {
   "cell_type": "code",
   "execution_count": 30,
   "id": "a19fe3fc-d575-41fd-8c2e-1324eeb88719",
   "metadata": {},
   "outputs": [],
   "source": [
    "def num_days_from_last_payment(row):\n",
    "    last_date_payment = row['BeginDate']\n",
    "    if row['Type'] == 'Month-to-month':\n",
    "        while last_date_payment < row['EndDate_new']:\n",
    "            last_date_payment = last_date_payment + pd.to_timedelta(30, unit='d')\n",
    "        return (row['EndDate_new'] - (last_date_payment - pd.to_timedelta(30, unit='d'))).days\n",
    "    elif row['Type'] == 'One year':\n",
    "        while last_date_payment < row['EndDate_new']:\n",
    "            last_date_payment = last_date_payment + pd.to_timedelta(365, unit='d')\n",
    "        return (row['EndDate_new']- (last_date_payment - pd.to_timedelta(365, unit='d'))).days\n",
    "    else:\n",
    "        while last_date_payment < row['EndDate_new']:\n",
    "            last_date_payment = last_date_payment + pd.to_timedelta(730, unit='d')\n",
    "        return (row['EndDate_new']- (last_date_payment - pd.to_timedelta(730, unit='d'))).days"
   ]
  },
  {
   "cell_type": "code",
   "execution_count": 31,
   "id": "4182ca7a-3899-4bba-bf12-c1c60fedbd7f",
   "metadata": {},
   "outputs": [],
   "source": [
    "df['num_days_from_last_payment'] = df.apply(num_days_from_last_payment, axis=1)"
   ]
  },
  {
   "cell_type": "code",
   "execution_count": 32,
   "id": "b8129787",
   "metadata": {},
   "outputs": [
    {
     "data": {
      "text/html": [
       "<div>\n",
       "<style scoped>\n",
       "    .dataframe tbody tr th:only-of-type {\n",
       "        vertical-align: middle;\n",
       "    }\n",
       "\n",
       "    .dataframe tbody tr th {\n",
       "        vertical-align: top;\n",
       "    }\n",
       "\n",
       "    .dataframe thead th {\n",
       "        text-align: right;\n",
       "    }\n",
       "</style>\n",
       "<table border=\"1\" class=\"dataframe\">\n",
       "  <thead>\n",
       "    <tr style=\"text-align: right;\">\n",
       "      <th></th>\n",
       "      <th>BeginDate</th>\n",
       "      <th>Type</th>\n",
       "      <th>num_days_to_next_payment</th>\n",
       "      <th>num_days_from_last_payment</th>\n",
       "      <th>EndDate_new</th>\n",
       "    </tr>\n",
       "  </thead>\n",
       "  <tbody>\n",
       "    <tr>\n",
       "      <th>0</th>\n",
       "      <td>2020-01-01</td>\n",
       "      <td>Month-to-month</td>\n",
       "      <td>29</td>\n",
       "      <td>1</td>\n",
       "      <td>2020-02-01</td>\n",
       "    </tr>\n",
       "    <tr>\n",
       "      <th>1</th>\n",
       "      <td>2017-04-01</td>\n",
       "      <td>One year</td>\n",
       "      <td>59</td>\n",
       "      <td>306</td>\n",
       "      <td>2020-02-01</td>\n",
       "    </tr>\n",
       "    <tr>\n",
       "      <th>2</th>\n",
       "      <td>2019-10-01</td>\n",
       "      <td>Month-to-month</td>\n",
       "      <td>27</td>\n",
       "      <td>3</td>\n",
       "      <td>2020-02-01</td>\n",
       "    </tr>\n",
       "    <tr>\n",
       "      <th>3</th>\n",
       "      <td>2016-05-01</td>\n",
       "      <td>One year</td>\n",
       "      <td>89</td>\n",
       "      <td>276</td>\n",
       "      <td>2020-02-01</td>\n",
       "    </tr>\n",
       "    <tr>\n",
       "      <th>4</th>\n",
       "      <td>2019-09-01</td>\n",
       "      <td>Month-to-month</td>\n",
       "      <td>27</td>\n",
       "      <td>3</td>\n",
       "      <td>2020-02-01</td>\n",
       "    </tr>\n",
       "  </tbody>\n",
       "</table>\n",
       "</div>"
      ],
      "text/plain": [
       "   BeginDate            Type  num_days_to_next_payment  \\\n",
       "0 2020-01-01  Month-to-month                        29   \n",
       "1 2017-04-01        One year                        59   \n",
       "2 2019-10-01  Month-to-month                        27   \n",
       "3 2016-05-01        One year                        89   \n",
       "4 2019-09-01  Month-to-month                        27   \n",
       "\n",
       "   num_days_from_last_payment EndDate_new  \n",
       "0                           1  2020-02-01  \n",
       "1                         306  2020-02-01  \n",
       "2                           3  2020-02-01  \n",
       "3                         276  2020-02-01  \n",
       "4                           3  2020-02-01  "
      ]
     },
     "execution_count": 32,
     "metadata": {},
     "output_type": "execute_result"
    }
   ],
   "source": [
    "df[['BeginDate', 'Type', 'num_days_to_next_payment', 'num_days_from_last_payment', 'EndDate_new']].head()"
   ]
  },
  {
   "cell_type": "markdown",
   "id": "1225796b",
   "metadata": {},
   "source": [
    "Remove unnecessary features"
   ]
  },
  {
   "cell_type": "code",
   "execution_count": 33,
   "id": "bf85a856",
   "metadata": {
    "tags": []
   },
   "outputs": [],
   "source": [
    "df = df.drop(['customerID', 'BeginDate', 'EndDate', 'EndDate_new'], axis=1)"
   ]
  },
  {
   "cell_type": "markdown",
   "id": "b49be129",
   "metadata": {},
   "source": [
    "Since we have a lot of categorical features, let's check the correlation between the features using phik.Since we have a lot of categorical features, let's check the correlation between the features using phik."
   ]
  },
  {
   "cell_type": "code",
   "execution_count": 34,
   "id": "f6f323e8",
   "metadata": {},
   "outputs": [
    {
     "name": "stdout",
     "output_type": "stream",
     "text": [
      "interval columns not set, guessing: ['MonthlyCharges', 'TotalCharges', 'SeniorCitizen', 'target', 'count_days', 'num_days_to_next_payment', 'num_days_from_last_payment']\n"
     ]
    },
    {
     "data": {
      "image/png": "[encoded data removed]",
      "text/plain": [
       "<Figure size 1440x720 with 2 Axes>"
      ]
     },
     "metadata": {},
     "output_type": "display_data"
    }
   ],
   "source": [
    "plt.figure(figsize=(20, 10))\n",
    "sns.heatmap(df.phik_matrix().sort_values(by='target'), cmap='Blues', annot=True)\n",
    "plt.title('correlation $\\phi_K$');"
   ]
  },
  {
   "cell_type": "markdown",
   "id": "6d2a4706",
   "metadata": {},
   "source": [
    "The graph shows that the target attribute has a very weak relationship with gender, Dependents. Let's remove these features."
   ]
  },
  {
   "cell_type": "code",
   "execution_count": 35,
   "id": "7b5db284",
   "metadata": {},
   "outputs": [],
   "source": [
    "df = df.drop(['gender', 'Dependents'], axis=1)"
   ]
  },
  {
   "cell_type": "markdown",
   "id": "2436e6ca",
   "metadata": {},
   "source": [
    "Let's look at the values in categorical features"
   ]
  },
  {
   "cell_type": "code",
   "execution_count": 36,
   "id": "cf765817",
   "metadata": {},
   "outputs": [
    {
     "name": "stdout",
     "output_type": "stream",
     "text": [
      "Month-to-month    3875\n",
      "Two year          1695\n",
      "One year          1473\n",
      "Name: Type, dtype: int64\n",
      "----------------------------------------\n",
      "Yes    4171\n",
      "No     2872\n",
      "Name: PaperlessBilling, dtype: int64\n",
      "----------------------------------------\n",
      "Electronic check             2365\n",
      "Mailed check                 1612\n",
      "Bank transfer (automatic)    1544\n",
      "Credit card (automatic)      1522\n",
      "Name: PaymentMethod, dtype: int64\n",
      "----------------------------------------\n",
      "No     3641\n",
      "Yes    3402\n",
      "Name: Partner, dtype: int64\n",
      "----------------------------------------\n",
      "Fiber optic    3096\n",
      "DSL            2421\n",
      "No             1526\n",
      "Name: InternetService, dtype: int64\n",
      "----------------------------------------\n",
      "No     5024\n",
      "Yes    2019\n",
      "Name: OnlineSecurity, dtype: int64\n",
      "----------------------------------------\n",
      "No     4614\n",
      "Yes    2429\n",
      "Name: OnlineBackup, dtype: int64\n",
      "----------------------------------------\n",
      "No     4621\n",
      "Yes    2422\n",
      "Name: DeviceProtection, dtype: int64\n",
      "----------------------------------------\n",
      "No     4999\n",
      "Yes    2044\n",
      "Name: TechSupport, dtype: int64\n",
      "----------------------------------------\n",
      "No     4336\n",
      "Yes    2707\n",
      "Name: StreamingTV, dtype: int64\n",
      "----------------------------------------\n",
      "No     4311\n",
      "Yes    2732\n",
      "Name: StreamingMovies, dtype: int64\n",
      "----------------------------------------\n",
      "No     4072\n",
      "Yes    2971\n",
      "Name: MultipleLines, dtype: int64\n",
      "----------------------------------------\n"
     ]
    }
   ],
   "source": [
    "for col in df.select_dtypes(include='object').columns:\n",
    "    print(df[col].value_counts())\n",
    "    print('-'*40)"
   ]
  },
  {
   "cell_type": "markdown",
   "id": "fbf34b16",
   "metadata": {},
   "source": [
    "Let's check the distribution of the target feature."
   ]
  },
  {
   "cell_type": "code",
   "execution_count": 37,
   "id": "e4c82261",
   "metadata": {},
   "outputs": [
    {
     "data": {
      "text/plain": [
       "0    0.843675\n",
       "1    0.156325\n",
       "Name: target, dtype: float64"
      ]
     },
     "execution_count": 37,
     "metadata": {},
     "output_type": "execute_result"
    }
   ],
   "source": [
    "df['target'].value_counts(normalize=True)"
   ]
  },
  {
   "cell_type": "code",
   "execution_count": 38,
   "id": "5fde62e5-f8e6-47a3-8fb5-02fd3ff091ae",
   "metadata": {},
   "outputs": [
    {
     "data": {
      "text/plain": [
       "Index(['MonthlyCharges', 'TotalCharges', 'SeniorCitizen', 'target',\n",
       "       'count_days', 'num_days_to_next_payment', 'num_days_from_last_payment'],\n",
       "      dtype='object')"
      ]
     },
     "execution_count": 38,
     "metadata": {},
     "output_type": "execute_result"
    }
   ],
   "source": [
    "df.select_dtypes(exclude='object').columns"
   ]
  },
  {
   "cell_type": "code",
   "execution_count": 39,
   "id": "5b4539e5-4cdd-4d54-ac99-0adc69b0b4b6",
   "metadata": {},
   "outputs": [
    {
     "data": {
      "text/plain": [
       "0        29.85\n",
       "1        56.95\n",
       "2        53.85\n",
       "3        42.30\n",
       "4        70.70\n",
       "         ...  \n",
       "7038     84.80\n",
       "7039    103.20\n",
       "7040     29.60\n",
       "7041     74.40\n",
       "7042    105.65\n",
       "Name: MonthlyCharges, Length: 7043, dtype: float64"
      ]
     },
     "execution_count": 39,
     "metadata": {},
     "output_type": "execute_result"
    }
   ],
   "source": [
    "df['MonthlyCharges']"
   ]
  },
  {
   "cell_type": "code",
   "execution_count": 40,
   "id": "5afbb28c",
   "metadata": {},
   "outputs": [
    {
     "data": {
      "image/png": "[encoded data removed]",
      "text/plain": [
       "<Figure size 1440x720 with 2 Axes>"
      ]
     },
     "metadata": {},
     "output_type": "display_data"
    }
   ],
   "source": [
    "fig, (ax1, ax2) = plt.subplots(1, 2, figsize=(20, 10))\n",
    "ax1.grid()\n",
    "sns.set_palette(\"Set1\")\n",
    "sns.scatterplot(data=df, x='TotalCharges', y='MonthlyCharges', hue='target', ax=ax1)\n",
    "ax1.set_xlabel('TotalCharges')\n",
    "ax1.set_ylabel('MonthlyCharges')\n",
    "ax1.set_title('Client classes')\n",
    "ax2.grid()\n",
    "sns.histplot(df, x='target', hue='target', ax=ax2)\n",
    "ax2.set_title('Client classes');"
   ]
  },
  {
   "cell_type": "markdown",
   "id": "cf0db6c7",
   "metadata": {},
   "source": [
    "As you can see, there is an imbalance of the target attribute in the data. Let's take this into account when building the model."
   ]
  },
  {
   "cell_type": "code",
   "execution_count": 41,
   "id": "18bf7594",
   "metadata": {},
   "outputs": [
    {
     "data": {
      "text/html": [
       "<div>\n",
       "<style scoped>\n",
       "    .dataframe tbody tr th:only-of-type {\n",
       "        vertical-align: middle;\n",
       "    }\n",
       "\n",
       "    .dataframe tbody tr th {\n",
       "        vertical-align: top;\n",
       "    }\n",
       "\n",
       "    .dataframe thead th {\n",
       "        text-align: right;\n",
       "    }\n",
       "</style>\n",
       "<table border=\"1\" class=\"dataframe\">\n",
       "  <thead>\n",
       "    <tr style=\"text-align: right;\">\n",
       "      <th></th>\n",
       "      <th>Type</th>\n",
       "      <th>PaperlessBilling</th>\n",
       "      <th>PaymentMethod</th>\n",
       "      <th>MonthlyCharges</th>\n",
       "      <th>TotalCharges</th>\n",
       "      <th>SeniorCitizen</th>\n",
       "      <th>Partner</th>\n",
       "      <th>InternetService</th>\n",
       "      <th>OnlineSecurity</th>\n",
       "      <th>OnlineBackup</th>\n",
       "      <th>DeviceProtection</th>\n",
       "      <th>TechSupport</th>\n",
       "      <th>StreamingTV</th>\n",
       "      <th>StreamingMovies</th>\n",
       "      <th>MultipleLines</th>\n",
       "      <th>target</th>\n",
       "      <th>count_days</th>\n",
       "      <th>num_days_to_next_payment</th>\n",
       "      <th>num_days_from_last_payment</th>\n",
       "    </tr>\n",
       "  </thead>\n",
       "  <tbody>\n",
       "    <tr>\n",
       "      <th>0</th>\n",
       "      <td>Month-to-month</td>\n",
       "      <td>Yes</td>\n",
       "      <td>Electronic check</td>\n",
       "      <td>29.85</td>\n",
       "      <td>31.04</td>\n",
       "      <td>0</td>\n",
       "      <td>Yes</td>\n",
       "      <td>DSL</td>\n",
       "      <td>No</td>\n",
       "      <td>Yes</td>\n",
       "      <td>No</td>\n",
       "      <td>No</td>\n",
       "      <td>No</td>\n",
       "      <td>No</td>\n",
       "      <td>No</td>\n",
       "      <td>0</td>\n",
       "      <td>31</td>\n",
       "      <td>29</td>\n",
       "      <td>1</td>\n",
       "    </tr>\n",
       "    <tr>\n",
       "      <th>1</th>\n",
       "      <td>One year</td>\n",
       "      <td>No</td>\n",
       "      <td>Mailed check</td>\n",
       "      <td>56.95</td>\n",
       "      <td>2071.84</td>\n",
       "      <td>0</td>\n",
       "      <td>No</td>\n",
       "      <td>DSL</td>\n",
       "      <td>Yes</td>\n",
       "      <td>No</td>\n",
       "      <td>Yes</td>\n",
       "      <td>No</td>\n",
       "      <td>No</td>\n",
       "      <td>No</td>\n",
       "      <td>No</td>\n",
       "      <td>0</td>\n",
       "      <td>1036</td>\n",
       "      <td>59</td>\n",
       "      <td>306</td>\n",
       "    </tr>\n",
       "    <tr>\n",
       "      <th>2</th>\n",
       "      <td>Month-to-month</td>\n",
       "      <td>Yes</td>\n",
       "      <td>Mailed check</td>\n",
       "      <td>53.85</td>\n",
       "      <td>226.17</td>\n",
       "      <td>0</td>\n",
       "      <td>No</td>\n",
       "      <td>DSL</td>\n",
       "      <td>Yes</td>\n",
       "      <td>Yes</td>\n",
       "      <td>No</td>\n",
       "      <td>No</td>\n",
       "      <td>No</td>\n",
       "      <td>No</td>\n",
       "      <td>No</td>\n",
       "      <td>0</td>\n",
       "      <td>123</td>\n",
       "      <td>27</td>\n",
       "      <td>3</td>\n",
       "    </tr>\n",
       "    <tr>\n",
       "      <th>3</th>\n",
       "      <td>One year</td>\n",
       "      <td>No</td>\n",
       "      <td>Bank transfer (automatic)</td>\n",
       "      <td>42.30</td>\n",
       "      <td>1960.60</td>\n",
       "      <td>0</td>\n",
       "      <td>No</td>\n",
       "      <td>DSL</td>\n",
       "      <td>Yes</td>\n",
       "      <td>No</td>\n",
       "      <td>Yes</td>\n",
       "      <td>Yes</td>\n",
       "      <td>No</td>\n",
       "      <td>No</td>\n",
       "      <td>No</td>\n",
       "      <td>0</td>\n",
       "      <td>1371</td>\n",
       "      <td>89</td>\n",
       "      <td>276</td>\n",
       "    </tr>\n",
       "    <tr>\n",
       "      <th>4</th>\n",
       "      <td>Month-to-month</td>\n",
       "      <td>Yes</td>\n",
       "      <td>Electronic check</td>\n",
       "      <td>70.70</td>\n",
       "      <td>353.50</td>\n",
       "      <td>0</td>\n",
       "      <td>No</td>\n",
       "      <td>Fiber optic</td>\n",
       "      <td>No</td>\n",
       "      <td>No</td>\n",
       "      <td>No</td>\n",
       "      <td>No</td>\n",
       "      <td>No</td>\n",
       "      <td>No</td>\n",
       "      <td>No</td>\n",
       "      <td>0</td>\n",
       "      <td>153</td>\n",
       "      <td>27</td>\n",
       "      <td>3</td>\n",
       "    </tr>\n",
       "  </tbody>\n",
       "</table>\n",
       "</div>"
      ],
      "text/plain": [
       "             Type PaperlessBilling              PaymentMethod  MonthlyCharges  \\\n",
       "0  Month-to-month              Yes           Electronic check           29.85   \n",
       "1        One year               No               Mailed check           56.95   \n",
       "2  Month-to-month              Yes               Mailed check           53.85   \n",
       "3        One year               No  Bank transfer (automatic)           42.30   \n",
       "4  Month-to-month              Yes           Electronic check           70.70   \n",
       "\n",
       "   TotalCharges  SeniorCitizen Partner InternetService OnlineSecurity  \\\n",
       "0         31.04              0     Yes             DSL             No   \n",
       "1       2071.84              0      No             DSL            Yes   \n",
       "2        226.17              0      No             DSL            Yes   \n",
       "3       1960.60              0      No             DSL            Yes   \n",
       "4        353.50              0      No     Fiber optic             No   \n",
       "\n",
       "  OnlineBackup DeviceProtection TechSupport StreamingTV StreamingMovies  \\\n",
       "0          Yes               No          No          No              No   \n",
       "1           No              Yes          No          No              No   \n",
       "2          Yes               No          No          No              No   \n",
       "3           No              Yes         Yes          No              No   \n",
       "4           No               No          No          No              No   \n",
       "\n",
       "  MultipleLines  target  count_days  num_days_to_next_payment  \\\n",
       "0            No       0          31                        29   \n",
       "1            No       0        1036                        59   \n",
       "2            No       0         123                        27   \n",
       "3            No       0        1371                        89   \n",
       "4            No       0         153                        27   \n",
       "\n",
       "   num_days_from_last_payment  \n",
       "0                           1  \n",
       "1                         306  \n",
       "2                           3  \n",
       "3                         276  \n",
       "4                           3  "
      ]
     },
     "execution_count": 41,
     "metadata": {},
     "output_type": "execute_result"
    }
   ],
   "source": [
    "df.head()"
   ]
  },
  {
   "cell_type": "markdown",
   "id": "46a2198a",
   "metadata": {},
   "source": [
    "## Preprocessing"
   ]
  },
  {
   "cell_type": "markdown",
   "id": "22d9be39",
   "metadata": {},
   "source": [
    "### Splitting into train and test samples"
   ]
  },
  {
   "cell_type": "markdown",
   "id": "510089d6",
   "metadata": {},
   "source": [
    "Let's split the sample into training and test in a ratio of 3 to 1 (test_size=0.25), using shuffle and stratify, because we have an imbalance of the target feature."
   ]
  },
  {
   "cell_type": "code",
   "execution_count": 42,
   "id": "03c8cbf5",
   "metadata": {},
   "outputs": [],
   "source": [
    "X = df.drop('target', axis=1)\n",
    "y = df['target']"
   ]
  },
  {
   "cell_type": "code",
   "execution_count": 43,
   "id": "617cfc28",
   "metadata": {},
   "outputs": [],
   "source": [
    "X_train, X_test, y_train, y_test = train_test_split(X, y,\n",
    "                                                    test_size = 0.25,\n",
    "                                                    shuffle=True,\n",
    "                                                    stratify=y,\n",
    "                                                    random_state=RANDOM_STATE)"
   ]
  },
  {
   "cell_type": "markdown",
   "id": "cef755bb",
   "metadata": {
    "tags": []
   },
   "source": [
    "### Features transformation"
   ]
  },
  {
   "cell_type": "markdown",
   "id": "189b6b75",
   "metadata": {},
   "source": [
    "Let's create lists with the names of categorical and quantitative features."
   ]
  },
  {
   "cell_type": "code",
   "execution_count": 44,
   "id": "14ece1f9",
   "metadata": {},
   "outputs": [],
   "source": [
    "cat_features = X.select_dtypes(include='object').columns.to_list()\n",
    "num_features = X.select_dtypes(exclude='object').columns.to_list()\n",
    "num_features.remove('SeniorCitizen')"
   ]
  },
  {
   "cell_type": "code",
   "execution_count": 45,
   "id": "9223b948",
   "metadata": {},
   "outputs": [
    {
     "data": {
      "text/html": [
       "<div>\n",
       "<style scoped>\n",
       "    .dataframe tbody tr th:only-of-type {\n",
       "        vertical-align: middle;\n",
       "    }\n",
       "\n",
       "    .dataframe tbody tr th {\n",
       "        vertical-align: top;\n",
       "    }\n",
       "\n",
       "    .dataframe thead th {\n",
       "        text-align: right;\n",
       "    }\n",
       "</style>\n",
       "<table border=\"1\" class=\"dataframe\">\n",
       "  <thead>\n",
       "    <tr style=\"text-align: right;\">\n",
       "      <th></th>\n",
       "      <th>MonthlyCharges</th>\n",
       "      <th>TotalCharges</th>\n",
       "      <th>count_days</th>\n",
       "      <th>num_days_to_next_payment</th>\n",
       "      <th>num_days_from_last_payment</th>\n",
       "    </tr>\n",
       "  </thead>\n",
       "  <tbody>\n",
       "    <tr>\n",
       "      <th>0</th>\n",
       "      <td>29.85</td>\n",
       "      <td>31.04</td>\n",
       "      <td>31</td>\n",
       "      <td>29</td>\n",
       "      <td>1</td>\n",
       "    </tr>\n",
       "    <tr>\n",
       "      <th>1</th>\n",
       "      <td>56.95</td>\n",
       "      <td>2071.84</td>\n",
       "      <td>1036</td>\n",
       "      <td>59</td>\n",
       "      <td>306</td>\n",
       "    </tr>\n",
       "    <tr>\n",
       "      <th>2</th>\n",
       "      <td>53.85</td>\n",
       "      <td>226.17</td>\n",
       "      <td>123</td>\n",
       "      <td>27</td>\n",
       "      <td>3</td>\n",
       "    </tr>\n",
       "    <tr>\n",
       "      <th>3</th>\n",
       "      <td>42.30</td>\n",
       "      <td>1960.60</td>\n",
       "      <td>1371</td>\n",
       "      <td>89</td>\n",
       "      <td>276</td>\n",
       "    </tr>\n",
       "    <tr>\n",
       "      <th>4</th>\n",
       "      <td>70.70</td>\n",
       "      <td>353.50</td>\n",
       "      <td>153</td>\n",
       "      <td>27</td>\n",
       "      <td>3</td>\n",
       "    </tr>\n",
       "  </tbody>\n",
       "</table>\n",
       "</div>"
      ],
      "text/plain": [
       "   MonthlyCharges  TotalCharges  count_days  num_days_to_next_payment  \\\n",
       "0           29.85         31.04          31                        29   \n",
       "1           56.95       2071.84        1036                        59   \n",
       "2           53.85        226.17         123                        27   \n",
       "3           42.30       1960.60        1371                        89   \n",
       "4           70.70        353.50         153                        27   \n",
       "\n",
       "   num_days_from_last_payment  \n",
       "0                           1  \n",
       "1                         306  \n",
       "2                           3  \n",
       "3                         276  \n",
       "4                           3  "
      ]
     },
     "metadata": {},
     "output_type": "display_data"
    },
    {
     "data": {
      "text/html": [
       "<div>\n",
       "<style scoped>\n",
       "    .dataframe tbody tr th:only-of-type {\n",
       "        vertical-align: middle;\n",
       "    }\n",
       "\n",
       "    .dataframe tbody tr th {\n",
       "        vertical-align: top;\n",
       "    }\n",
       "\n",
       "    .dataframe thead th {\n",
       "        text-align: right;\n",
       "    }\n",
       "</style>\n",
       "<table border=\"1\" class=\"dataframe\">\n",
       "  <thead>\n",
       "    <tr style=\"text-align: right;\">\n",
       "      <th></th>\n",
       "      <th>Type</th>\n",
       "      <th>PaperlessBilling</th>\n",
       "      <th>PaymentMethod</th>\n",
       "      <th>Partner</th>\n",
       "      <th>InternetService</th>\n",
       "      <th>OnlineSecurity</th>\n",
       "      <th>OnlineBackup</th>\n",
       "      <th>DeviceProtection</th>\n",
       "      <th>TechSupport</th>\n",
       "      <th>StreamingTV</th>\n",
       "      <th>StreamingMovies</th>\n",
       "      <th>MultipleLines</th>\n",
       "    </tr>\n",
       "  </thead>\n",
       "  <tbody>\n",
       "    <tr>\n",
       "      <th>0</th>\n",
       "      <td>Month-to-month</td>\n",
       "      <td>Yes</td>\n",
       "      <td>Electronic check</td>\n",
       "      <td>Yes</td>\n",
       "      <td>DSL</td>\n",
       "      <td>No</td>\n",
       "      <td>Yes</td>\n",
       "      <td>No</td>\n",
       "      <td>No</td>\n",
       "      <td>No</td>\n",
       "      <td>No</td>\n",
       "      <td>No</td>\n",
       "    </tr>\n",
       "    <tr>\n",
       "      <th>1</th>\n",
       "      <td>One year</td>\n",
       "      <td>No</td>\n",
       "      <td>Mailed check</td>\n",
       "      <td>No</td>\n",
       "      <td>DSL</td>\n",
       "      <td>Yes</td>\n",
       "      <td>No</td>\n",
       "      <td>Yes</td>\n",
       "      <td>No</td>\n",
       "      <td>No</td>\n",
       "      <td>No</td>\n",
       "      <td>No</td>\n",
       "    </tr>\n",
       "    <tr>\n",
       "      <th>2</th>\n",
       "      <td>Month-to-month</td>\n",
       "      <td>Yes</td>\n",
       "      <td>Mailed check</td>\n",
       "      <td>No</td>\n",
       "      <td>DSL</td>\n",
       "      <td>Yes</td>\n",
       "      <td>Yes</td>\n",
       "      <td>No</td>\n",
       "      <td>No</td>\n",
       "      <td>No</td>\n",
       "      <td>No</td>\n",
       "      <td>No</td>\n",
       "    </tr>\n",
       "    <tr>\n",
       "      <th>3</th>\n",
       "      <td>One year</td>\n",
       "      <td>No</td>\n",
       "      <td>Bank transfer (automatic)</td>\n",
       "      <td>No</td>\n",
       "      <td>DSL</td>\n",
       "      <td>Yes</td>\n",
       "      <td>No</td>\n",
       "      <td>Yes</td>\n",
       "      <td>Yes</td>\n",
       "      <td>No</td>\n",
       "      <td>No</td>\n",
       "      <td>No</td>\n",
       "    </tr>\n",
       "    <tr>\n",
       "      <th>4</th>\n",
       "      <td>Month-to-month</td>\n",
       "      <td>Yes</td>\n",
       "      <td>Electronic check</td>\n",
       "      <td>No</td>\n",
       "      <td>Fiber optic</td>\n",
       "      <td>No</td>\n",
       "      <td>No</td>\n",
       "      <td>No</td>\n",
       "      <td>No</td>\n",
       "      <td>No</td>\n",
       "      <td>No</td>\n",
       "      <td>No</td>\n",
       "    </tr>\n",
       "  </tbody>\n",
       "</table>\n",
       "</div>"
      ],
      "text/plain": [
       "             Type PaperlessBilling              PaymentMethod Partner  \\\n",
       "0  Month-to-month              Yes           Electronic check     Yes   \n",
       "1        One year               No               Mailed check      No   \n",
       "2  Month-to-month              Yes               Mailed check      No   \n",
       "3        One year               No  Bank transfer (automatic)      No   \n",
       "4  Month-to-month              Yes           Electronic check      No   \n",
       "\n",
       "  InternetService OnlineSecurity OnlineBackup DeviceProtection TechSupport  \\\n",
       "0             DSL             No          Yes               No          No   \n",
       "1             DSL            Yes           No              Yes          No   \n",
       "2             DSL            Yes          Yes               No          No   \n",
       "3             DSL            Yes           No              Yes         Yes   \n",
       "4     Fiber optic             No           No               No          No   \n",
       "\n",
       "  StreamingTV StreamingMovies MultipleLines  \n",
       "0          No              No            No  \n",
       "1          No              No            No  \n",
       "2          No              No            No  \n",
       "3          No              No            No  \n",
       "4          No              No            No  "
      ]
     },
     "metadata": {},
     "output_type": "display_data"
    },
    {
     "data": {
      "text/plain": [
       "(None, None)"
      ]
     },
     "execution_count": 45,
     "metadata": {},
     "output_type": "execute_result"
    }
   ],
   "source": [
    "display(X[num_features].head()), display(X[cat_features].head())"
   ]
  },
  {
   "cell_type": "markdown",
   "id": "03c528b1",
   "metadata": {},
   "source": [
    "Let's build a Column Transformer with the following steps: StandardScaler for numerical features and OneHotEncoder with handle_unknown=\"ignore\" for categorical features in case there are differences in feature values between the training and test sets. We'll add remainder=\"passthrough\" to ensure that features not involved in encoding are not lost."
   ]
  },
  {
   "cell_type": "code",
   "execution_count": 46,
   "id": "bb5cf1a0",
   "metadata": {},
   "outputs": [],
   "source": [
    "# make Pipeline with ColumnTransformer\n",
    "numeric_transformer = Pipeline(\n",
    "    steps=[(\"scaler\", StandardScaler())]\n",
    ")\n",
    "\n",
    "categorical_transformer = Pipeline(\n",
    "    steps=[(\"encoder\", OneHotEncoder(handle_unknown=\"ignore\"))]\n",
    ")\n",
    "preprocessor = ColumnTransformer(\n",
    "    transformers=[\n",
    "        (\"num\", numeric_transformer, num_features),\n",
    "        (\"cat\", categorical_transformer, cat_features)\n",
    "    ],\n",
    "    verbose_feature_names_out=False,\n",
    "    remainder='passthrough'\n",
    ")"
   ]
  },
  {
   "cell_type": "markdown",
   "id": "db1ab12e",
   "metadata": {},
   "source": [
    "## Building and training models"
   ]
  },
  {
   "cell_type": "markdown",
   "id": "aad680c9",
   "metadata": {},
   "source": [
    "Although the ROC-AUC metric is resistant to imbalance, we will use class weighting in all models, because the Accuracy metric is more understandable for business, and it, in turn, is sensitive to imbalance.Although the ROC-AUC metric is resistant to imbalance, we will use class weighting in all models, because the Accuracy metric is more understandable for business, and it, in turn, is sensitive to imbalance."
   ]
  },
  {
   "cell_type": "markdown",
   "id": "9a04d33f",
   "metadata": {},
   "source": [
    "### LogisticRegression"
   ]
  },
  {
   "cell_type": "code",
   "execution_count": 47,
   "id": "032ec7bd",
   "metadata": {},
   "outputs": [],
   "source": [
    "# creating copies of training samples to avoid changes in the main selections\n",
    "X_train_lr = X_train.copy()\n",
    "y_train_lr = y_train.copy()\n",
    "# make Pipeline for LogisticRegression\n",
    "pipline_lr = Pipeline(\n",
    "    [('preprocessor', preprocessor),\n",
    "     ('lr', LogisticRegression(class_weight='balanced', random_state=RANDOM_STATE))])"
   ]
  },
  {
   "cell_type": "markdown",
   "id": "592f9aa4",
   "metadata": {},
   "source": [
    "Make GridSearchCV for LogisticRegression"
   ]
  },
  {
   "cell_type": "code",
   "execution_count": 48,
   "id": "5eb3ca7c",
   "metadata": {},
   "outputs": [
    {
     "data": {
      "text/html": [
       "<style>#sk-container-id-1 {color: black;background-color: white;}#sk-container-id-1 pre{padding: 0;}#sk-container-id-1 div.sk-toggleable {background-color: white;}#sk-container-id-1 label.sk-toggleable__label {cursor: pointer;display: block;width: 100%;margin-bottom: 0;padding: 0.3em;box-sizing: border-box;text-align: center;}#sk-container-id-1 label.sk-toggleable__label-arrow:before {content: \"▸\";float: left;margin-right: 0.25em;color: #696969;}#sk-container-id-1 label.sk-toggleable__label-arrow:hover:before {color: black;}#sk-container-id-1 div.sk-estimator:hover label.sk-toggleable__label-arrow:before {color: black;}#sk-container-id-1 div.sk-toggleable__content {max-height: 0;max-width: 0;overflow: hidden;text-align: left;background-color: #f0f8ff;}#sk-container-id-1 div.sk-toggleable__content pre {margin: 0.2em;color: black;border-radius: 0.25em;background-color: #f0f8ff;}#sk-container-id-1 input.sk-toggleable__control:checked~div.sk-toggleable__content {max-height: 200px;max-width: 100%;overflow: auto;}#sk-container-id-1 input.sk-toggleable__control:checked~label.sk-toggleable__label-arrow:before {content: \"▾\";}#sk-container-id-1 div.sk-estimator input.sk-toggleable__control:checked~label.sk-toggleable__label {background-color: #d4ebff;}#sk-container-id-1 div.sk-label input.sk-toggleable__control:checked~label.sk-toggleable__label {background-color: #d4ebff;}#sk-container-id-1 input.sk-hidden--visually {border: 0;clip: rect(1px 1px 1px 1px);clip: rect(1px, 1px, 1px, 1px);height: 1px;margin: -1px;overflow: hidden;padding: 0;position: absolute;width: 1px;}#sk-container-id-1 div.sk-estimator {font-family: monospace;background-color: #f0f8ff;border: 1px dotted black;border-radius: 0.25em;box-sizing: border-box;margin-bottom: 0.5em;}#sk-container-id-1 div.sk-estimator:hover {background-color: #d4ebff;}#sk-container-id-1 div.sk-parallel-item::after {content: \"\";width: 100%;border-bottom: 1px solid gray;flex-grow: 1;}#sk-container-id-1 div.sk-label:hover label.sk-toggleable__label {background-color: #d4ebff;}#sk-container-id-1 div.sk-serial::before {content: \"\";position: absolute;border-left: 1px solid gray;box-sizing: border-box;top: 0;bottom: 0;left: 50%;z-index: 0;}#sk-container-id-1 div.sk-serial {display: flex;flex-direction: column;align-items: center;background-color: white;padding-right: 0.2em;padding-left: 0.2em;position: relative;}#sk-container-id-1 div.sk-item {position: relative;z-index: 1;}#sk-container-id-1 div.sk-parallel {display: flex;align-items: stretch;justify-content: center;background-color: white;position: relative;}#sk-container-id-1 div.sk-item::before, #sk-container-id-1 div.sk-parallel-item::before {content: \"\";position: absolute;border-left: 1px solid gray;box-sizing: border-box;top: 0;bottom: 0;left: 50%;z-index: -1;}#sk-container-id-1 div.sk-parallel-item {display: flex;flex-direction: column;z-index: 1;position: relative;background-color: white;}#sk-container-id-1 div.sk-parallel-item:first-child::after {align-self: flex-end;width: 50%;}#sk-container-id-1 div.sk-parallel-item:last-child::after {align-self: flex-start;width: 50%;}#sk-container-id-1 div.sk-parallel-item:only-child::after {width: 0;}#sk-container-id-1 div.sk-dashed-wrapped {border: 1px dashed gray;margin: 0 0.4em 0.5em 0.4em;box-sizing: border-box;padding-bottom: 0.4em;background-color: white;}#sk-container-id-1 div.sk-label label {font-family: monospace;font-weight: bold;display: inline-block;line-height: 1.2em;}#sk-container-id-1 div.sk-label-container {text-align: center;}#sk-container-id-1 div.sk-container {/* jupyter's `normalize.less` sets `[hidden] { display: none; }` but bootstrap.min.css set `[hidden] { display: none !important; }` so we also need the `!important` here to be able to override the default hidden behavior on the sphinx rendered scikit-learn.org. See: https://github.com/scikit-learn/scikit-learn/issues/21755 */display: inline-block !important;position: relative;}#sk-container-id-1 div.sk-text-repr-fallback {display: none;}</style><div id=\"sk-container-id-1\" class=\"sk-top-container\"><div class=\"sk-text-repr-fallback\"><pre>GridSearchCV(cv=4,\n",
       "             estimator=Pipeline(steps=[(&#x27;preprocessor&#x27;,\n",
       "                                        ColumnTransformer(remainder=&#x27;passthrough&#x27;,\n",
       "                                                          transformers=[(&#x27;num&#x27;,\n",
       "                                                                         Pipeline(steps=[(&#x27;scaler&#x27;,\n",
       "                                                                                          StandardScaler())]),\n",
       "                                                                         [&#x27;MonthlyCharges&#x27;,\n",
       "                                                                          &#x27;TotalCharges&#x27;,\n",
       "                                                                          &#x27;count_days&#x27;,\n",
       "                                                                          &#x27;num_days_to_next_payment&#x27;,\n",
       "                                                                          &#x27;num_days_from_last_payment&#x27;]),\n",
       "                                                                        (&#x27;cat&#x27;,\n",
       "                                                                         Pipeline(steps=[(&#x27;encoder&#x27;,\n",
       "                                                                                          OneHotEncoder(handle_unknown=&#x27;ignore&#x27;))]),\n",
       "                                                                         [...\n",
       "                                                                          &#x27;OnlineSecurity&#x27;,\n",
       "                                                                          &#x27;OnlineBackup&#x27;,\n",
       "                                                                          &#x27;DeviceProtection&#x27;,\n",
       "                                                                          &#x27;TechSupport&#x27;,\n",
       "                                                                          &#x27;StreamingTV&#x27;,\n",
       "                                                                          &#x27;StreamingMovies&#x27;,\n",
       "                                                                          &#x27;MultipleLines&#x27;])],\n",
       "                                                          verbose_feature_names_out=False)),\n",
       "                                       (&#x27;lr&#x27;,\n",
       "                                        LogisticRegression(class_weight=&#x27;balanced&#x27;,\n",
       "                                                           random_state=150523))]),\n",
       "             n_jobs=-1,\n",
       "             param_grid={&#x27;lr__C&#x27;: array([1.e-05, 1.e-04, 1.e-03, 1.e-02, 1.e-01, 1.e+00, 1.e+01, 1.e+02,\n",
       "       1.e+03, 1.e+04, 1.e+05])},\n",
       "             scoring=&#x27;roc_auc&#x27;)</pre><b>In a Jupyter environment, please rerun this cell to show the HTML representation or trust the notebook. <br />On GitHub, the HTML representation is unable to render, please try loading this page with nbviewer.org.</b></div><div class=\"sk-container\" hidden><div class=\"sk-item sk-dashed-wrapped\"><div class=\"sk-label-container\"><div class=\"sk-label sk-toggleable\"><input class=\"sk-toggleable__control sk-hidden--visually\" id=\"sk-estimator-id-1\" type=\"checkbox\" ><label for=\"sk-estimator-id-1\" class=\"sk-toggleable__label sk-toggleable__label-arrow\">GridSearchCV</label><div class=\"sk-toggleable__content\"><pre>GridSearchCV(cv=4,\n",
       "             estimator=Pipeline(steps=[(&#x27;preprocessor&#x27;,\n",
       "                                        ColumnTransformer(remainder=&#x27;passthrough&#x27;,\n",
       "                                                          transformers=[(&#x27;num&#x27;,\n",
       "                                                                         Pipeline(steps=[(&#x27;scaler&#x27;,\n",
       "                                                                                          StandardScaler())]),\n",
       "                                                                         [&#x27;MonthlyCharges&#x27;,\n",
       "                                                                          &#x27;TotalCharges&#x27;,\n",
       "                                                                          &#x27;count_days&#x27;,\n",
       "                                                                          &#x27;num_days_to_next_payment&#x27;,\n",
       "                                                                          &#x27;num_days_from_last_payment&#x27;]),\n",
       "                                                                        (&#x27;cat&#x27;,\n",
       "                                                                         Pipeline(steps=[(&#x27;encoder&#x27;,\n",
       "                                                                                          OneHotEncoder(handle_unknown=&#x27;ignore&#x27;))]),\n",
       "                                                                         [...\n",
       "                                                                          &#x27;OnlineSecurity&#x27;,\n",
       "                                                                          &#x27;OnlineBackup&#x27;,\n",
       "                                                                          &#x27;DeviceProtection&#x27;,\n",
       "                                                                          &#x27;TechSupport&#x27;,\n",
       "                                                                          &#x27;StreamingTV&#x27;,\n",
       "                                                                          &#x27;StreamingMovies&#x27;,\n",
       "                                                                          &#x27;MultipleLines&#x27;])],\n",
       "                                                          verbose_feature_names_out=False)),\n",
       "                                       (&#x27;lr&#x27;,\n",
       "                                        LogisticRegression(class_weight=&#x27;balanced&#x27;,\n",
       "                                                           random_state=150523))]),\n",
       "             n_jobs=-1,\n",
       "             param_grid={&#x27;lr__C&#x27;: array([1.e-05, 1.e-04, 1.e-03, 1.e-02, 1.e-01, 1.e+00, 1.e+01, 1.e+02,\n",
       "       1.e+03, 1.e+04, 1.e+05])},\n",
       "             scoring=&#x27;roc_auc&#x27;)</pre></div></div></div><div class=\"sk-parallel\"><div class=\"sk-parallel-item\"><div class=\"sk-item\"><div class=\"sk-label-container\"><div class=\"sk-label sk-toggleable\"><input class=\"sk-toggleable__control sk-hidden--visually\" id=\"sk-estimator-id-2\" type=\"checkbox\" ><label for=\"sk-estimator-id-2\" class=\"sk-toggleable__label sk-toggleable__label-arrow\">estimator: Pipeline</label><div class=\"sk-toggleable__content\"><pre>Pipeline(steps=[(&#x27;preprocessor&#x27;,\n",
       "                 ColumnTransformer(remainder=&#x27;passthrough&#x27;,\n",
       "                                   transformers=[(&#x27;num&#x27;,\n",
       "                                                  Pipeline(steps=[(&#x27;scaler&#x27;,\n",
       "                                                                   StandardScaler())]),\n",
       "                                                  [&#x27;MonthlyCharges&#x27;,\n",
       "                                                   &#x27;TotalCharges&#x27;, &#x27;count_days&#x27;,\n",
       "                                                   &#x27;num_days_to_next_payment&#x27;,\n",
       "                                                   &#x27;num_days_from_last_payment&#x27;]),\n",
       "                                                 (&#x27;cat&#x27;,\n",
       "                                                  Pipeline(steps=[(&#x27;encoder&#x27;,\n",
       "                                                                   OneHotEncoder(handle_unknown=&#x27;ignore&#x27;))]),\n",
       "                                                  [&#x27;Type&#x27;, &#x27;PaperlessBilling&#x27;,\n",
       "                                                   &#x27;PaymentMethod&#x27;, &#x27;Partner&#x27;,\n",
       "                                                   &#x27;InternetService&#x27;,\n",
       "                                                   &#x27;OnlineSecurity&#x27;,\n",
       "                                                   &#x27;OnlineBackup&#x27;,\n",
       "                                                   &#x27;DeviceProtection&#x27;,\n",
       "                                                   &#x27;TechSupport&#x27;, &#x27;StreamingTV&#x27;,\n",
       "                                                   &#x27;StreamingMovies&#x27;,\n",
       "                                                   &#x27;MultipleLines&#x27;])],\n",
       "                                   verbose_feature_names_out=False)),\n",
       "                (&#x27;lr&#x27;,\n",
       "                 LogisticRegression(class_weight=&#x27;balanced&#x27;,\n",
       "                                    random_state=150523))])</pre></div></div></div><div class=\"sk-serial\"><div class=\"sk-item\"><div class=\"sk-serial\"><div class=\"sk-item sk-dashed-wrapped\"><div class=\"sk-label-container\"><div class=\"sk-label sk-toggleable\"><input class=\"sk-toggleable__control sk-hidden--visually\" id=\"sk-estimator-id-3\" type=\"checkbox\" ><label for=\"sk-estimator-id-3\" class=\"sk-toggleable__label sk-toggleable__label-arrow\">preprocessor: ColumnTransformer</label><div class=\"sk-toggleable__content\"><pre>ColumnTransformer(remainder=&#x27;passthrough&#x27;,\n",
       "                  transformers=[(&#x27;num&#x27;,\n",
       "                                 Pipeline(steps=[(&#x27;scaler&#x27;, StandardScaler())]),\n",
       "                                 [&#x27;MonthlyCharges&#x27;, &#x27;TotalCharges&#x27;,\n",
       "                                  &#x27;count_days&#x27;, &#x27;num_days_to_next_payment&#x27;,\n",
       "                                  &#x27;num_days_from_last_payment&#x27;]),\n",
       "                                (&#x27;cat&#x27;,\n",
       "                                 Pipeline(steps=[(&#x27;encoder&#x27;,\n",
       "                                                  OneHotEncoder(handle_unknown=&#x27;ignore&#x27;))]),\n",
       "                                 [&#x27;Type&#x27;, &#x27;PaperlessBilling&#x27;, &#x27;PaymentMethod&#x27;,\n",
       "                                  &#x27;Partner&#x27;, &#x27;InternetService&#x27;,\n",
       "                                  &#x27;OnlineSecurity&#x27;, &#x27;OnlineBackup&#x27;,\n",
       "                                  &#x27;DeviceProtection&#x27;, &#x27;TechSupport&#x27;,\n",
       "                                  &#x27;StreamingTV&#x27;, &#x27;StreamingMovies&#x27;,\n",
       "                                  &#x27;MultipleLines&#x27;])],\n",
       "                  verbose_feature_names_out=False)</pre></div></div></div><div class=\"sk-parallel\"><div class=\"sk-parallel-item\"><div class=\"sk-item\"><div class=\"sk-label-container\"><div class=\"sk-label sk-toggleable\"><input class=\"sk-toggleable__control sk-hidden--visually\" id=\"sk-estimator-id-4\" type=\"checkbox\" ><label for=\"sk-estimator-id-4\" class=\"sk-toggleable__label sk-toggleable__label-arrow\">num</label><div class=\"sk-toggleable__content\"><pre>[&#x27;MonthlyCharges&#x27;, &#x27;TotalCharges&#x27;, &#x27;count_days&#x27;, &#x27;num_days_to_next_payment&#x27;, &#x27;num_days_from_last_payment&#x27;]</pre></div></div></div><div class=\"sk-serial\"><div class=\"sk-item\"><div class=\"sk-serial\"><div class=\"sk-item\"><div class=\"sk-estimator sk-toggleable\"><input class=\"sk-toggleable__control sk-hidden--visually\" id=\"sk-estimator-id-5\" type=\"checkbox\" ><label for=\"sk-estimator-id-5\" class=\"sk-toggleable__label sk-toggleable__label-arrow\">StandardScaler</label><div class=\"sk-toggleable__content\"><pre>StandardScaler()</pre></div></div></div></div></div></div></div></div><div class=\"sk-parallel-item\"><div class=\"sk-item\"><div class=\"sk-label-container\"><div class=\"sk-label sk-toggleable\"><input class=\"sk-toggleable__control sk-hidden--visually\" id=\"sk-estimator-id-6\" type=\"checkbox\" ><label for=\"sk-estimator-id-6\" class=\"sk-toggleable__label sk-toggleable__label-arrow\">cat</label><div class=\"sk-toggleable__content\"><pre>[&#x27;Type&#x27;, &#x27;PaperlessBilling&#x27;, &#x27;PaymentMethod&#x27;, &#x27;Partner&#x27;, &#x27;InternetService&#x27;, &#x27;OnlineSecurity&#x27;, &#x27;OnlineBackup&#x27;, &#x27;DeviceProtection&#x27;, &#x27;TechSupport&#x27;, &#x27;StreamingTV&#x27;, &#x27;StreamingMovies&#x27;, &#x27;MultipleLines&#x27;]</pre></div></div></div><div class=\"sk-serial\"><div class=\"sk-item\"><div class=\"sk-serial\"><div class=\"sk-item\"><div class=\"sk-estimator sk-toggleable\"><input class=\"sk-toggleable__control sk-hidden--visually\" id=\"sk-estimator-id-7\" type=\"checkbox\" ><label for=\"sk-estimator-id-7\" class=\"sk-toggleable__label sk-toggleable__label-arrow\">OneHotEncoder</label><div class=\"sk-toggleable__content\"><pre>OneHotEncoder(handle_unknown=&#x27;ignore&#x27;)</pre></div></div></div></div></div></div></div></div><div class=\"sk-parallel-item\"><div class=\"sk-item\"><div class=\"sk-label-container\"><div class=\"sk-label sk-toggleable\"><input class=\"sk-toggleable__control sk-hidden--visually\" id=\"sk-estimator-id-8\" type=\"checkbox\" ><label for=\"sk-estimator-id-8\" class=\"sk-toggleable__label sk-toggleable__label-arrow\">remainder</label><div class=\"sk-toggleable__content\"><pre></pre></div></div></div><div class=\"sk-serial\"><div class=\"sk-item\"><div class=\"sk-estimator sk-toggleable\"><input class=\"sk-toggleable__control sk-hidden--visually\" id=\"sk-estimator-id-9\" type=\"checkbox\" ><label for=\"sk-estimator-id-9\" class=\"sk-toggleable__label sk-toggleable__label-arrow\">passthrough</label><div class=\"sk-toggleable__content\"><pre>passthrough</pre></div></div></div></div></div></div></div></div><div class=\"sk-item\"><div class=\"sk-estimator sk-toggleable\"><input class=\"sk-toggleable__control sk-hidden--visually\" id=\"sk-estimator-id-10\" type=\"checkbox\" ><label for=\"sk-estimator-id-10\" class=\"sk-toggleable__label sk-toggleable__label-arrow\">LogisticRegression</label><div class=\"sk-toggleable__content\"><pre>LogisticRegression(class_weight=&#x27;balanced&#x27;, random_state=150523)</pre></div></div></div></div></div></div></div></div></div></div></div></div>"
      ],
      "text/plain": [
       "GridSearchCV(cv=4,\n",
       "             estimator=Pipeline(steps=[('preprocessor',\n",
       "                                        ColumnTransformer(remainder='passthrough',\n",
       "                                                          transformers=[('num',\n",
       "                                                                         Pipeline(steps=[('scaler',\n",
       "                                                                                          StandardScaler())]),\n",
       "                                                                         ['MonthlyCharges',\n",
       "                                                                          'TotalCharges',\n",
       "                                                                          'count_days',\n",
       "                                                                          'num_days_to_next_payment',\n",
       "                                                                          'num_days_from_last_payment']),\n",
       "                                                                        ('cat',\n",
       "                                                                         Pipeline(steps=[('encoder',\n",
       "                                                                                          OneHotEncoder(handle_unknown='ignore'))]),\n",
       "                                                                         [...\n",
       "                                                                          'OnlineSecurity',\n",
       "                                                                          'OnlineBackup',\n",
       "                                                                          'DeviceProtection',\n",
       "                                                                          'TechSupport',\n",
       "                                                                          'StreamingTV',\n",
       "                                                                          'StreamingMovies',\n",
       "                                                                          'MultipleLines'])],\n",
       "                                                          verbose_feature_names_out=False)),\n",
       "                                       ('lr',\n",
       "                                        LogisticRegression(class_weight='balanced',\n",
       "                                                           random_state=150523))]),\n",
       "             n_jobs=-1,\n",
       "             param_grid={'lr__C': array([1.e-05, 1.e-04, 1.e-03, 1.e-02, 1.e-01, 1.e+00, 1.e+01, 1.e+02,\n",
       "       1.e+03, 1.e+04, 1.e+05])},\n",
       "             scoring='roc_auc')"
      ]
     },
     "execution_count": 48,
     "metadata": {},
     "output_type": "execute_result"
    }
   ],
   "source": [
    "param_lr = {'lr__C': np.logspace(-5, 5, 11), }\n",
    "grid_lr = GridSearchCV(pipline_lr, param_grid=param_lr,\n",
    "                       scoring='roc_auc', cv=4, n_jobs=-1)\n",
    "grid_lr.fit(X_train_lr, y_train_lr)"
   ]
  },
  {
   "cell_type": "markdown",
   "id": "cba34b21",
   "metadata": {},
   "source": [
    "Create dataframe with training results"
   ]
  },
  {
   "cell_type": "code",
   "execution_count": 49,
   "id": "44bfe767",
   "metadata": {},
   "outputs": [
    {
     "data": {
      "text/html": [
       "<div>\n",
       "<style scoped>\n",
       "    .dataframe tbody tr th:only-of-type {\n",
       "        vertical-align: middle;\n",
       "    }\n",
       "\n",
       "    .dataframe tbody tr th {\n",
       "        vertical-align: top;\n",
       "    }\n",
       "\n",
       "    .dataframe thead th {\n",
       "        text-align: right;\n",
       "    }\n",
       "</style>\n",
       "<table border=\"1\" class=\"dataframe\">\n",
       "  <thead>\n",
       "    <tr style=\"text-align: right;\">\n",
       "      <th></th>\n",
       "      <th>mean_test_score</th>\n",
       "    </tr>\n",
       "  </thead>\n",
       "  <tbody>\n",
       "    <tr>\n",
       "      <th>6</th>\n",
       "      <td>0.75967</td>\n",
       "    </tr>\n",
       "  </tbody>\n",
       "</table>\n",
       "</div>"
      ],
      "text/plain": [
       "   mean_test_score\n",
       "6          0.75967"
      ]
     },
     "execution_count": 49,
     "metadata": {},
     "output_type": "execute_result"
    }
   ],
   "source": [
    "best_result_lr = pd.DataFrame(\n",
    "    grid_lr.cv_results_).sort_values('rank_test_score').head(1)\n",
    "best_result_lr = best_result_lr[['mean_test_score']]\n",
    "best_result_lr"
   ]
  },
  {
   "cell_type": "markdown",
   "id": "a992f647",
   "metadata": {},
   "source": [
    "### SVC"
   ]
  },
  {
   "cell_type": "code",
   "execution_count": 50,
   "id": "5151673c",
   "metadata": {},
   "outputs": [],
   "source": [
    "# creating copies of training samples to avoid changes in the main selections\n",
    "X_train_svc = X_train.copy()\n",
    "y_train_svc = y_train.copy()\n",
    "# make Pipeline for SVC\n",
    "svc = Pipeline(\n",
    "    [('preprocessor', preprocessor),\n",
    "     ('svc', SVC(class_weight='balanced', random_state=RANDOM_STATE))]\n",
    ")"
   ]
  },
  {
   "cell_type": "markdown",
   "id": "73d64129",
   "metadata": {},
   "source": [
    "Make GridSearchCV for SVC"
   ]
  },
  {
   "cell_type": "code",
   "execution_count": 51,
   "id": "098ca659",
   "metadata": {},
   "outputs": [
    {
     "data": {
      "text/html": [
       "<style>#sk-container-id-2 {color: black;background-color: white;}#sk-container-id-2 pre{padding: 0;}#sk-container-id-2 div.sk-toggleable {background-color: white;}#sk-container-id-2 label.sk-toggleable__label {cursor: pointer;display: block;width: 100%;margin-bottom: 0;padding: 0.3em;box-sizing: border-box;text-align: center;}#sk-container-id-2 label.sk-toggleable__label-arrow:before {content: \"▸\";float: left;margin-right: 0.25em;color: #696969;}#sk-container-id-2 label.sk-toggleable__label-arrow:hover:before {color: black;}#sk-container-id-2 div.sk-estimator:hover label.sk-toggleable__label-arrow:before {color: black;}#sk-container-id-2 div.sk-toggleable__content {max-height: 0;max-width: 0;overflow: hidden;text-align: left;background-color: #f0f8ff;}#sk-container-id-2 div.sk-toggleable__content pre {margin: 0.2em;color: black;border-radius: 0.25em;background-color: #f0f8ff;}#sk-container-id-2 input.sk-toggleable__control:checked~div.sk-toggleable__content {max-height: 200px;max-width: 100%;overflow: auto;}#sk-container-id-2 input.sk-toggleable__control:checked~label.sk-toggleable__label-arrow:before {content: \"▾\";}#sk-container-id-2 div.sk-estimator input.sk-toggleable__control:checked~label.sk-toggleable__label {background-color: #d4ebff;}#sk-container-id-2 div.sk-label input.sk-toggleable__control:checked~label.sk-toggleable__label {background-color: #d4ebff;}#sk-container-id-2 input.sk-hidden--visually {border: 0;clip: rect(1px 1px 1px 1px);clip: rect(1px, 1px, 1px, 1px);height: 1px;margin: -1px;overflow: hidden;padding: 0;position: absolute;width: 1px;}#sk-container-id-2 div.sk-estimator {font-family: monospace;background-color: #f0f8ff;border: 1px dotted black;border-radius: 0.25em;box-sizing: border-box;margin-bottom: 0.5em;}#sk-container-id-2 div.sk-estimator:hover {background-color: #d4ebff;}#sk-container-id-2 div.sk-parallel-item::after {content: \"\";width: 100%;border-bottom: 1px solid gray;flex-grow: 1;}#sk-container-id-2 div.sk-label:hover label.sk-toggleable__label {background-color: #d4ebff;}#sk-container-id-2 div.sk-serial::before {content: \"\";position: absolute;border-left: 1px solid gray;box-sizing: border-box;top: 0;bottom: 0;left: 50%;z-index: 0;}#sk-container-id-2 div.sk-serial {display: flex;flex-direction: column;align-items: center;background-color: white;padding-right: 0.2em;padding-left: 0.2em;position: relative;}#sk-container-id-2 div.sk-item {position: relative;z-index: 1;}#sk-container-id-2 div.sk-parallel {display: flex;align-items: stretch;justify-content: center;background-color: white;position: relative;}#sk-container-id-2 div.sk-item::before, #sk-container-id-2 div.sk-parallel-item::before {content: \"\";position: absolute;border-left: 1px solid gray;box-sizing: border-box;top: 0;bottom: 0;left: 50%;z-index: -1;}#sk-container-id-2 div.sk-parallel-item {display: flex;flex-direction: column;z-index: 1;position: relative;background-color: white;}#sk-container-id-2 div.sk-parallel-item:first-child::after {align-self: flex-end;width: 50%;}#sk-container-id-2 div.sk-parallel-item:last-child::after {align-self: flex-start;width: 50%;}#sk-container-id-2 div.sk-parallel-item:only-child::after {width: 0;}#sk-container-id-2 div.sk-dashed-wrapped {border: 1px dashed gray;margin: 0 0.4em 0.5em 0.4em;box-sizing: border-box;padding-bottom: 0.4em;background-color: white;}#sk-container-id-2 div.sk-label label {font-family: monospace;font-weight: bold;display: inline-block;line-height: 1.2em;}#sk-container-id-2 div.sk-label-container {text-align: center;}#sk-container-id-2 div.sk-container {/* jupyter's `normalize.less` sets `[hidden] { display: none; }` but bootstrap.min.css set `[hidden] { display: none !important; }` so we also need the `!important` here to be able to override the default hidden behavior on the sphinx rendered scikit-learn.org. See: https://github.com/scikit-learn/scikit-learn/issues/21755 */display: inline-block !important;position: relative;}#sk-container-id-2 div.sk-text-repr-fallback {display: none;}</style><div id=\"sk-container-id-2\" class=\"sk-top-container\"><div class=\"sk-text-repr-fallback\"><pre>GridSearchCV(cv=4,\n",
       "             estimator=Pipeline(steps=[(&#x27;preprocessor&#x27;,\n",
       "                                        ColumnTransformer(remainder=&#x27;passthrough&#x27;,\n",
       "                                                          transformers=[(&#x27;num&#x27;,\n",
       "                                                                         Pipeline(steps=[(&#x27;scaler&#x27;,\n",
       "                                                                                          StandardScaler())]),\n",
       "                                                                         [&#x27;MonthlyCharges&#x27;,\n",
       "                                                                          &#x27;TotalCharges&#x27;,\n",
       "                                                                          &#x27;count_days&#x27;,\n",
       "                                                                          &#x27;num_days_to_next_payment&#x27;,\n",
       "                                                                          &#x27;num_days_from_last_payment&#x27;]),\n",
       "                                                                        (&#x27;cat&#x27;,\n",
       "                                                                         Pipeline(steps=[(&#x27;encoder&#x27;,\n",
       "                                                                                          OneHotEncoder(handle_unknown=&#x27;ignore&#x27;))]),\n",
       "                                                                         [...\n",
       "                                                                          &#x27;InternetService&#x27;,\n",
       "                                                                          &#x27;OnlineSecurity&#x27;,\n",
       "                                                                          &#x27;OnlineBackup&#x27;,\n",
       "                                                                          &#x27;DeviceProtection&#x27;,\n",
       "                                                                          &#x27;TechSupport&#x27;,\n",
       "                                                                          &#x27;StreamingTV&#x27;,\n",
       "                                                                          &#x27;StreamingMovies&#x27;,\n",
       "                                                                          &#x27;MultipleLines&#x27;])],\n",
       "                                                          verbose_feature_names_out=False)),\n",
       "                                       (&#x27;svc&#x27;,\n",
       "                                        SVC(class_weight=&#x27;balanced&#x27;,\n",
       "                                            random_state=150523))]),\n",
       "             n_jobs=-1,\n",
       "             param_grid={&#x27;svc__C&#x27;: [0.1, 1, 10, 100],\n",
       "                         &#x27;svc__gamma&#x27;: [1, 0.1, 0.01, 0.001],\n",
       "                         &#x27;svc__kernel&#x27;: [&#x27;rbf&#x27;, &#x27;poly&#x27;, &#x27;sigmoid&#x27;]},\n",
       "             scoring=&#x27;roc_auc&#x27;)</pre><b>In a Jupyter environment, please rerun this cell to show the HTML representation or trust the notebook. <br />On GitHub, the HTML representation is unable to render, please try loading this page with nbviewer.org.</b></div><div class=\"sk-container\" hidden><div class=\"sk-item sk-dashed-wrapped\"><div class=\"sk-label-container\"><div class=\"sk-label sk-toggleable\"><input class=\"sk-toggleable__control sk-hidden--visually\" id=\"sk-estimator-id-11\" type=\"checkbox\" ><label for=\"sk-estimator-id-11\" class=\"sk-toggleable__label sk-toggleable__label-arrow\">GridSearchCV</label><div class=\"sk-toggleable__content\"><pre>GridSearchCV(cv=4,\n",
       "             estimator=Pipeline(steps=[(&#x27;preprocessor&#x27;,\n",
       "                                        ColumnTransformer(remainder=&#x27;passthrough&#x27;,\n",
       "                                                          transformers=[(&#x27;num&#x27;,\n",
       "                                                                         Pipeline(steps=[(&#x27;scaler&#x27;,\n",
       "                                                                                          StandardScaler())]),\n",
       "                                                                         [&#x27;MonthlyCharges&#x27;,\n",
       "                                                                          &#x27;TotalCharges&#x27;,\n",
       "                                                                          &#x27;count_days&#x27;,\n",
       "                                                                          &#x27;num_days_to_next_payment&#x27;,\n",
       "                                                                          &#x27;num_days_from_last_payment&#x27;]),\n",
       "                                                                        (&#x27;cat&#x27;,\n",
       "                                                                         Pipeline(steps=[(&#x27;encoder&#x27;,\n",
       "                                                                                          OneHotEncoder(handle_unknown=&#x27;ignore&#x27;))]),\n",
       "                                                                         [...\n",
       "                                                                          &#x27;InternetService&#x27;,\n",
       "                                                                          &#x27;OnlineSecurity&#x27;,\n",
       "                                                                          &#x27;OnlineBackup&#x27;,\n",
       "                                                                          &#x27;DeviceProtection&#x27;,\n",
       "                                                                          &#x27;TechSupport&#x27;,\n",
       "                                                                          &#x27;StreamingTV&#x27;,\n",
       "                                                                          &#x27;StreamingMovies&#x27;,\n",
       "                                                                          &#x27;MultipleLines&#x27;])],\n",
       "                                                          verbose_feature_names_out=False)),\n",
       "                                       (&#x27;svc&#x27;,\n",
       "                                        SVC(class_weight=&#x27;balanced&#x27;,\n",
       "                                            random_state=150523))]),\n",
       "             n_jobs=-1,\n",
       "             param_grid={&#x27;svc__C&#x27;: [0.1, 1, 10, 100],\n",
       "                         &#x27;svc__gamma&#x27;: [1, 0.1, 0.01, 0.001],\n",
       "                         &#x27;svc__kernel&#x27;: [&#x27;rbf&#x27;, &#x27;poly&#x27;, &#x27;sigmoid&#x27;]},\n",
       "             scoring=&#x27;roc_auc&#x27;)</pre></div></div></div><div class=\"sk-parallel\"><div class=\"sk-parallel-item\"><div class=\"sk-item\"><div class=\"sk-label-container\"><div class=\"sk-label sk-toggleable\"><input class=\"sk-toggleable__control sk-hidden--visually\" id=\"sk-estimator-id-12\" type=\"checkbox\" ><label for=\"sk-estimator-id-12\" class=\"sk-toggleable__label sk-toggleable__label-arrow\">estimator: Pipeline</label><div class=\"sk-toggleable__content\"><pre>Pipeline(steps=[(&#x27;preprocessor&#x27;,\n",
       "                 ColumnTransformer(remainder=&#x27;passthrough&#x27;,\n",
       "                                   transformers=[(&#x27;num&#x27;,\n",
       "                                                  Pipeline(steps=[(&#x27;scaler&#x27;,\n",
       "                                                                   StandardScaler())]),\n",
       "                                                  [&#x27;MonthlyCharges&#x27;,\n",
       "                                                   &#x27;TotalCharges&#x27;, &#x27;count_days&#x27;,\n",
       "                                                   &#x27;num_days_to_next_payment&#x27;,\n",
       "                                                   &#x27;num_days_from_last_payment&#x27;]),\n",
       "                                                 (&#x27;cat&#x27;,\n",
       "                                                  Pipeline(steps=[(&#x27;encoder&#x27;,\n",
       "                                                                   OneHotEncoder(handle_unknown=&#x27;ignore&#x27;))]),\n",
       "                                                  [&#x27;Type&#x27;, &#x27;PaperlessBilling&#x27;,\n",
       "                                                   &#x27;PaymentMethod&#x27;, &#x27;Partner&#x27;,\n",
       "                                                   &#x27;InternetService&#x27;,\n",
       "                                                   &#x27;OnlineSecurity&#x27;,\n",
       "                                                   &#x27;OnlineBackup&#x27;,\n",
       "                                                   &#x27;DeviceProtection&#x27;,\n",
       "                                                   &#x27;TechSupport&#x27;, &#x27;StreamingTV&#x27;,\n",
       "                                                   &#x27;StreamingMovies&#x27;,\n",
       "                                                   &#x27;MultipleLines&#x27;])],\n",
       "                                   verbose_feature_names_out=False)),\n",
       "                (&#x27;svc&#x27;, SVC(class_weight=&#x27;balanced&#x27;, random_state=150523))])</pre></div></div></div><div class=\"sk-serial\"><div class=\"sk-item\"><div class=\"sk-serial\"><div class=\"sk-item sk-dashed-wrapped\"><div class=\"sk-label-container\"><div class=\"sk-label sk-toggleable\"><input class=\"sk-toggleable__control sk-hidden--visually\" id=\"sk-estimator-id-13\" type=\"checkbox\" ><label for=\"sk-estimator-id-13\" class=\"sk-toggleable__label sk-toggleable__label-arrow\">preprocessor: ColumnTransformer</label><div class=\"sk-toggleable__content\"><pre>ColumnTransformer(remainder=&#x27;passthrough&#x27;,\n",
       "                  transformers=[(&#x27;num&#x27;,\n",
       "                                 Pipeline(steps=[(&#x27;scaler&#x27;, StandardScaler())]),\n",
       "                                 [&#x27;MonthlyCharges&#x27;, &#x27;TotalCharges&#x27;,\n",
       "                                  &#x27;count_days&#x27;, &#x27;num_days_to_next_payment&#x27;,\n",
       "                                  &#x27;num_days_from_last_payment&#x27;]),\n",
       "                                (&#x27;cat&#x27;,\n",
       "                                 Pipeline(steps=[(&#x27;encoder&#x27;,\n",
       "                                                  OneHotEncoder(handle_unknown=&#x27;ignore&#x27;))]),\n",
       "                                 [&#x27;Type&#x27;, &#x27;PaperlessBilling&#x27;, &#x27;PaymentMethod&#x27;,\n",
       "                                  &#x27;Partner&#x27;, &#x27;InternetService&#x27;,\n",
       "                                  &#x27;OnlineSecurity&#x27;, &#x27;OnlineBackup&#x27;,\n",
       "                                  &#x27;DeviceProtection&#x27;, &#x27;TechSupport&#x27;,\n",
       "                                  &#x27;StreamingTV&#x27;, &#x27;StreamingMovies&#x27;,\n",
       "                                  &#x27;MultipleLines&#x27;])],\n",
       "                  verbose_feature_names_out=False)</pre></div></div></div><div class=\"sk-parallel\"><div class=\"sk-parallel-item\"><div class=\"sk-item\"><div class=\"sk-label-container\"><div class=\"sk-label sk-toggleable\"><input class=\"sk-toggleable__control sk-hidden--visually\" id=\"sk-estimator-id-14\" type=\"checkbox\" ><label for=\"sk-estimator-id-14\" class=\"sk-toggleable__label sk-toggleable__label-arrow\">num</label><div class=\"sk-toggleable__content\"><pre>[&#x27;MonthlyCharges&#x27;, &#x27;TotalCharges&#x27;, &#x27;count_days&#x27;, &#x27;num_days_to_next_payment&#x27;, &#x27;num_days_from_last_payment&#x27;]</pre></div></div></div><div class=\"sk-serial\"><div class=\"sk-item\"><div class=\"sk-serial\"><div class=\"sk-item\"><div class=\"sk-estimator sk-toggleable\"><input class=\"sk-toggleable__control sk-hidden--visually\" id=\"sk-estimator-id-15\" type=\"checkbox\" ><label for=\"sk-estimator-id-15\" class=\"sk-toggleable__label sk-toggleable__label-arrow\">StandardScaler</label><div class=\"sk-toggleable__content\"><pre>StandardScaler()</pre></div></div></div></div></div></div></div></div><div class=\"sk-parallel-item\"><div class=\"sk-item\"><div class=\"sk-label-container\"><div class=\"sk-label sk-toggleable\"><input class=\"sk-toggleable__control sk-hidden--visually\" id=\"sk-estimator-id-16\" type=\"checkbox\" ><label for=\"sk-estimator-id-16\" class=\"sk-toggleable__label sk-toggleable__label-arrow\">cat</label><div class=\"sk-toggleable__content\"><pre>[&#x27;Type&#x27;, &#x27;PaperlessBilling&#x27;, &#x27;PaymentMethod&#x27;, &#x27;Partner&#x27;, &#x27;InternetService&#x27;, &#x27;OnlineSecurity&#x27;, &#x27;OnlineBackup&#x27;, &#x27;DeviceProtection&#x27;, &#x27;TechSupport&#x27;, &#x27;StreamingTV&#x27;, &#x27;StreamingMovies&#x27;, &#x27;MultipleLines&#x27;]</pre></div></div></div><div class=\"sk-serial\"><div class=\"sk-item\"><div class=\"sk-serial\"><div class=\"sk-item\"><div class=\"sk-estimator sk-toggleable\"><input class=\"sk-toggleable__control sk-hidden--visually\" id=\"sk-estimator-id-17\" type=\"checkbox\" ><label for=\"sk-estimator-id-17\" class=\"sk-toggleable__label sk-toggleable__label-arrow\">OneHotEncoder</label><div class=\"sk-toggleable__content\"><pre>OneHotEncoder(handle_unknown=&#x27;ignore&#x27;)</pre></div></div></div></div></div></div></div></div><div class=\"sk-parallel-item\"><div class=\"sk-item\"><div class=\"sk-label-container\"><div class=\"sk-label sk-toggleable\"><input class=\"sk-toggleable__control sk-hidden--visually\" id=\"sk-estimator-id-18\" type=\"checkbox\" ><label for=\"sk-estimator-id-18\" class=\"sk-toggleable__label sk-toggleable__label-arrow\">remainder</label><div class=\"sk-toggleable__content\"><pre></pre></div></div></div><div class=\"sk-serial\"><div class=\"sk-item\"><div class=\"sk-estimator sk-toggleable\"><input class=\"sk-toggleable__control sk-hidden--visually\" id=\"sk-estimator-id-19\" type=\"checkbox\" ><label for=\"sk-estimator-id-19\" class=\"sk-toggleable__label sk-toggleable__label-arrow\">passthrough</label><div class=\"sk-toggleable__content\"><pre>passthrough</pre></div></div></div></div></div></div></div></div><div class=\"sk-item\"><div class=\"sk-estimator sk-toggleable\"><input class=\"sk-toggleable__control sk-hidden--visually\" id=\"sk-estimator-id-20\" type=\"checkbox\" ><label for=\"sk-estimator-id-20\" class=\"sk-toggleable__label sk-toggleable__label-arrow\">SVC</label><div class=\"sk-toggleable__content\"><pre>SVC(class_weight=&#x27;balanced&#x27;, random_state=150523)</pre></div></div></div></div></div></div></div></div></div></div></div></div>"
      ],
      "text/plain": [
       "GridSearchCV(cv=4,\n",
       "             estimator=Pipeline(steps=[('preprocessor',\n",
       "                                        ColumnTransformer(remainder='passthrough',\n",
       "                                                          transformers=[('num',\n",
       "                                                                         Pipeline(steps=[('scaler',\n",
       "                                                                                          StandardScaler())]),\n",
       "                                                                         ['MonthlyCharges',\n",
       "                                                                          'TotalCharges',\n",
       "                                                                          'count_days',\n",
       "                                                                          'num_days_to_next_payment',\n",
       "                                                                          'num_days_from_last_payment']),\n",
       "                                                                        ('cat',\n",
       "                                                                         Pipeline(steps=[('encoder',\n",
       "                                                                                          OneHotEncoder(handle_unknown='ignore'))]),\n",
       "                                                                         [...\n",
       "                                                                          'InternetService',\n",
       "                                                                          'OnlineSecurity',\n",
       "                                                                          'OnlineBackup',\n",
       "                                                                          'DeviceProtection',\n",
       "                                                                          'TechSupport',\n",
       "                                                                          'StreamingTV',\n",
       "                                                                          'StreamingMovies',\n",
       "                                                                          'MultipleLines'])],\n",
       "                                                          verbose_feature_names_out=False)),\n",
       "                                       ('svc',\n",
       "                                        SVC(class_weight='balanced',\n",
       "                                            random_state=150523))]),\n",
       "             n_jobs=-1,\n",
       "             param_grid={'svc__C': [0.1, 1, 10, 100],\n",
       "                         'svc__gamma': [1, 0.1, 0.01, 0.001],\n",
       "                         'svc__kernel': ['rbf', 'poly', 'sigmoid']},\n",
       "             scoring='roc_auc')"
      ]
     },
     "execution_count": 51,
     "metadata": {},
     "output_type": "execute_result"
    }
   ],
   "source": [
    "params_svc = {'svc__C': [0.1, 1, 10, 100],\n",
    "              'svc__gamma': [1, 0.1, 0.01, 0.001],\n",
    "              'svc__kernel': ['rbf', 'poly', 'sigmoid']}\n",
    "grid_svc = GridSearchCV(svc, param_grid=params_svc,\n",
    "                        cv=4, scoring='roc_auc', n_jobs=-1)\n",
    "grid_svc.fit(X_train_svc, y_train_svc)"
   ]
  },
  {
   "cell_type": "markdown",
   "id": "dd7b6ad5",
   "metadata": {},
   "source": [
    "Create dataframe with training results"
   ]
  },
  {
   "cell_type": "code",
   "execution_count": 52,
   "id": "92f5a278",
   "metadata": {},
   "outputs": [
    {
     "data": {
      "text/html": [
       "<div>\n",
       "<style scoped>\n",
       "    .dataframe tbody tr th:only-of-type {\n",
       "        vertical-align: middle;\n",
       "    }\n",
       "\n",
       "    .dataframe tbody tr th {\n",
       "        vertical-align: top;\n",
       "    }\n",
       "\n",
       "    .dataframe thead th {\n",
       "        text-align: right;\n",
       "    }\n",
       "</style>\n",
       "<table border=\"1\" class=\"dataframe\">\n",
       "  <thead>\n",
       "    <tr style=\"text-align: right;\">\n",
       "      <th></th>\n",
       "      <th>mean_test_score</th>\n",
       "    </tr>\n",
       "  </thead>\n",
       "  <tbody>\n",
       "    <tr>\n",
       "      <th>30</th>\n",
       "      <td>0.822571</td>\n",
       "    </tr>\n",
       "  </tbody>\n",
       "</table>\n",
       "</div>"
      ],
      "text/plain": [
       "    mean_test_score\n",
       "30         0.822571"
      ]
     },
     "execution_count": 52,
     "metadata": {},
     "output_type": "execute_result"
    }
   ],
   "source": [
    "best_result_svc = pd.DataFrame(\n",
    "    grid_svc.cv_results_).sort_values('rank_test_score').head(1)\n",
    "best_result_svc = best_result_svc[['mean_test_score']]\n",
    "best_result_svc"
   ]
  },
  {
   "cell_type": "markdown",
   "id": "231ad347",
   "metadata": {},
   "source": [
    "### CatBoostClassifier"
   ]
  },
  {
   "cell_type": "markdown",
   "id": "946d4c2f",
   "metadata": {},
   "source": [
    "Make GridSearchCV for CatBoostClassifier with own encoder"
   ]
  },
  {
   "cell_type": "code",
   "execution_count": 53,
   "id": "ae09f1b8-d3c1-43b7-87fc-a120723d4d6a",
   "metadata": {},
   "outputs": [
    {
     "data": {
      "application/vnd.jupyter.widget-view+json": {
       "model_id": "994d3b38495248a0902d5149781c5e67",
       "version_major": 2,
       "version_minor": 0
      },
      "text/plain": [
       "MetricVisualizer(layout=Layout(align_self='stretch', height='500px'))"
      ]
     },
     "metadata": {},
     "output_type": "display_data"
    }
   ],
   "source": [
    "# creating copies of training samples to avoid changes in the main selections\n",
    "X_train_cb = X_train.copy()\n",
    "y_train_cb = y_train.copy()\n",
    "\n",
    "params_cb = {'max_depth': [2, 3, 4, 5],\n",
    "              'n_estimators': range(1000, 3001, 500),\n",
    "              'learning_rate': [0.15, 0.2, 0.25, 0.3, 0.35, 0.4],\n",
    "              'l2_leaf_reg': [0.1, 0.3, 0.5, 0.7, 1, 2, 3, 4, 5, 6]}\n",
    "\n",
    "cb = CatBoostClassifier(eval_metric='AUC:hints=skip_train~false',\n",
    "                         early_stopping_rounds=20,\n",
    "                         cat_features=cat_features,\n",
    "                         auto_class_weights='Balanced',\n",
    "                         logging_level='Silent'\n",
    "                        )\n",
    "\n",
    "grid_search_result = cb.grid_search(param_grid=params_cb,\n",
    "                                    X=X_train_cb,\n",
    "                                    y=y_train_cb,\n",
    "                                    cv=4,\n",
    "                                    partition_random_seed=RANDOM_STATE,\n",
    "                                    shuffle=True,\n",
    "                                    stratified=True,\n",
    "                                    refit=True,\n",
    "                                    verbose=False,\n",
    "                                    plot=True,\n",
    "                                    )"
   ]
  },
  {
   "cell_type": "code",
   "execution_count": 54,
   "id": "178e58d3-ceb5-4a04-802d-7207a1746679",
   "metadata": {},
   "outputs": [
    {
     "data": {
      "text/html": [
       "<div>\n",
       "<style scoped>\n",
       "    .dataframe tbody tr th:only-of-type {\n",
       "        vertical-align: middle;\n",
       "    }\n",
       "\n",
       "    .dataframe tbody tr th {\n",
       "        vertical-align: top;\n",
       "    }\n",
       "\n",
       "    .dataframe thead th {\n",
       "        text-align: right;\n",
       "    }\n",
       "</style>\n",
       "<table border=\"1\" class=\"dataframe\">\n",
       "  <thead>\n",
       "    <tr style=\"text-align: right;\">\n",
       "      <th></th>\n",
       "      <th>mean_test_score</th>\n",
       "    </tr>\n",
       "  </thead>\n",
       "  <tbody>\n",
       "    <tr>\n",
       "      <th>116</th>\n",
       "      <td>0.878759</td>\n",
       "    </tr>\n",
       "  </tbody>\n",
       "</table>\n",
       "</div>"
      ],
      "text/plain": [
       "     mean_test_score\n",
       "116         0.878759"
      ]
     },
     "execution_count": 54,
     "metadata": {},
     "output_type": "execute_result"
    }
   ],
   "source": [
    "best_result_cb = pd.DataFrame(grid_search_result['cv_results'])[['test-AUC-mean']].sort_values('test-AUC-mean', ascending=False).head(1)\n",
    "best_result_cb = best_result_cb.rename(columns={'test-AUC-mean': 'mean_test_score'})\n",
    "best_result_cb"
   ]
  },
  {
   "cell_type": "markdown",
   "id": "4c85e47b",
   "metadata": {},
   "source": [
    "### Training results"
   ]
  },
  {
   "cell_type": "markdown",
   "id": "599a91e5",
   "metadata": {},
   "source": [
    "Creating a common dataframe for all results with the best ROC_AUC values"
   ]
  },
  {
   "cell_type": "code",
   "execution_count": 55,
   "id": "38edbbfc",
   "metadata": {},
   "outputs": [],
   "source": [
    "result = pd.concat([best_result_lr, best_result_svc, best_result_cb])\n",
    "result.index = ['LogisticRegression', 'SVC', 'CatBoostClassifier']"
   ]
  },
  {
   "cell_type": "markdown",
   "id": "7ad60593",
   "metadata": {},
   "source": [
    "Determing the best model"
   ]
  },
  {
   "cell_type": "code",
   "execution_count": 56,
   "id": "66b2efd2",
   "metadata": {},
   "outputs": [
    {
     "data": {
      "text/html": [
       "<div>\n",
       "<style scoped>\n",
       "    .dataframe tbody tr th:only-of-type {\n",
       "        vertical-align: middle;\n",
       "    }\n",
       "\n",
       "    .dataframe tbody tr th {\n",
       "        vertical-align: top;\n",
       "    }\n",
       "\n",
       "    .dataframe thead th {\n",
       "        text-align: right;\n",
       "    }\n",
       "</style>\n",
       "<table border=\"1\" class=\"dataframe\">\n",
       "  <thead>\n",
       "    <tr style=\"text-align: right;\">\n",
       "      <th></th>\n",
       "      <th>mean_test_score</th>\n",
       "    </tr>\n",
       "  </thead>\n",
       "  <tbody>\n",
       "    <tr>\n",
       "      <th>LogisticRegression</th>\n",
       "      <td>0.759670</td>\n",
       "    </tr>\n",
       "    <tr>\n",
       "      <th>SVC</th>\n",
       "      <td>0.822571</td>\n",
       "    </tr>\n",
       "    <tr>\n",
       "      <th>CatBoostClassifier</th>\n",
       "      <td>0.878759</td>\n",
       "    </tr>\n",
       "  </tbody>\n",
       "</table>\n",
       "</div>"
      ],
      "text/plain": [
       "                    mean_test_score\n",
       "LogisticRegression         0.759670\n",
       "SVC                        0.822571\n",
       "CatBoostClassifier         0.878759"
      ]
     },
     "execution_count": 56,
     "metadata": {},
     "output_type": "execute_result"
    }
   ],
   "source": [
    "result"
   ]
  },
  {
   "cell_type": "code",
   "execution_count": 57,
   "id": "ebd25897",
   "metadata": {},
   "outputs": [
    {
     "data": {
      "text/plain": [
       "{'logging_level': 'Silent',\n",
       " 'auto_class_weights': 'Balanced',\n",
       " 'eval_metric': 'AUC:hints=skip_train~false',\n",
       " 'early_stopping_rounds': 20,\n",
       " 'cat_features': ['Type',\n",
       "  'PaperlessBilling',\n",
       "  'PaymentMethod',\n",
       "  'Partner',\n",
       "  'InternetService',\n",
       "  'OnlineSecurity',\n",
       "  'OnlineBackup',\n",
       "  'DeviceProtection',\n",
       "  'TechSupport',\n",
       "  'StreamingTV',\n",
       "  'StreamingMovies',\n",
       "  'MultipleLines'],\n",
       " 'depth': 3,\n",
       " 'iterations': 1000,\n",
       " 'learning_rate': 0.4,\n",
       " 'l2_leaf_reg': 0.5}"
      ]
     },
     "execution_count": 57,
     "metadata": {},
     "output_type": "execute_result"
    }
   ],
   "source": [
    "cb.get_params()"
   ]
  },
  {
   "cell_type": "markdown",
   "id": "5eeb4da4",
   "metadata": {},
   "source": [
    "According to the results of training and validation, the best model was CatBoostClassifier{'depth': 3,\n",
    " 'iterations': 1000,\n",
    " 'learning_rate': 0.4,\n",
    " 'l2_leaf_reg': 0.5} with its own encoding. Let's see which features most affected the training."
   ]
  },
  {
   "cell_type": "code",
   "execution_count": 58,
   "id": "d896e369-b0b1-4ac3-be71-a197820a2644",
   "metadata": {},
   "outputs": [
    {
     "data": {
      "text/html": [
       "<div>\n",
       "<style scoped>\n",
       "    .dataframe tbody tr th:only-of-type {\n",
       "        vertical-align: middle;\n",
       "    }\n",
       "\n",
       "    .dataframe tbody tr th {\n",
       "        vertical-align: top;\n",
       "    }\n",
       "\n",
       "    .dataframe thead th {\n",
       "        text-align: right;\n",
       "    }\n",
       "</style>\n",
       "<table border=\"1\" class=\"dataframe\">\n",
       "  <thead>\n",
       "    <tr style=\"text-align: right;\">\n",
       "      <th></th>\n",
       "      <th>0</th>\n",
       "    </tr>\n",
       "  </thead>\n",
       "  <tbody>\n",
       "    <tr>\n",
       "      <th>count_days</th>\n",
       "      <td>35.465251</td>\n",
       "    </tr>\n",
       "    <tr>\n",
       "      <th>TotalCharges</th>\n",
       "      <td>16.573615</td>\n",
       "    </tr>\n",
       "    <tr>\n",
       "      <th>MonthlyCharges</th>\n",
       "      <td>12.309397</td>\n",
       "    </tr>\n",
       "    <tr>\n",
       "      <th>num_days_from_last_payment</th>\n",
       "      <td>12.096121</td>\n",
       "    </tr>\n",
       "    <tr>\n",
       "      <th>num_days_to_next_payment</th>\n",
       "      <td>10.069473</td>\n",
       "    </tr>\n",
       "    <tr>\n",
       "      <th>PaymentMethod</th>\n",
       "      <td>2.728714</td>\n",
       "    </tr>\n",
       "    <tr>\n",
       "      <th>Type</th>\n",
       "      <td>1.645319</td>\n",
       "    </tr>\n",
       "    <tr>\n",
       "      <th>Partner</th>\n",
       "      <td>1.398242</td>\n",
       "    </tr>\n",
       "    <tr>\n",
       "      <th>InternetService</th>\n",
       "      <td>1.228983</td>\n",
       "    </tr>\n",
       "    <tr>\n",
       "      <th>PaperlessBilling</th>\n",
       "      <td>1.041826</td>\n",
       "    </tr>\n",
       "    <tr>\n",
       "      <th>MultipleLines</th>\n",
       "      <td>0.919718</td>\n",
       "    </tr>\n",
       "    <tr>\n",
       "      <th>OnlineSecurity</th>\n",
       "      <td>0.915706</td>\n",
       "    </tr>\n",
       "    <tr>\n",
       "      <th>DeviceProtection</th>\n",
       "      <td>0.786936</td>\n",
       "    </tr>\n",
       "    <tr>\n",
       "      <th>SeniorCitizen</th>\n",
       "      <td>0.644489</td>\n",
       "    </tr>\n",
       "    <tr>\n",
       "      <th>TechSupport</th>\n",
       "      <td>0.602629</td>\n",
       "    </tr>\n",
       "    <tr>\n",
       "      <th>StreamingMovies</th>\n",
       "      <td>0.577526</td>\n",
       "    </tr>\n",
       "    <tr>\n",
       "      <th>OnlineBackup</th>\n",
       "      <td>0.535800</td>\n",
       "    </tr>\n",
       "    <tr>\n",
       "      <th>StreamingTV</th>\n",
       "      <td>0.460255</td>\n",
       "    </tr>\n",
       "  </tbody>\n",
       "</table>\n",
       "</div>"
      ],
      "text/plain": [
       "                                    0\n",
       "count_days                  35.465251\n",
       "TotalCharges                16.573615\n",
       "MonthlyCharges              12.309397\n",
       "num_days_from_last_payment  12.096121\n",
       "num_days_to_next_payment    10.069473\n",
       "PaymentMethod                2.728714\n",
       "Type                         1.645319\n",
       "Partner                      1.398242\n",
       "InternetService              1.228983\n",
       "PaperlessBilling             1.041826\n",
       "MultipleLines                0.919718\n",
       "OnlineSecurity               0.915706\n",
       "DeviceProtection             0.786936\n",
       "SeniorCitizen                0.644489\n",
       "TechSupport                  0.602629\n",
       "StreamingMovies              0.577526\n",
       "OnlineBackup                 0.535800\n",
       "StreamingTV                  0.460255"
      ]
     },
     "execution_count": 58,
     "metadata": {},
     "output_type": "execute_result"
    }
   ],
   "source": [
    "pd.DataFrame(cb.feature_importances_, index=cb.feature_names_).sort_values(0, ascending=False)"
   ]
  },
  {
   "cell_type": "markdown",
   "id": "406cb205",
   "metadata": {},
   "source": [
    "The training was most affected by how many days the contract lasts, and the total amount of payments made by the company's customers, additional services affected the result the least."
   ]
  },
  {
   "cell_type": "markdown",
   "id": "cea7082c",
   "metadata": {},
   "source": [
    "## Testing"
   ]
  },
  {
   "cell_type": "markdown",
   "id": "da1fdafc",
   "metadata": {},
   "source": [
    "Let's test the best model and check the score."
   ]
  },
  {
   "cell_type": "code",
   "execution_count": 59,
   "id": "873cb124-06ef-4df7-b8fa-f76a9fbb8282",
   "metadata": {},
   "outputs": [
    {
     "data": {
      "text/plain": [
       "0.9221632203597211"
      ]
     },
     "execution_count": 59,
     "metadata": {},
     "output_type": "execute_result"
    }
   ],
   "source": [
    "roc_auc_score(y_test, cb.predict_proba(X_test)[:, 1])"
   ]
  },
  {
   "cell_type": "markdown",
   "id": "8f7cdf8c",
   "metadata": {},
   "source": [
    "We got a metric above 0.9. Plot the ROC-AUC graph"
   ]
  },
  {
   "cell_type": "code",
   "execution_count": 60,
   "id": "126c23ff-2512-4739-926f-4089f4ae4184",
   "metadata": {},
   "outputs": [
    {
     "data": {
      "image/png": "[encoded data removed]",
      "text/plain": [
       "<Figure size 432x288 with 1 Axes>"
      ]
     },
     "metadata": {},
     "output_type": "display_data"
    }
   ],
   "source": [
    "RocCurveDisplay.from_estimator(cb, X_test, y_test)\n",
    "plt.grid();"
   ]
  },
  {
   "cell_type": "markdown",
   "id": "cf599e9c",
   "metadata": {},
   "source": [
    "Let's build confusion matrix and check determine each classes"
   ]
  },
  {
   "cell_type": "code",
   "execution_count": 61,
   "id": "c9f9cb68",
   "metadata": {},
   "outputs": [
    {
     "data": {
      "image/png": "[encoded data removed]",
      "text/plain": [
       "<Figure size 432x288 with 2 Axes>"
      ]
     },
     "metadata": {},
     "output_type": "display_data"
    }
   ],
   "source": [
    "ConfusionMatrixDisplay.from_estimator(cb, X_test, y_test, normalize='true', cmap='Blues');"
   ]
  },
  {
   "cell_type": "markdown",
   "id": "3ac0e3ac",
   "metadata": {},
   "source": [
    "Since metric Accuracy is more understandable for business we'll use it for demonstration results."
   ]
  },
  {
   "cell_type": "code",
   "execution_count": 62,
   "id": "8767e198",
   "metadata": {},
   "outputs": [
    {
     "data": {
      "text/plain": [
       "0.9051675184554231"
      ]
     },
     "execution_count": 62,
     "metadata": {},
     "output_type": "execute_result"
    }
   ],
   "source": [
    "accuracy_score(y_test, cb.predict(X_test))"
   ]
  },
  {
   "cell_type": "markdown",
   "id": "a428379d-5cc7-4e27-b3c9-6445cfe6a822",
   "metadata": {},
   "source": [
    "One test sample can't show how well our model works when receiving another sample. Using the bootstrap method, we can get a confidence interval that will reflect the real value of the accuracy score that will be included in it."
   ]
  },
  {
   "cell_type": "code",
   "execution_count": 63,
   "id": "ddf0ccfc-e8d9-415b-a5f0-694372f903ca",
   "metadata": {
    "tags": []
   },
   "outputs": [
    {
     "data": {
      "image/png": "[encoded data removed]",
      "text/plain": [
       "<Figure size 1080x720 with 1 Axes>"
      ]
     },
     "metadata": {},
     "output_type": "display_data"
    },
    {
     "name": "stdout",
     "output_type": "stream",
     "text": [
      "Average accuracy: 0.905\n",
      "Confidence interval 0.891 0.919\n"
     ]
    }
   ],
   "source": [
    "y_pred = pd.Series(cb.predict(X_test), index=y_test.index)\n",
    "accuracy = []\n",
    "state = np.random.RandomState(RANDOM_STATE)\n",
    "for i in range(10000):\n",
    "    subsample = y_test.sample(n=len(y_test), replace=True, random_state=state)\n",
    "    accuracy.append(accuracy_score(subsample, y_pred[subsample.index]))\n",
    "    \n",
    "accuracy=pd.Series(accuracy)\n",
    "plt.figure(figsize=(15,10))\n",
    "ax = sns.histplot(accuracy, kde=False, bins=100)\n",
    "bars = ax.patches\n",
    "for bar in bars:\n",
    "    if bar.get_x() >= accuracy.quantile(0.05) and\\\n",
    "    bar.get_x() + bar.get_width() <= accuracy.quantile(0.95):\n",
    "        bar.set_facecolor('b')\n",
    "plt.axvline(accuracy.mean(), color='r', linestyle='--', label='Mean')\n",
    "plt.title('Confidence interval of profit distribution')\n",
    "plt.xlabel('Profit value')\n",
    "plt.grid()\n",
    "plt.show()\n",
    "print('Average accuracy:', round(accuracy.mean(),3))\n",
    "print('Confidence interval', round(accuracy.quantile(.025),3), round(accuracy.quantile(.975),3))"
   ]
  },
  {
   "cell_type": "markdown",
   "id": "9e28b461",
   "metadata": {},
   "source": [
    "## Conclusion"
   ]
  },
  {
   "cell_type": "markdown",
   "id": "ea620010",
   "metadata": {},
   "source": [
    "We analyzed the data obtained, for this we connected all the downloaded files, checked the duplicates and filled in the gaps. After that, we created an additional attributes - the number of days of the contract, number days to next payment and number days from last payment and checked the relationship of the data. Some features had a very weak correlation with the target feature, so we got rid of them. During the analysis, an imbalance of the classes of the target feature was found, which was taken into account when splitting into a training and test sample, as well as in the process of training the model to maximize the Accuracy metric.\n",
    "At the training stage, three LogisticRegression, SVC and CatBoostClassifier models were trained. According to the results of the training, the latter showed the best quality.\n",
    "After testing the model on a test sample, we obtained a ROC-AUC value of 0.922, which satisfies the conditions of the problem. Additionally, we checked the model through the confusion matrix, where it is clear that the first class is determined with an accuracy of 73%, and the zero class is 94%, and the Accuracy metric, which showed an accuracy of 90.5%. Using bootstrap we got a confidence interval (0.891, 0.919), which includes real value of Accuracy score. Depending on the needs of the business, we can also vary the values of TP and TN by changing the threshold, thus affecting the costs and income of the company."
   ]
  },
  {
   "cell_type": "code",
   "execution_count": null,
   "id": "4ca4f874-1abb-4adc-b02f-5d887e23e362",
   "metadata": {},
   "outputs": [],
   "source": []
  }
 ],
 "metadata": {
  "ExecuteTimeLog": [
   {
    "duration": 4124,
    "start_time": "2023-05-17T05:44:04.957Z"
   },
   {
    "duration": 3924,
    "start_time": "2023-05-17T05:44:09.083Z"
   },
   {
    "duration": 2340,
    "start_time": "2023-05-17T05:44:13.008Z"
   },
   {
    "duration": 2150,
    "start_time": "2023-05-17T05:44:15.349Z"
   },
   {
    "duration": 749,
    "start_time": "2023-05-17T05:44:17.501Z"
   },
   {
    "duration": 13,
    "start_time": "2023-05-17T05:44:18.251Z"
   },
   {
    "duration": 195,
    "start_time": "2023-05-17T05:44:18.266Z"
   },
   {
    "duration": 13,
    "start_time": "2023-05-17T05:44:18.462Z"
   },
   {
    "duration": 73,
    "start_time": "2023-05-17T05:44:18.476Z"
   },
   {
    "duration": 48,
    "start_time": "2023-05-17T05:44:18.550Z"
   },
   {
    "duration": 23,
    "start_time": "2023-05-17T05:44:18.599Z"
   },
   {
    "duration": 83,
    "start_time": "2023-05-17T05:44:18.623Z"
   },
   {
    "duration": 70,
    "start_time": "2023-05-17T05:44:18.707Z"
   },
   {
    "duration": 29,
    "start_time": "2023-05-17T05:44:18.779Z"
   },
   {
    "duration": 51,
    "start_time": "2023-05-17T05:44:18.814Z"
   },
   {
    "duration": 60,
    "start_time": "2023-05-17T05:44:18.866Z"
   },
   {
    "duration": 203,
    "start_time": "2023-05-17T05:44:18.943Z"
   },
   {
    "duration": 7,
    "start_time": "2023-05-17T05:44:19.156Z"
   },
   {
    "duration": 32,
    "start_time": "2023-05-17T05:44:19.166Z"
   },
   {
    "duration": 3268,
    "start_time": "2023-05-17T05:44:19.199Z"
   },
   {
    "duration": 3,
    "start_time": "2023-05-17T05:44:22.469Z"
   },
   {
    "duration": 193,
    "start_time": "2023-05-17T05:44:22.473Z"
   },
   {
    "duration": 531,
    "start_time": "2023-05-17T05:44:22.668Z"
   },
   {
    "duration": 4,
    "start_time": "2023-05-17T05:45:12.748Z"
   },
   {
    "duration": 6,
    "start_time": "2023-05-17T05:49:17.239Z"
   },
   {
    "duration": 8,
    "start_time": "2023-05-17T05:49:39.703Z"
   },
   {
    "duration": 2753,
    "start_time": "2023-05-17T06:08:53.779Z"
   },
   {
    "duration": 3105,
    "start_time": "2023-05-17T06:08:56.534Z"
   },
   {
    "duration": 3119,
    "start_time": "2023-05-17T06:08:59.641Z"
   },
   {
    "duration": 1814,
    "start_time": "2023-05-17T06:09:02.762Z"
   },
   {
    "duration": 472,
    "start_time": "2023-05-17T06:09:04.579Z"
   },
   {
    "duration": 14,
    "start_time": "2023-05-17T06:09:05.053Z"
   },
   {
    "duration": 13,
    "start_time": "2023-05-17T06:09:05.068Z"
   },
   {
    "duration": 96,
    "start_time": "2023-05-17T06:09:05.083Z"
   },
   {
    "duration": 80,
    "start_time": "2023-05-17T06:09:05.181Z"
   },
   {
    "duration": 101,
    "start_time": "2023-05-17T06:09:05.262Z"
   },
   {
    "duration": 8,
    "start_time": "2023-05-17T06:09:05.364Z"
   },
   {
    "duration": 45,
    "start_time": "2023-05-17T06:09:05.373Z"
   },
   {
    "duration": 42,
    "start_time": "2023-05-17T06:09:05.420Z"
   },
   {
    "duration": 37,
    "start_time": "2023-05-17T06:09:05.465Z"
   },
   {
    "duration": 40,
    "start_time": "2023-05-17T06:09:05.503Z"
   },
   {
    "duration": 24,
    "start_time": "2023-05-17T06:09:05.545Z"
   },
   {
    "duration": 63,
    "start_time": "2023-05-17T06:09:05.571Z"
   },
   {
    "duration": 286,
    "start_time": "2023-05-17T06:09:05.636Z"
   },
   {
    "duration": 17,
    "start_time": "2023-05-17T06:09:05.931Z"
   },
   {
    "duration": 24,
    "start_time": "2023-05-17T06:09:05.951Z"
   },
   {
    "duration": 3749,
    "start_time": "2023-05-17T06:09:05.977Z"
   },
   {
    "duration": 8,
    "start_time": "2023-05-17T06:09:09.738Z"
   },
   {
    "duration": 32,
    "start_time": "2023-05-17T06:09:09.748Z"
   },
   {
    "duration": 708,
    "start_time": "2023-05-17T06:09:09.782Z"
   },
   {
    "duration": 4150,
    "start_time": "2023-05-17T21:00:01.941Z"
   },
   {
    "duration": 4685,
    "start_time": "2023-05-17T21:00:06.094Z"
   },
   {
    "duration": 2350,
    "start_time": "2023-05-17T21:00:10.785Z"
   },
   {
    "duration": 1855,
    "start_time": "2023-05-17T21:00:13.138Z"
   },
   {
    "duration": 403,
    "start_time": "2023-05-17T21:00:15.003Z"
   },
   {
    "duration": 17,
    "start_time": "2023-05-17T21:00:15.408Z"
   },
   {
    "duration": 10,
    "start_time": "2023-05-17T21:00:15.426Z"
   },
   {
    "duration": 14,
    "start_time": "2023-05-17T21:00:15.438Z"
   },
   {
    "duration": 11,
    "start_time": "2023-05-17T21:00:15.454Z"
   },
   {
    "duration": 73,
    "start_time": "2023-05-17T21:00:15.466Z"
   },
   {
    "duration": 4,
    "start_time": "2023-05-17T21:00:15.541Z"
   },
   {
    "duration": 34,
    "start_time": "2023-05-17T21:00:15.547Z"
   },
   {
    "duration": 16,
    "start_time": "2023-05-17T21:00:15.588Z"
   },
   {
    "duration": 23,
    "start_time": "2023-05-17T21:00:15.607Z"
   },
   {
    "duration": 11,
    "start_time": "2023-05-17T21:00:15.632Z"
   },
   {
    "duration": 34,
    "start_time": "2023-05-17T21:00:15.645Z"
   },
   {
    "duration": 25,
    "start_time": "2023-05-17T21:00:15.682Z"
   },
   {
    "duration": 76,
    "start_time": "2023-05-17T21:00:15.709Z"
   },
   {
    "duration": 39,
    "start_time": "2023-05-17T21:00:15.787Z"
   },
   {
    "duration": 235,
    "start_time": "2023-05-17T21:00:15.828Z"
   },
   {
    "duration": 51,
    "start_time": "2023-05-17T21:00:16.065Z"
   },
   {
    "duration": 22,
    "start_time": "2023-05-17T21:00:16.118Z"
   },
   {
    "duration": 56,
    "start_time": "2023-05-17T21:00:16.142Z"
   },
   {
    "duration": 3749,
    "start_time": "2023-05-17T21:00:16.200Z"
   },
   {
    "duration": 6,
    "start_time": "2023-05-17T21:00:19.952Z"
   },
   {
    "duration": 76,
    "start_time": "2023-05-17T21:00:19.960Z"
   },
   {
    "duration": 7,
    "start_time": "2023-05-17T21:00:20.038Z"
   },
   {
    "duration": 583,
    "start_time": "2023-05-17T21:00:20.047Z"
   },
   {
    "duration": 18,
    "start_time": "2023-05-17T21:00:20.632Z"
   },
   {
    "duration": 2313,
    "start_time": "2023-05-17T21:00:44.438Z"
   },
   {
    "duration": 3415,
    "start_time": "2023-05-17T21:00:46.754Z"
   },
   {
    "duration": 2265,
    "start_time": "2023-05-17T21:00:50.173Z"
   },
   {
    "duration": 1564,
    "start_time": "2023-05-17T21:00:52.440Z"
   },
   {
    "duration": 105,
    "start_time": "2023-05-17T21:00:54.006Z"
   },
   {
    "duration": 15,
    "start_time": "2023-05-17T21:00:54.113Z"
   },
   {
    "duration": 36,
    "start_time": "2023-05-17T21:00:54.129Z"
   },
   {
    "duration": 49,
    "start_time": "2023-05-17T21:00:54.166Z"
   },
   {
    "duration": 26,
    "start_time": "2023-05-17T21:00:54.217Z"
   },
   {
    "duration": 61,
    "start_time": "2023-05-17T21:00:54.244Z"
   },
   {
    "duration": 15,
    "start_time": "2023-05-17T21:00:54.306Z"
   },
   {
    "duration": 51,
    "start_time": "2023-05-17T21:00:54.323Z"
   },
   {
    "duration": 37,
    "start_time": "2023-05-17T21:00:54.377Z"
   },
   {
    "duration": 59,
    "start_time": "2023-05-17T21:00:54.416Z"
   },
   {
    "duration": 35,
    "start_time": "2023-05-17T21:00:54.480Z"
   },
   {
    "duration": 38,
    "start_time": "2023-05-17T21:00:54.517Z"
   },
   {
    "duration": 13,
    "start_time": "2023-05-17T21:00:54.557Z"
   },
   {
    "duration": 50,
    "start_time": "2023-05-17T21:00:54.571Z"
   },
   {
    "duration": 40,
    "start_time": "2023-05-17T21:00:54.622Z"
   },
   {
    "duration": 213,
    "start_time": "2023-05-17T21:00:54.664Z"
   },
   {
    "duration": 38,
    "start_time": "2023-05-17T21:00:54.882Z"
   },
   {
    "duration": 40,
    "start_time": "2023-05-17T21:00:54.922Z"
   },
   {
    "duration": 67,
    "start_time": "2023-05-17T21:00:54.964Z"
   },
   {
    "duration": 3368,
    "start_time": "2023-05-17T21:00:55.033Z"
   },
   {
    "duration": 5,
    "start_time": "2023-05-17T21:00:58.403Z"
   },
   {
    "duration": 50,
    "start_time": "2023-05-17T21:00:58.410Z"
   },
   {
    "duration": 5,
    "start_time": "2023-05-17T21:00:58.462Z"
   },
   {
    "duration": 556,
    "start_time": "2023-05-17T21:00:58.469Z"
   },
   {
    "duration": 19,
    "start_time": "2023-05-17T21:00:59.027Z"
   },
   {
    "duration": 2387,
    "start_time": "2023-05-17T21:01:56.537Z"
   },
   {
    "duration": 2389,
    "start_time": "2023-05-17T21:02:06.448Z"
   },
   {
    "duration": 2364,
    "start_time": "2023-05-17T21:02:08.840Z"
   },
   {
    "duration": 2326,
    "start_time": "2023-05-17T21:02:11.206Z"
   },
   {
    "duration": 1600,
    "start_time": "2023-05-17T21:02:13.534Z"
   },
   {
    "duration": 110,
    "start_time": "2023-05-17T21:02:15.135Z"
   },
   {
    "duration": 15,
    "start_time": "2023-05-17T21:02:15.247Z"
   },
   {
    "duration": 18,
    "start_time": "2023-05-17T21:02:15.264Z"
   },
   {
    "duration": 31,
    "start_time": "2023-05-17T21:02:15.283Z"
   },
   {
    "duration": 10,
    "start_time": "2023-05-17T21:02:15.316Z"
   },
   {
    "duration": 59,
    "start_time": "2023-05-17T21:02:15.329Z"
   },
   {
    "duration": 8,
    "start_time": "2023-05-17T21:02:15.393Z"
   },
   {
    "duration": 24,
    "start_time": "2023-05-17T21:02:15.402Z"
   },
   {
    "duration": 13,
    "start_time": "2023-05-17T21:02:15.427Z"
   },
   {
    "duration": 44,
    "start_time": "2023-05-17T21:02:15.442Z"
   },
   {
    "duration": 30,
    "start_time": "2023-05-17T21:02:15.494Z"
   },
   {
    "duration": 27,
    "start_time": "2023-05-17T21:02:15.526Z"
   },
   {
    "duration": 9,
    "start_time": "2023-05-17T21:02:15.556Z"
   },
   {
    "duration": 59,
    "start_time": "2023-05-17T21:02:15.567Z"
   },
   {
    "duration": 15,
    "start_time": "2023-05-17T21:02:15.628Z"
   },
   {
    "duration": 200,
    "start_time": "2023-05-17T21:02:15.645Z"
   },
   {
    "duration": 54,
    "start_time": "2023-05-17T21:02:15.847Z"
   },
   {
    "duration": 8,
    "start_time": "2023-05-17T21:02:15.903Z"
   },
   {
    "duration": 14,
    "start_time": "2023-05-17T21:02:15.913Z"
   },
   {
    "duration": 3737,
    "start_time": "2023-05-17T21:02:15.929Z"
   },
   {
    "duration": 7,
    "start_time": "2023-05-17T21:02:19.668Z"
   },
   {
    "duration": 40,
    "start_time": "2023-05-17T21:02:19.683Z"
   },
   {
    "duration": 6,
    "start_time": "2023-05-17T21:02:19.725Z"
   },
   {
    "duration": 566,
    "start_time": "2023-05-17T21:02:19.734Z"
   },
   {
    "duration": 17,
    "start_time": "2023-05-17T21:02:20.302Z"
   },
   {
    "duration": 114,
    "start_time": "2023-05-17T21:13:19.447Z"
   },
   {
    "duration": 2744,
    "start_time": "2023-05-17T21:14:54.119Z"
   },
   {
    "duration": 2677,
    "start_time": "2023-05-17T21:15:11.272Z"
   },
   {
    "duration": 3262,
    "start_time": "2023-05-17T21:15:13.951Z"
   },
   {
    "duration": 2237,
    "start_time": "2023-05-17T21:15:17.215Z"
   },
   {
    "duration": 1697,
    "start_time": "2023-05-17T21:15:19.454Z"
   },
   {
    "duration": 106,
    "start_time": "2023-05-17T21:15:21.153Z"
   },
   {
    "duration": 34,
    "start_time": "2023-05-17T21:15:21.261Z"
   },
   {
    "duration": 22,
    "start_time": "2023-05-17T21:15:21.300Z"
   },
   {
    "duration": 23,
    "start_time": "2023-05-17T21:15:21.324Z"
   },
   {
    "duration": 76,
    "start_time": "2023-05-17T21:15:21.348Z"
   },
   {
    "duration": 60,
    "start_time": "2023-05-17T21:15:21.426Z"
   },
   {
    "duration": 5,
    "start_time": "2023-05-17T21:15:21.489Z"
   },
   {
    "duration": 43,
    "start_time": "2023-05-17T21:15:21.496Z"
   },
   {
    "duration": 12,
    "start_time": "2023-05-17T21:15:21.541Z"
   },
   {
    "duration": 45,
    "start_time": "2023-05-17T21:15:21.556Z"
   },
   {
    "duration": 42,
    "start_time": "2023-05-17T21:15:21.604Z"
   },
   {
    "duration": 53,
    "start_time": "2023-05-17T21:15:21.649Z"
   },
   {
    "duration": 33,
    "start_time": "2023-05-17T21:15:21.704Z"
   },
   {
    "duration": 101,
    "start_time": "2023-05-17T21:15:21.739Z"
   },
   {
    "duration": 21,
    "start_time": "2023-05-17T21:15:21.842Z"
   },
   {
    "duration": 199,
    "start_time": "2023-05-17T21:15:21.865Z"
   },
   {
    "duration": 43,
    "start_time": "2023-05-17T21:15:22.066Z"
   },
   {
    "duration": 47,
    "start_time": "2023-05-17T21:15:22.111Z"
   },
   {
    "duration": 51,
    "start_time": "2023-05-17T21:15:22.160Z"
   },
   {
    "duration": 3572,
    "start_time": "2023-05-17T21:15:22.213Z"
   },
   {
    "duration": 5,
    "start_time": "2023-05-17T21:15:25.787Z"
   },
   {
    "duration": 26,
    "start_time": "2023-05-17T21:15:25.793Z"
   },
   {
    "duration": 8,
    "start_time": "2023-05-17T21:15:25.822Z"
   },
   {
    "duration": 587,
    "start_time": "2023-05-17T21:15:25.831Z"
   },
   {
    "duration": 24,
    "start_time": "2023-05-17T21:15:26.420Z"
   },
   {
    "duration": 3119,
    "start_time": "2023-05-18T05:32:13.846Z"
   },
   {
    "duration": 2968,
    "start_time": "2023-05-18T05:32:16.968Z"
   },
   {
    "duration": 2038,
    "start_time": "2023-05-18T05:32:19.938Z"
   },
   {
    "duration": 1677,
    "start_time": "2023-05-18T05:32:21.978Z"
   },
   {
    "duration": 356,
    "start_time": "2023-05-18T05:32:23.658Z"
   },
   {
    "duration": 19,
    "start_time": "2023-05-18T05:32:24.016Z"
   },
   {
    "duration": 11,
    "start_time": "2023-05-18T05:32:24.037Z"
   },
   {
    "duration": 14,
    "start_time": "2023-05-18T05:32:24.050Z"
   },
   {
    "duration": 19,
    "start_time": "2023-05-18T05:32:24.065Z"
   },
   {
    "duration": 47,
    "start_time": "2023-05-18T05:32:24.085Z"
   },
   {
    "duration": 4,
    "start_time": "2023-05-18T05:32:24.133Z"
   },
   {
    "duration": 21,
    "start_time": "2023-05-18T05:32:24.138Z"
   },
   {
    "duration": 10,
    "start_time": "2023-05-18T05:32:24.161Z"
   },
   {
    "duration": 16,
    "start_time": "2023-05-18T05:32:24.175Z"
   },
   {
    "duration": 15,
    "start_time": "2023-05-18T05:32:24.192Z"
   },
   {
    "duration": 33,
    "start_time": "2023-05-18T05:32:24.208Z"
   },
   {
    "duration": 3,
    "start_time": "2023-05-18T05:32:24.256Z"
   },
   {
    "duration": 79,
    "start_time": "2023-05-18T05:32:24.260Z"
   },
   {
    "duration": 17,
    "start_time": "2023-05-18T05:32:24.341Z"
   },
   {
    "duration": 24,
    "start_time": "2023-05-18T05:32:24.359Z"
   },
   {
    "duration": 15,
    "start_time": "2023-05-18T05:32:24.384Z"
   },
   {
    "duration": 160,
    "start_time": "2023-05-18T05:32:24.400Z"
   },
   {
    "duration": 25,
    "start_time": "2023-05-18T05:32:24.561Z"
   },
   {
    "duration": 6,
    "start_time": "2023-05-18T05:32:24.588Z"
   },
   {
    "duration": 5,
    "start_time": "2023-05-18T05:32:24.596Z"
   },
   {
    "duration": 5,
    "start_time": "2023-05-18T05:32:24.603Z"
   },
   {
    "duration": 11,
    "start_time": "2023-05-18T05:32:24.610Z"
   },
   {
    "duration": 59,
    "start_time": "2023-05-18T05:32:24.623Z"
   },
   {
    "duration": 5,
    "start_time": "2023-05-18T05:32:24.683Z"
   },
   {
    "duration": 3397,
    "start_time": "2023-05-18T05:32:24.690Z"
   },
   {
    "duration": 6,
    "start_time": "2023-05-18T05:32:28.089Z"
   },
   {
    "duration": 26,
    "start_time": "2023-05-18T05:32:28.096Z"
   },
   {
    "duration": 5,
    "start_time": "2023-05-18T05:32:28.124Z"
   },
   {
    "duration": 457,
    "start_time": "2023-05-18T05:32:28.130Z"
   },
   {
    "duration": 18,
    "start_time": "2023-05-18T05:32:28.589Z"
   },
   {
    "duration": 101,
    "start_time": "2023-05-20T14:36:58.592Z"
   },
   {
    "duration": 94,
    "start_time": "2023-05-20T14:39:47.237Z"
   },
   {
    "duration": 77,
    "start_time": "2023-05-20T14:51:10.810Z"
   },
   {
    "duration": 100,
    "start_time": "2023-05-20T14:56:14.743Z"
   },
   {
    "duration": 90,
    "start_time": "2023-05-20T14:57:22.979Z"
   }
  ],
  "kernelspec": {
   "display_name": "Python 3 (ipykernel)",
   "language": "python",
   "name": "python3"
  },
  "language_info": {
   "codemirror_mode": {
    "name": "ipython",
    "version": 3
   },
   "file_extension": ".py",
   "mimetype": "text/x-python",
   "name": "python",
   "nbconvert_exporter": "python",
   "pygments_lexer": "ipython3",
   "version": "3.9.12"
  },
  "toc": {
   "base_numbering": 1,
   "nav_menu": {},
   "number_sections": true,
   "sideBar": true,
   "skip_h1_title": true,
   "title_cell": "Table of Contents",
   "title_sidebar": "Contents",
   "toc_cell": false,
   "toc_position": {},
   "toc_section_display": true,
   "toc_window_display": true
  },
  "varInspector": {
   "cols": {
    "lenName": 16,
    "lenType": 16,
    "lenVar": 40
   },
   "kernels_config": {
    "python": {
     "delete_cmd_postfix": "",
     "delete_cmd_prefix": "del ",
     "library": "var_list.py",
     "varRefreshCmd": "print(var_dic_list())"
    },
    "r": {
     "delete_cmd_postfix": ") ",
     "delete_cmd_prefix": "rm(",
     "library": "var_list.r",
     "varRefreshCmd": "cat(var_dic_list()) "
    }
   },
   "types_to_exclude": [
    "module",
    "function",
    "builtin_function_or_method",
    "instance",
    "_Feature"
   ],
   "window_display": false
  }
 },
 "nbformat": 4,
 "nbformat_minor": 5
}
